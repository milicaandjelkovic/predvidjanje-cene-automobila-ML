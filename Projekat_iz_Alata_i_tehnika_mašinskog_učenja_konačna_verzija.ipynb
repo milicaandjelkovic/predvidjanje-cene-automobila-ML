{
  "cells": [
    {
      "cell_type": "markdown",
      "source": [
        "### Prvi korak"
      ],
      "metadata": {
        "datalore": {
          "type": "MD",
          "hide_input_from_viewers": false,
          "hide_output_from_viewers": false
        },
        "id": "D9VQEHlIfKwN"
      }
    },
    {
      "cell_type": "code",
      "source": [
        "import seaborn as sns\n",
        "import pandas as pd\n",
        "import numpy as np\n",
        "import matplotlib.pyplot as plt\n",
        "from sklearn.model_selection import train_test_split\n",
        "from sklearn.linear_model import LinearRegression\n",
        "from sklearn import metrics\n",
        "import math\n",
        "from sklearn.metrics import mean_absolute_error\n"
      ],
      "execution_count": 1,
      "outputs": [],
      "metadata": {
        "datalore": {
          "type": "CODE",
          "hide_input_from_viewers": false,
          "hide_output_from_viewers": false
        },
        "id": "RSXudDBXfKwP"
      }
    },
    {
      "cell_type": "code",
      "source": [
        "df_orig = pd.read_csv('CarPrice_Assignment.csv')\n",
        "df=df_orig\n",
        "df.head()"
      ],
      "execution_count": 2,
      "outputs": [
        {
          "output_type": "execute_result",
          "data": {
            "text/plain": [
              "   car_ID  symboling                   CarName fueltype aspiration doornumber  \\\n",
              "0       1          3        alfa-romero giulia      gas        std        two   \n",
              "1       2          3       alfa-romero stelvio      gas        std        two   \n",
              "2       3          1  alfa-romero Quadrifoglio      gas        std        two   \n",
              "3       4          2               audi 100 ls      gas        std       four   \n",
              "4       5          2                audi 100ls      gas        std       four   \n",
              "\n",
              "       carbody drivewheel enginelocation  wheelbase  ...  enginesize  \\\n",
              "0  convertible        rwd          front       88.6  ...         130   \n",
              "1  convertible        rwd          front       88.6  ...         130   \n",
              "2    hatchback        rwd          front       94.5  ...         152   \n",
              "3        sedan        fwd          front       99.8  ...         109   \n",
              "4        sedan        4wd          front       99.4  ...         136   \n",
              "\n",
              "   fuelsystem  boreratio  stroke compressionratio horsepower  peakrpm citympg  \\\n",
              "0        mpfi       3.47    2.68              9.0        111     5000      21   \n",
              "1        mpfi       3.47    2.68              9.0        111     5000      21   \n",
              "2        mpfi       2.68    3.47              9.0        154     5000      19   \n",
              "3        mpfi       3.19    3.40             10.0        102     5500      24   \n",
              "4        mpfi       3.19    3.40              8.0        115     5500      18   \n",
              "\n",
              "   highwaympg    price  \n",
              "0          27  13495.0  \n",
              "1          27  16500.0  \n",
              "2          26  16500.0  \n",
              "3          30  13950.0  \n",
              "4          22  17450.0  \n",
              "\n",
              "[5 rows x 26 columns]"
            ],
            "text/html": [
              "\n",
              "  <div id=\"df-8ce52410-0d9a-48f2-b8d9-db99a015daa1\">\n",
              "    <div class=\"colab-df-container\">\n",
              "      <div>\n",
              "<style scoped>\n",
              "    .dataframe tbody tr th:only-of-type {\n",
              "        vertical-align: middle;\n",
              "    }\n",
              "\n",
              "    .dataframe tbody tr th {\n",
              "        vertical-align: top;\n",
              "    }\n",
              "\n",
              "    .dataframe thead th {\n",
              "        text-align: right;\n",
              "    }\n",
              "</style>\n",
              "<table border=\"1\" class=\"dataframe\">\n",
              "  <thead>\n",
              "    <tr style=\"text-align: right;\">\n",
              "      <th></th>\n",
              "      <th>car_ID</th>\n",
              "      <th>symboling</th>\n",
              "      <th>CarName</th>\n",
              "      <th>fueltype</th>\n",
              "      <th>aspiration</th>\n",
              "      <th>doornumber</th>\n",
              "      <th>carbody</th>\n",
              "      <th>drivewheel</th>\n",
              "      <th>enginelocation</th>\n",
              "      <th>wheelbase</th>\n",
              "      <th>...</th>\n",
              "      <th>enginesize</th>\n",
              "      <th>fuelsystem</th>\n",
              "      <th>boreratio</th>\n",
              "      <th>stroke</th>\n",
              "      <th>compressionratio</th>\n",
              "      <th>horsepower</th>\n",
              "      <th>peakrpm</th>\n",
              "      <th>citympg</th>\n",
              "      <th>highwaympg</th>\n",
              "      <th>price</th>\n",
              "    </tr>\n",
              "  </thead>\n",
              "  <tbody>\n",
              "    <tr>\n",
              "      <th>0</th>\n",
              "      <td>1</td>\n",
              "      <td>3</td>\n",
              "      <td>alfa-romero giulia</td>\n",
              "      <td>gas</td>\n",
              "      <td>std</td>\n",
              "      <td>two</td>\n",
              "      <td>convertible</td>\n",
              "      <td>rwd</td>\n",
              "      <td>front</td>\n",
              "      <td>88.6</td>\n",
              "      <td>...</td>\n",
              "      <td>130</td>\n",
              "      <td>mpfi</td>\n",
              "      <td>3.47</td>\n",
              "      <td>2.68</td>\n",
              "      <td>9.0</td>\n",
              "      <td>111</td>\n",
              "      <td>5000</td>\n",
              "      <td>21</td>\n",
              "      <td>27</td>\n",
              "      <td>13495.0</td>\n",
              "    </tr>\n",
              "    <tr>\n",
              "      <th>1</th>\n",
              "      <td>2</td>\n",
              "      <td>3</td>\n",
              "      <td>alfa-romero stelvio</td>\n",
              "      <td>gas</td>\n",
              "      <td>std</td>\n",
              "      <td>two</td>\n",
              "      <td>convertible</td>\n",
              "      <td>rwd</td>\n",
              "      <td>front</td>\n",
              "      <td>88.6</td>\n",
              "      <td>...</td>\n",
              "      <td>130</td>\n",
              "      <td>mpfi</td>\n",
              "      <td>3.47</td>\n",
              "      <td>2.68</td>\n",
              "      <td>9.0</td>\n",
              "      <td>111</td>\n",
              "      <td>5000</td>\n",
              "      <td>21</td>\n",
              "      <td>27</td>\n",
              "      <td>16500.0</td>\n",
              "    </tr>\n",
              "    <tr>\n",
              "      <th>2</th>\n",
              "      <td>3</td>\n",
              "      <td>1</td>\n",
              "      <td>alfa-romero Quadrifoglio</td>\n",
              "      <td>gas</td>\n",
              "      <td>std</td>\n",
              "      <td>two</td>\n",
              "      <td>hatchback</td>\n",
              "      <td>rwd</td>\n",
              "      <td>front</td>\n",
              "      <td>94.5</td>\n",
              "      <td>...</td>\n",
              "      <td>152</td>\n",
              "      <td>mpfi</td>\n",
              "      <td>2.68</td>\n",
              "      <td>3.47</td>\n",
              "      <td>9.0</td>\n",
              "      <td>154</td>\n",
              "      <td>5000</td>\n",
              "      <td>19</td>\n",
              "      <td>26</td>\n",
              "      <td>16500.0</td>\n",
              "    </tr>\n",
              "    <tr>\n",
              "      <th>3</th>\n",
              "      <td>4</td>\n",
              "      <td>2</td>\n",
              "      <td>audi 100 ls</td>\n",
              "      <td>gas</td>\n",
              "      <td>std</td>\n",
              "      <td>four</td>\n",
              "      <td>sedan</td>\n",
              "      <td>fwd</td>\n",
              "      <td>front</td>\n",
              "      <td>99.8</td>\n",
              "      <td>...</td>\n",
              "      <td>109</td>\n",
              "      <td>mpfi</td>\n",
              "      <td>3.19</td>\n",
              "      <td>3.40</td>\n",
              "      <td>10.0</td>\n",
              "      <td>102</td>\n",
              "      <td>5500</td>\n",
              "      <td>24</td>\n",
              "      <td>30</td>\n",
              "      <td>13950.0</td>\n",
              "    </tr>\n",
              "    <tr>\n",
              "      <th>4</th>\n",
              "      <td>5</td>\n",
              "      <td>2</td>\n",
              "      <td>audi 100ls</td>\n",
              "      <td>gas</td>\n",
              "      <td>std</td>\n",
              "      <td>four</td>\n",
              "      <td>sedan</td>\n",
              "      <td>4wd</td>\n",
              "      <td>front</td>\n",
              "      <td>99.4</td>\n",
              "      <td>...</td>\n",
              "      <td>136</td>\n",
              "      <td>mpfi</td>\n",
              "      <td>3.19</td>\n",
              "      <td>3.40</td>\n",
              "      <td>8.0</td>\n",
              "      <td>115</td>\n",
              "      <td>5500</td>\n",
              "      <td>18</td>\n",
              "      <td>22</td>\n",
              "      <td>17450.0</td>\n",
              "    </tr>\n",
              "  </tbody>\n",
              "</table>\n",
              "<p>5 rows × 26 columns</p>\n",
              "</div>\n",
              "      <button class=\"colab-df-convert\" onclick=\"convertToInteractive('df-8ce52410-0d9a-48f2-b8d9-db99a015daa1')\"\n",
              "              title=\"Convert this dataframe to an interactive table.\"\n",
              "              style=\"display:none;\">\n",
              "        \n",
              "  <svg xmlns=\"http://www.w3.org/2000/svg\" height=\"24px\"viewBox=\"0 0 24 24\"\n",
              "       width=\"24px\">\n",
              "    <path d=\"M0 0h24v24H0V0z\" fill=\"none\"/>\n",
              "    <path d=\"M18.56 5.44l.94 2.06.94-2.06 2.06-.94-2.06-.94-.94-2.06-.94 2.06-2.06.94zm-11 1L8.5 8.5l.94-2.06 2.06-.94-2.06-.94L8.5 2.5l-.94 2.06-2.06.94zm10 10l.94 2.06.94-2.06 2.06-.94-2.06-.94-.94-2.06-.94 2.06-2.06.94z\"/><path d=\"M17.41 7.96l-1.37-1.37c-.4-.4-.92-.59-1.43-.59-.52 0-1.04.2-1.43.59L10.3 9.45l-7.72 7.72c-.78.78-.78 2.05 0 2.83L4 21.41c.39.39.9.59 1.41.59.51 0 1.02-.2 1.41-.59l7.78-7.78 2.81-2.81c.8-.78.8-2.07 0-2.86zM5.41 20L4 18.59l7.72-7.72 1.47 1.35L5.41 20z\"/>\n",
              "  </svg>\n",
              "      </button>\n",
              "      \n",
              "  <style>\n",
              "    .colab-df-container {\n",
              "      display:flex;\n",
              "      flex-wrap:wrap;\n",
              "      gap: 12px;\n",
              "    }\n",
              "\n",
              "    .colab-df-convert {\n",
              "      background-color: #E8F0FE;\n",
              "      border: none;\n",
              "      border-radius: 50%;\n",
              "      cursor: pointer;\n",
              "      display: none;\n",
              "      fill: #1967D2;\n",
              "      height: 32px;\n",
              "      padding: 0 0 0 0;\n",
              "      width: 32px;\n",
              "    }\n",
              "\n",
              "    .colab-df-convert:hover {\n",
              "      background-color: #E2EBFA;\n",
              "      box-shadow: 0px 1px 2px rgba(60, 64, 67, 0.3), 0px 1px 3px 1px rgba(60, 64, 67, 0.15);\n",
              "      fill: #174EA6;\n",
              "    }\n",
              "\n",
              "    [theme=dark] .colab-df-convert {\n",
              "      background-color: #3B4455;\n",
              "      fill: #D2E3FC;\n",
              "    }\n",
              "\n",
              "    [theme=dark] .colab-df-convert:hover {\n",
              "      background-color: #434B5C;\n",
              "      box-shadow: 0px 1px 3px 1px rgba(0, 0, 0, 0.15);\n",
              "      filter: drop-shadow(0px 1px 2px rgba(0, 0, 0, 0.3));\n",
              "      fill: #FFFFFF;\n",
              "    }\n",
              "  </style>\n",
              "\n",
              "      <script>\n",
              "        const buttonEl =\n",
              "          document.querySelector('#df-8ce52410-0d9a-48f2-b8d9-db99a015daa1 button.colab-df-convert');\n",
              "        buttonEl.style.display =\n",
              "          google.colab.kernel.accessAllowed ? 'block' : 'none';\n",
              "\n",
              "        async function convertToInteractive(key) {\n",
              "          const element = document.querySelector('#df-8ce52410-0d9a-48f2-b8d9-db99a015daa1');\n",
              "          const dataTable =\n",
              "            await google.colab.kernel.invokeFunction('convertToInteractive',\n",
              "                                                     [key], {});\n",
              "          if (!dataTable) return;\n",
              "\n",
              "          const docLinkHtml = 'Like what you see? Visit the ' +\n",
              "            '<a target=\"_blank\" href=https://colab.research.google.com/notebooks/data_table.ipynb>data table notebook</a>'\n",
              "            + ' to learn more about interactive tables.';\n",
              "          element.innerHTML = '';\n",
              "          dataTable['output_type'] = 'display_data';\n",
              "          await google.colab.output.renderOutput(dataTable, element);\n",
              "          const docLink = document.createElement('div');\n",
              "          docLink.innerHTML = docLinkHtml;\n",
              "          element.appendChild(docLink);\n",
              "        }\n",
              "      </script>\n",
              "    </div>\n",
              "  </div>\n",
              "  "
            ]
          },
          "metadata": {},
          "execution_count": 2
        }
      ],
      "metadata": {
        "datalore": {
          "type": "CODE",
          "hide_input_from_viewers": false,
          "hide_output_from_viewers": false
        },
        "colab": {
          "base_uri": "https://localhost:8080/",
          "height": 351
        },
        "id": "vsBB9NZPfKwQ",
        "outputId": "430645c8-5650-4015-c7dc-77db372c8f99"
      }
    },
    {
      "cell_type": "code",
      "source": [
        "df.tail()"
      ],
      "execution_count": 3,
      "outputs": [
        {
          "output_type": "execute_result",
          "data": {
            "text/plain": [
              "     car_ID  symboling          CarName fueltype aspiration doornumber  \\\n",
              "200     201         -1  volvo 145e (sw)      gas        std       four   \n",
              "201     202         -1      volvo 144ea      gas      turbo       four   \n",
              "202     203         -1      volvo 244dl      gas        std       four   \n",
              "203     204         -1        volvo 246   diesel      turbo       four   \n",
              "204     205         -1      volvo 264gl      gas      turbo       four   \n",
              "\n",
              "    carbody drivewheel enginelocation  wheelbase  ...  enginesize  fuelsystem  \\\n",
              "200   sedan        rwd          front      109.1  ...         141        mpfi   \n",
              "201   sedan        rwd          front      109.1  ...         141        mpfi   \n",
              "202   sedan        rwd          front      109.1  ...         173        mpfi   \n",
              "203   sedan        rwd          front      109.1  ...         145         idi   \n",
              "204   sedan        rwd          front      109.1  ...         141        mpfi   \n",
              "\n",
              "     boreratio  stroke compressionratio horsepower  peakrpm citympg  \\\n",
              "200       3.78    3.15              9.5        114     5400      23   \n",
              "201       3.78    3.15              8.7        160     5300      19   \n",
              "202       3.58    2.87              8.8        134     5500      18   \n",
              "203       3.01    3.40             23.0        106     4800      26   \n",
              "204       3.78    3.15              9.5        114     5400      19   \n",
              "\n",
              "     highwaympg    price  \n",
              "200          28  16845.0  \n",
              "201          25  19045.0  \n",
              "202          23  21485.0  \n",
              "203          27  22470.0  \n",
              "204          25  22625.0  \n",
              "\n",
              "[5 rows x 26 columns]"
            ],
            "text/html": [
              "\n",
              "  <div id=\"df-50cb6a37-e301-4610-9696-ebe04ce13784\">\n",
              "    <div class=\"colab-df-container\">\n",
              "      <div>\n",
              "<style scoped>\n",
              "    .dataframe tbody tr th:only-of-type {\n",
              "        vertical-align: middle;\n",
              "    }\n",
              "\n",
              "    .dataframe tbody tr th {\n",
              "        vertical-align: top;\n",
              "    }\n",
              "\n",
              "    .dataframe thead th {\n",
              "        text-align: right;\n",
              "    }\n",
              "</style>\n",
              "<table border=\"1\" class=\"dataframe\">\n",
              "  <thead>\n",
              "    <tr style=\"text-align: right;\">\n",
              "      <th></th>\n",
              "      <th>car_ID</th>\n",
              "      <th>symboling</th>\n",
              "      <th>CarName</th>\n",
              "      <th>fueltype</th>\n",
              "      <th>aspiration</th>\n",
              "      <th>doornumber</th>\n",
              "      <th>carbody</th>\n",
              "      <th>drivewheel</th>\n",
              "      <th>enginelocation</th>\n",
              "      <th>wheelbase</th>\n",
              "      <th>...</th>\n",
              "      <th>enginesize</th>\n",
              "      <th>fuelsystem</th>\n",
              "      <th>boreratio</th>\n",
              "      <th>stroke</th>\n",
              "      <th>compressionratio</th>\n",
              "      <th>horsepower</th>\n",
              "      <th>peakrpm</th>\n",
              "      <th>citympg</th>\n",
              "      <th>highwaympg</th>\n",
              "      <th>price</th>\n",
              "    </tr>\n",
              "  </thead>\n",
              "  <tbody>\n",
              "    <tr>\n",
              "      <th>200</th>\n",
              "      <td>201</td>\n",
              "      <td>-1</td>\n",
              "      <td>volvo 145e (sw)</td>\n",
              "      <td>gas</td>\n",
              "      <td>std</td>\n",
              "      <td>four</td>\n",
              "      <td>sedan</td>\n",
              "      <td>rwd</td>\n",
              "      <td>front</td>\n",
              "      <td>109.1</td>\n",
              "      <td>...</td>\n",
              "      <td>141</td>\n",
              "      <td>mpfi</td>\n",
              "      <td>3.78</td>\n",
              "      <td>3.15</td>\n",
              "      <td>9.5</td>\n",
              "      <td>114</td>\n",
              "      <td>5400</td>\n",
              "      <td>23</td>\n",
              "      <td>28</td>\n",
              "      <td>16845.0</td>\n",
              "    </tr>\n",
              "    <tr>\n",
              "      <th>201</th>\n",
              "      <td>202</td>\n",
              "      <td>-1</td>\n",
              "      <td>volvo 144ea</td>\n",
              "      <td>gas</td>\n",
              "      <td>turbo</td>\n",
              "      <td>four</td>\n",
              "      <td>sedan</td>\n",
              "      <td>rwd</td>\n",
              "      <td>front</td>\n",
              "      <td>109.1</td>\n",
              "      <td>...</td>\n",
              "      <td>141</td>\n",
              "      <td>mpfi</td>\n",
              "      <td>3.78</td>\n",
              "      <td>3.15</td>\n",
              "      <td>8.7</td>\n",
              "      <td>160</td>\n",
              "      <td>5300</td>\n",
              "      <td>19</td>\n",
              "      <td>25</td>\n",
              "      <td>19045.0</td>\n",
              "    </tr>\n",
              "    <tr>\n",
              "      <th>202</th>\n",
              "      <td>203</td>\n",
              "      <td>-1</td>\n",
              "      <td>volvo 244dl</td>\n",
              "      <td>gas</td>\n",
              "      <td>std</td>\n",
              "      <td>four</td>\n",
              "      <td>sedan</td>\n",
              "      <td>rwd</td>\n",
              "      <td>front</td>\n",
              "      <td>109.1</td>\n",
              "      <td>...</td>\n",
              "      <td>173</td>\n",
              "      <td>mpfi</td>\n",
              "      <td>3.58</td>\n",
              "      <td>2.87</td>\n",
              "      <td>8.8</td>\n",
              "      <td>134</td>\n",
              "      <td>5500</td>\n",
              "      <td>18</td>\n",
              "      <td>23</td>\n",
              "      <td>21485.0</td>\n",
              "    </tr>\n",
              "    <tr>\n",
              "      <th>203</th>\n",
              "      <td>204</td>\n",
              "      <td>-1</td>\n",
              "      <td>volvo 246</td>\n",
              "      <td>diesel</td>\n",
              "      <td>turbo</td>\n",
              "      <td>four</td>\n",
              "      <td>sedan</td>\n",
              "      <td>rwd</td>\n",
              "      <td>front</td>\n",
              "      <td>109.1</td>\n",
              "      <td>...</td>\n",
              "      <td>145</td>\n",
              "      <td>idi</td>\n",
              "      <td>3.01</td>\n",
              "      <td>3.40</td>\n",
              "      <td>23.0</td>\n",
              "      <td>106</td>\n",
              "      <td>4800</td>\n",
              "      <td>26</td>\n",
              "      <td>27</td>\n",
              "      <td>22470.0</td>\n",
              "    </tr>\n",
              "    <tr>\n",
              "      <th>204</th>\n",
              "      <td>205</td>\n",
              "      <td>-1</td>\n",
              "      <td>volvo 264gl</td>\n",
              "      <td>gas</td>\n",
              "      <td>turbo</td>\n",
              "      <td>four</td>\n",
              "      <td>sedan</td>\n",
              "      <td>rwd</td>\n",
              "      <td>front</td>\n",
              "      <td>109.1</td>\n",
              "      <td>...</td>\n",
              "      <td>141</td>\n",
              "      <td>mpfi</td>\n",
              "      <td>3.78</td>\n",
              "      <td>3.15</td>\n",
              "      <td>9.5</td>\n",
              "      <td>114</td>\n",
              "      <td>5400</td>\n",
              "      <td>19</td>\n",
              "      <td>25</td>\n",
              "      <td>22625.0</td>\n",
              "    </tr>\n",
              "  </tbody>\n",
              "</table>\n",
              "<p>5 rows × 26 columns</p>\n",
              "</div>\n",
              "      <button class=\"colab-df-convert\" onclick=\"convertToInteractive('df-50cb6a37-e301-4610-9696-ebe04ce13784')\"\n",
              "              title=\"Convert this dataframe to an interactive table.\"\n",
              "              style=\"display:none;\">\n",
              "        \n",
              "  <svg xmlns=\"http://www.w3.org/2000/svg\" height=\"24px\"viewBox=\"0 0 24 24\"\n",
              "       width=\"24px\">\n",
              "    <path d=\"M0 0h24v24H0V0z\" fill=\"none\"/>\n",
              "    <path d=\"M18.56 5.44l.94 2.06.94-2.06 2.06-.94-2.06-.94-.94-2.06-.94 2.06-2.06.94zm-11 1L8.5 8.5l.94-2.06 2.06-.94-2.06-.94L8.5 2.5l-.94 2.06-2.06.94zm10 10l.94 2.06.94-2.06 2.06-.94-2.06-.94-.94-2.06-.94 2.06-2.06.94z\"/><path d=\"M17.41 7.96l-1.37-1.37c-.4-.4-.92-.59-1.43-.59-.52 0-1.04.2-1.43.59L10.3 9.45l-7.72 7.72c-.78.78-.78 2.05 0 2.83L4 21.41c.39.39.9.59 1.41.59.51 0 1.02-.2 1.41-.59l7.78-7.78 2.81-2.81c.8-.78.8-2.07 0-2.86zM5.41 20L4 18.59l7.72-7.72 1.47 1.35L5.41 20z\"/>\n",
              "  </svg>\n",
              "      </button>\n",
              "      \n",
              "  <style>\n",
              "    .colab-df-container {\n",
              "      display:flex;\n",
              "      flex-wrap:wrap;\n",
              "      gap: 12px;\n",
              "    }\n",
              "\n",
              "    .colab-df-convert {\n",
              "      background-color: #E8F0FE;\n",
              "      border: none;\n",
              "      border-radius: 50%;\n",
              "      cursor: pointer;\n",
              "      display: none;\n",
              "      fill: #1967D2;\n",
              "      height: 32px;\n",
              "      padding: 0 0 0 0;\n",
              "      width: 32px;\n",
              "    }\n",
              "\n",
              "    .colab-df-convert:hover {\n",
              "      background-color: #E2EBFA;\n",
              "      box-shadow: 0px 1px 2px rgba(60, 64, 67, 0.3), 0px 1px 3px 1px rgba(60, 64, 67, 0.15);\n",
              "      fill: #174EA6;\n",
              "    }\n",
              "\n",
              "    [theme=dark] .colab-df-convert {\n",
              "      background-color: #3B4455;\n",
              "      fill: #D2E3FC;\n",
              "    }\n",
              "\n",
              "    [theme=dark] .colab-df-convert:hover {\n",
              "      background-color: #434B5C;\n",
              "      box-shadow: 0px 1px 3px 1px rgba(0, 0, 0, 0.15);\n",
              "      filter: drop-shadow(0px 1px 2px rgba(0, 0, 0, 0.3));\n",
              "      fill: #FFFFFF;\n",
              "    }\n",
              "  </style>\n",
              "\n",
              "      <script>\n",
              "        const buttonEl =\n",
              "          document.querySelector('#df-50cb6a37-e301-4610-9696-ebe04ce13784 button.colab-df-convert');\n",
              "        buttonEl.style.display =\n",
              "          google.colab.kernel.accessAllowed ? 'block' : 'none';\n",
              "\n",
              "        async function convertToInteractive(key) {\n",
              "          const element = document.querySelector('#df-50cb6a37-e301-4610-9696-ebe04ce13784');\n",
              "          const dataTable =\n",
              "            await google.colab.kernel.invokeFunction('convertToInteractive',\n",
              "                                                     [key], {});\n",
              "          if (!dataTable) return;\n",
              "\n",
              "          const docLinkHtml = 'Like what you see? Visit the ' +\n",
              "            '<a target=\"_blank\" href=https://colab.research.google.com/notebooks/data_table.ipynb>data table notebook</a>'\n",
              "            + ' to learn more about interactive tables.';\n",
              "          element.innerHTML = '';\n",
              "          dataTable['output_type'] = 'display_data';\n",
              "          await google.colab.output.renderOutput(dataTable, element);\n",
              "          const docLink = document.createElement('div');\n",
              "          docLink.innerHTML = docLinkHtml;\n",
              "          element.appendChild(docLink);\n",
              "        }\n",
              "      </script>\n",
              "    </div>\n",
              "  </div>\n",
              "  "
            ]
          },
          "metadata": {},
          "execution_count": 3
        }
      ],
      "metadata": {
        "datalore": {
          "type": "CODE",
          "hide_input_from_viewers": false,
          "hide_output_from_viewers": false
        },
        "colab": {
          "base_uri": "https://localhost:8080/",
          "height": 403
        },
        "id": "qh6lzOLrfKwR",
        "outputId": "f6354776-52f3-4786-ec57-c429b8da291c"
      }
    },
    {
      "cell_type": "code",
      "source": [
        "df.shape"
      ],
      "execution_count": 4,
      "outputs": [
        {
          "output_type": "execute_result",
          "data": {
            "text/plain": [
              "(205, 26)"
            ]
          },
          "metadata": {},
          "execution_count": 4
        }
      ],
      "metadata": {
        "datalore": {
          "type": "CODE",
          "hide_input_from_viewers": false,
          "hide_output_from_viewers": false
        },
        "colab": {
          "base_uri": "https://localhost:8080/"
        },
        "id": "zR-t2slYfKwS",
        "outputId": "eaa7626d-8aee-44c9-d0fc-12851bf8812e"
      }
    },
    {
      "cell_type": "code",
      "source": [
        "\n",
        "df.size"
      ],
      "execution_count": 5,
      "outputs": [
        {
          "output_type": "execute_result",
          "data": {
            "text/plain": [
              "5330"
            ]
          },
          "metadata": {},
          "execution_count": 5
        }
      ],
      "metadata": {
        "datalore": {
          "type": "CODE",
          "hide_input_from_viewers": false,
          "hide_output_from_viewers": false
        },
        "colab": {
          "base_uri": "https://localhost:8080/"
        },
        "id": "KyC4H5sXfKwS",
        "outputId": "b8a7acae-890b-4a3c-c3e9-11f6a84d667c"
      }
    },
    {
      "cell_type": "code",
      "source": [
        "df.dtypes"
      ],
      "execution_count": 6,
      "outputs": [
        {
          "output_type": "execute_result",
          "data": {
            "text/plain": [
              "car_ID                int64\n",
              "symboling             int64\n",
              "CarName              object\n",
              "fueltype             object\n",
              "aspiration           object\n",
              "doornumber           object\n",
              "carbody              object\n",
              "drivewheel           object\n",
              "enginelocation       object\n",
              "wheelbase           float64\n",
              "carlength           float64\n",
              "carwidth            float64\n",
              "carheight           float64\n",
              "curbweight            int64\n",
              "enginetype           object\n",
              "cylindernumber       object\n",
              "enginesize            int64\n",
              "fuelsystem           object\n",
              "boreratio           float64\n",
              "stroke              float64\n",
              "compressionratio    float64\n",
              "horsepower            int64\n",
              "peakrpm               int64\n",
              "citympg               int64\n",
              "highwaympg            int64\n",
              "price               float64\n",
              "dtype: object"
            ]
          },
          "metadata": {},
          "execution_count": 6
        }
      ],
      "metadata": {
        "datalore": {
          "type": "CODE",
          "hide_input_from_viewers": false,
          "hide_output_from_viewers": false
        },
        "colab": {
          "base_uri": "https://localhost:8080/"
        },
        "id": "4_H4m9PCfKwS",
        "outputId": "143ecaee-e15f-412c-cbeb-55cefe4879b4"
      }
    },
    {
      "cell_type": "code",
      "source": [
        "\n",
        "df.columns"
      ],
      "execution_count": 7,
      "outputs": [
        {
          "output_type": "execute_result",
          "data": {
            "text/plain": [
              "Index(['car_ID', 'symboling', 'CarName', 'fueltype', 'aspiration',\n",
              "       'doornumber', 'carbody', 'drivewheel', 'enginelocation', 'wheelbase',\n",
              "       'carlength', 'carwidth', 'carheight', 'curbweight', 'enginetype',\n",
              "       'cylindernumber', 'enginesize', 'fuelsystem', 'boreratio', 'stroke',\n",
              "       'compressionratio', 'horsepower', 'peakrpm', 'citympg', 'highwaympg',\n",
              "       'price'],\n",
              "      dtype='object')"
            ]
          },
          "metadata": {},
          "execution_count": 7
        }
      ],
      "metadata": {
        "datalore": {
          "type": "CODE",
          "hide_input_from_viewers": false,
          "hide_output_from_viewers": false
        },
        "colab": {
          "base_uri": "https://localhost:8080/"
        },
        "id": "pdj4SG3NfKwT",
        "outputId": "800c592a-0a17-46ed-a8db-9c1ea7875658"
      }
    },
    {
      "cell_type": "code",
      "source": [
        "df.info()"
      ],
      "execution_count": 8,
      "outputs": [
        {
          "output_type": "stream",
          "name": "stdout",
          "text": [
            "<class 'pandas.core.frame.DataFrame'>\n",
            "RangeIndex: 205 entries, 0 to 204\n",
            "Data columns (total 26 columns):\n",
            " #   Column            Non-Null Count  Dtype  \n",
            "---  ------            --------------  -----  \n",
            " 0   car_ID            205 non-null    int64  \n",
            " 1   symboling         205 non-null    int64  \n",
            " 2   CarName           205 non-null    object \n",
            " 3   fueltype          205 non-null    object \n",
            " 4   aspiration        205 non-null    object \n",
            " 5   doornumber        205 non-null    object \n",
            " 6   carbody           205 non-null    object \n",
            " 7   drivewheel        205 non-null    object \n",
            " 8   enginelocation    205 non-null    object \n",
            " 9   wheelbase         205 non-null    float64\n",
            " 10  carlength         205 non-null    float64\n",
            " 11  carwidth          205 non-null    float64\n",
            " 12  carheight         205 non-null    float64\n",
            " 13  curbweight        205 non-null    int64  \n",
            " 14  enginetype        205 non-null    object \n",
            " 15  cylindernumber    205 non-null    object \n",
            " 16  enginesize        205 non-null    int64  \n",
            " 17  fuelsystem        205 non-null    object \n",
            " 18  boreratio         205 non-null    float64\n",
            " 19  stroke            205 non-null    float64\n",
            " 20  compressionratio  205 non-null    float64\n",
            " 21  horsepower        205 non-null    int64  \n",
            " 22  peakrpm           205 non-null    int64  \n",
            " 23  citympg           205 non-null    int64  \n",
            " 24  highwaympg        205 non-null    int64  \n",
            " 25  price             205 non-null    float64\n",
            "dtypes: float64(8), int64(8), object(10)\n",
            "memory usage: 41.8+ KB\n"
          ]
        }
      ],
      "metadata": {
        "datalore": {
          "type": "CODE",
          "hide_input_from_viewers": false,
          "hide_output_from_viewers": false
        },
        "colab": {
          "base_uri": "https://localhost:8080/"
        },
        "id": "Q9z4CxB3fKwT",
        "outputId": "9bfb9ed0-be7a-4c0f-e9f1-3a8af469010a"
      }
    },
    {
      "cell_type": "code",
      "source": [
        "\n",
        "df.describe().transpose()"
      ],
      "execution_count": 9,
      "outputs": [
        {
          "output_type": "execute_result",
          "data": {
            "text/plain": [
              "                  count          mean          std      min      25%  \\\n",
              "car_ID            205.0    103.000000    59.322565     1.00    52.00   \n",
              "symboling         205.0      0.834146     1.245307    -2.00     0.00   \n",
              "wheelbase         205.0     98.756585     6.021776    86.60    94.50   \n",
              "carlength         205.0    174.049268    12.337289   141.10   166.30   \n",
              "carwidth          205.0     65.907805     2.145204    60.30    64.10   \n",
              "carheight         205.0     53.724878     2.443522    47.80    52.00   \n",
              "curbweight        205.0   2555.565854   520.680204  1488.00  2145.00   \n",
              "enginesize        205.0    126.907317    41.642693    61.00    97.00   \n",
              "boreratio         205.0      3.329756     0.270844     2.54     3.15   \n",
              "stroke            205.0      3.255415     0.313597     2.07     3.11   \n",
              "compressionratio  205.0     10.142537     3.972040     7.00     8.60   \n",
              "horsepower        205.0    104.117073    39.544167    48.00    70.00   \n",
              "peakrpm           205.0   5125.121951   476.985643  4150.00  4800.00   \n",
              "citympg           205.0     25.219512     6.542142    13.00    19.00   \n",
              "highwaympg        205.0     30.751220     6.886443    16.00    25.00   \n",
              "price             205.0  13276.710571  7988.852332  5118.00  7788.00   \n",
              "\n",
              "                       50%       75%       max  \n",
              "car_ID              103.00    154.00    205.00  \n",
              "symboling             1.00      2.00      3.00  \n",
              "wheelbase            97.00    102.40    120.90  \n",
              "carlength           173.20    183.10    208.10  \n",
              "carwidth             65.50     66.90     72.30  \n",
              "carheight            54.10     55.50     59.80  \n",
              "curbweight         2414.00   2935.00   4066.00  \n",
              "enginesize          120.00    141.00    326.00  \n",
              "boreratio             3.31      3.58      3.94  \n",
              "stroke                3.29      3.41      4.17  \n",
              "compressionratio      9.00      9.40     23.00  \n",
              "horsepower           95.00    116.00    288.00  \n",
              "peakrpm            5200.00   5500.00   6600.00  \n",
              "citympg              24.00     30.00     49.00  \n",
              "highwaympg           30.00     34.00     54.00  \n",
              "price             10295.00  16503.00  45400.00  "
            ],
            "text/html": [
              "\n",
              "  <div id=\"df-669f5b1c-b66b-4b7c-a0f9-64ac957c2e26\">\n",
              "    <div class=\"colab-df-container\">\n",
              "      <div>\n",
              "<style scoped>\n",
              "    .dataframe tbody tr th:only-of-type {\n",
              "        vertical-align: middle;\n",
              "    }\n",
              "\n",
              "    .dataframe tbody tr th {\n",
              "        vertical-align: top;\n",
              "    }\n",
              "\n",
              "    .dataframe thead th {\n",
              "        text-align: right;\n",
              "    }\n",
              "</style>\n",
              "<table border=\"1\" class=\"dataframe\">\n",
              "  <thead>\n",
              "    <tr style=\"text-align: right;\">\n",
              "      <th></th>\n",
              "      <th>count</th>\n",
              "      <th>mean</th>\n",
              "      <th>std</th>\n",
              "      <th>min</th>\n",
              "      <th>25%</th>\n",
              "      <th>50%</th>\n",
              "      <th>75%</th>\n",
              "      <th>max</th>\n",
              "    </tr>\n",
              "  </thead>\n",
              "  <tbody>\n",
              "    <tr>\n",
              "      <th>car_ID</th>\n",
              "      <td>205.0</td>\n",
              "      <td>103.000000</td>\n",
              "      <td>59.322565</td>\n",
              "      <td>1.00</td>\n",
              "      <td>52.00</td>\n",
              "      <td>103.00</td>\n",
              "      <td>154.00</td>\n",
              "      <td>205.00</td>\n",
              "    </tr>\n",
              "    <tr>\n",
              "      <th>symboling</th>\n",
              "      <td>205.0</td>\n",
              "      <td>0.834146</td>\n",
              "      <td>1.245307</td>\n",
              "      <td>-2.00</td>\n",
              "      <td>0.00</td>\n",
              "      <td>1.00</td>\n",
              "      <td>2.00</td>\n",
              "      <td>3.00</td>\n",
              "    </tr>\n",
              "    <tr>\n",
              "      <th>wheelbase</th>\n",
              "      <td>205.0</td>\n",
              "      <td>98.756585</td>\n",
              "      <td>6.021776</td>\n",
              "      <td>86.60</td>\n",
              "      <td>94.50</td>\n",
              "      <td>97.00</td>\n",
              "      <td>102.40</td>\n",
              "      <td>120.90</td>\n",
              "    </tr>\n",
              "    <tr>\n",
              "      <th>carlength</th>\n",
              "      <td>205.0</td>\n",
              "      <td>174.049268</td>\n",
              "      <td>12.337289</td>\n",
              "      <td>141.10</td>\n",
              "      <td>166.30</td>\n",
              "      <td>173.20</td>\n",
              "      <td>183.10</td>\n",
              "      <td>208.10</td>\n",
              "    </tr>\n",
              "    <tr>\n",
              "      <th>carwidth</th>\n",
              "      <td>205.0</td>\n",
              "      <td>65.907805</td>\n",
              "      <td>2.145204</td>\n",
              "      <td>60.30</td>\n",
              "      <td>64.10</td>\n",
              "      <td>65.50</td>\n",
              "      <td>66.90</td>\n",
              "      <td>72.30</td>\n",
              "    </tr>\n",
              "    <tr>\n",
              "      <th>carheight</th>\n",
              "      <td>205.0</td>\n",
              "      <td>53.724878</td>\n",
              "      <td>2.443522</td>\n",
              "      <td>47.80</td>\n",
              "      <td>52.00</td>\n",
              "      <td>54.10</td>\n",
              "      <td>55.50</td>\n",
              "      <td>59.80</td>\n",
              "    </tr>\n",
              "    <tr>\n",
              "      <th>curbweight</th>\n",
              "      <td>205.0</td>\n",
              "      <td>2555.565854</td>\n",
              "      <td>520.680204</td>\n",
              "      <td>1488.00</td>\n",
              "      <td>2145.00</td>\n",
              "      <td>2414.00</td>\n",
              "      <td>2935.00</td>\n",
              "      <td>4066.00</td>\n",
              "    </tr>\n",
              "    <tr>\n",
              "      <th>enginesize</th>\n",
              "      <td>205.0</td>\n",
              "      <td>126.907317</td>\n",
              "      <td>41.642693</td>\n",
              "      <td>61.00</td>\n",
              "      <td>97.00</td>\n",
              "      <td>120.00</td>\n",
              "      <td>141.00</td>\n",
              "      <td>326.00</td>\n",
              "    </tr>\n",
              "    <tr>\n",
              "      <th>boreratio</th>\n",
              "      <td>205.0</td>\n",
              "      <td>3.329756</td>\n",
              "      <td>0.270844</td>\n",
              "      <td>2.54</td>\n",
              "      <td>3.15</td>\n",
              "      <td>3.31</td>\n",
              "      <td>3.58</td>\n",
              "      <td>3.94</td>\n",
              "    </tr>\n",
              "    <tr>\n",
              "      <th>stroke</th>\n",
              "      <td>205.0</td>\n",
              "      <td>3.255415</td>\n",
              "      <td>0.313597</td>\n",
              "      <td>2.07</td>\n",
              "      <td>3.11</td>\n",
              "      <td>3.29</td>\n",
              "      <td>3.41</td>\n",
              "      <td>4.17</td>\n",
              "    </tr>\n",
              "    <tr>\n",
              "      <th>compressionratio</th>\n",
              "      <td>205.0</td>\n",
              "      <td>10.142537</td>\n",
              "      <td>3.972040</td>\n",
              "      <td>7.00</td>\n",
              "      <td>8.60</td>\n",
              "      <td>9.00</td>\n",
              "      <td>9.40</td>\n",
              "      <td>23.00</td>\n",
              "    </tr>\n",
              "    <tr>\n",
              "      <th>horsepower</th>\n",
              "      <td>205.0</td>\n",
              "      <td>104.117073</td>\n",
              "      <td>39.544167</td>\n",
              "      <td>48.00</td>\n",
              "      <td>70.00</td>\n",
              "      <td>95.00</td>\n",
              "      <td>116.00</td>\n",
              "      <td>288.00</td>\n",
              "    </tr>\n",
              "    <tr>\n",
              "      <th>peakrpm</th>\n",
              "      <td>205.0</td>\n",
              "      <td>5125.121951</td>\n",
              "      <td>476.985643</td>\n",
              "      <td>4150.00</td>\n",
              "      <td>4800.00</td>\n",
              "      <td>5200.00</td>\n",
              "      <td>5500.00</td>\n",
              "      <td>6600.00</td>\n",
              "    </tr>\n",
              "    <tr>\n",
              "      <th>citympg</th>\n",
              "      <td>205.0</td>\n",
              "      <td>25.219512</td>\n",
              "      <td>6.542142</td>\n",
              "      <td>13.00</td>\n",
              "      <td>19.00</td>\n",
              "      <td>24.00</td>\n",
              "      <td>30.00</td>\n",
              "      <td>49.00</td>\n",
              "    </tr>\n",
              "    <tr>\n",
              "      <th>highwaympg</th>\n",
              "      <td>205.0</td>\n",
              "      <td>30.751220</td>\n",
              "      <td>6.886443</td>\n",
              "      <td>16.00</td>\n",
              "      <td>25.00</td>\n",
              "      <td>30.00</td>\n",
              "      <td>34.00</td>\n",
              "      <td>54.00</td>\n",
              "    </tr>\n",
              "    <tr>\n",
              "      <th>price</th>\n",
              "      <td>205.0</td>\n",
              "      <td>13276.710571</td>\n",
              "      <td>7988.852332</td>\n",
              "      <td>5118.00</td>\n",
              "      <td>7788.00</td>\n",
              "      <td>10295.00</td>\n",
              "      <td>16503.00</td>\n",
              "      <td>45400.00</td>\n",
              "    </tr>\n",
              "  </tbody>\n",
              "</table>\n",
              "</div>\n",
              "      <button class=\"colab-df-convert\" onclick=\"convertToInteractive('df-669f5b1c-b66b-4b7c-a0f9-64ac957c2e26')\"\n",
              "              title=\"Convert this dataframe to an interactive table.\"\n",
              "              style=\"display:none;\">\n",
              "        \n",
              "  <svg xmlns=\"http://www.w3.org/2000/svg\" height=\"24px\"viewBox=\"0 0 24 24\"\n",
              "       width=\"24px\">\n",
              "    <path d=\"M0 0h24v24H0V0z\" fill=\"none\"/>\n",
              "    <path d=\"M18.56 5.44l.94 2.06.94-2.06 2.06-.94-2.06-.94-.94-2.06-.94 2.06-2.06.94zm-11 1L8.5 8.5l.94-2.06 2.06-.94-2.06-.94L8.5 2.5l-.94 2.06-2.06.94zm10 10l.94 2.06.94-2.06 2.06-.94-2.06-.94-.94-2.06-.94 2.06-2.06.94z\"/><path d=\"M17.41 7.96l-1.37-1.37c-.4-.4-.92-.59-1.43-.59-.52 0-1.04.2-1.43.59L10.3 9.45l-7.72 7.72c-.78.78-.78 2.05 0 2.83L4 21.41c.39.39.9.59 1.41.59.51 0 1.02-.2 1.41-.59l7.78-7.78 2.81-2.81c.8-.78.8-2.07 0-2.86zM5.41 20L4 18.59l7.72-7.72 1.47 1.35L5.41 20z\"/>\n",
              "  </svg>\n",
              "      </button>\n",
              "      \n",
              "  <style>\n",
              "    .colab-df-container {\n",
              "      display:flex;\n",
              "      flex-wrap:wrap;\n",
              "      gap: 12px;\n",
              "    }\n",
              "\n",
              "    .colab-df-convert {\n",
              "      background-color: #E8F0FE;\n",
              "      border: none;\n",
              "      border-radius: 50%;\n",
              "      cursor: pointer;\n",
              "      display: none;\n",
              "      fill: #1967D2;\n",
              "      height: 32px;\n",
              "      padding: 0 0 0 0;\n",
              "      width: 32px;\n",
              "    }\n",
              "\n",
              "    .colab-df-convert:hover {\n",
              "      background-color: #E2EBFA;\n",
              "      box-shadow: 0px 1px 2px rgba(60, 64, 67, 0.3), 0px 1px 3px 1px rgba(60, 64, 67, 0.15);\n",
              "      fill: #174EA6;\n",
              "    }\n",
              "\n",
              "    [theme=dark] .colab-df-convert {\n",
              "      background-color: #3B4455;\n",
              "      fill: #D2E3FC;\n",
              "    }\n",
              "\n",
              "    [theme=dark] .colab-df-convert:hover {\n",
              "      background-color: #434B5C;\n",
              "      box-shadow: 0px 1px 3px 1px rgba(0, 0, 0, 0.15);\n",
              "      filter: drop-shadow(0px 1px 2px rgba(0, 0, 0, 0.3));\n",
              "      fill: #FFFFFF;\n",
              "    }\n",
              "  </style>\n",
              "\n",
              "      <script>\n",
              "        const buttonEl =\n",
              "          document.querySelector('#df-669f5b1c-b66b-4b7c-a0f9-64ac957c2e26 button.colab-df-convert');\n",
              "        buttonEl.style.display =\n",
              "          google.colab.kernel.accessAllowed ? 'block' : 'none';\n",
              "\n",
              "        async function convertToInteractive(key) {\n",
              "          const element = document.querySelector('#df-669f5b1c-b66b-4b7c-a0f9-64ac957c2e26');\n",
              "          const dataTable =\n",
              "            await google.colab.kernel.invokeFunction('convertToInteractive',\n",
              "                                                     [key], {});\n",
              "          if (!dataTable) return;\n",
              "\n",
              "          const docLinkHtml = 'Like what you see? Visit the ' +\n",
              "            '<a target=\"_blank\" href=https://colab.research.google.com/notebooks/data_table.ipynb>data table notebook</a>'\n",
              "            + ' to learn more about interactive tables.';\n",
              "          element.innerHTML = '';\n",
              "          dataTable['output_type'] = 'display_data';\n",
              "          await google.colab.output.renderOutput(dataTable, element);\n",
              "          const docLink = document.createElement('div');\n",
              "          docLink.innerHTML = docLinkHtml;\n",
              "          element.appendChild(docLink);\n",
              "        }\n",
              "      </script>\n",
              "    </div>\n",
              "  </div>\n",
              "  "
            ]
          },
          "metadata": {},
          "execution_count": 9
        }
      ],
      "metadata": {
        "datalore": {
          "type": "CODE",
          "hide_input_from_viewers": false,
          "hide_output_from_viewers": false
        },
        "colab": {
          "base_uri": "https://localhost:8080/",
          "height": 551
        },
        "id": "-DtH3u2dfKwT",
        "outputId": "f4401128-42eb-485f-a9a5-dbf91a422432"
      }
    },
    {
      "cell_type": "code",
      "source": [
        "df.isnull().sum()"
      ],
      "execution_count": 10,
      "outputs": [
        {
          "output_type": "execute_result",
          "data": {
            "text/plain": [
              "car_ID              0\n",
              "symboling           0\n",
              "CarName             0\n",
              "fueltype            0\n",
              "aspiration          0\n",
              "doornumber          0\n",
              "carbody             0\n",
              "drivewheel          0\n",
              "enginelocation      0\n",
              "wheelbase           0\n",
              "carlength           0\n",
              "carwidth            0\n",
              "carheight           0\n",
              "curbweight          0\n",
              "enginetype          0\n",
              "cylindernumber      0\n",
              "enginesize          0\n",
              "fuelsystem          0\n",
              "boreratio           0\n",
              "stroke              0\n",
              "compressionratio    0\n",
              "horsepower          0\n",
              "peakrpm             0\n",
              "citympg             0\n",
              "highwaympg          0\n",
              "price               0\n",
              "dtype: int64"
            ]
          },
          "metadata": {},
          "execution_count": 10
        }
      ],
      "metadata": {
        "datalore": {
          "type": "CODE",
          "hide_input_from_viewers": false,
          "hide_output_from_viewers": false
        },
        "colab": {
          "base_uri": "https://localhost:8080/"
        },
        "id": "VuhhHeEjfKwU",
        "outputId": "b1aef88a-93ed-4abc-f1ea-a71640214de9"
      }
    },
    {
      "cell_type": "code",
      "source": [
        "\n",
        "df.duplicated().sum()"
      ],
      "execution_count": 11,
      "outputs": [
        {
          "output_type": "execute_result",
          "data": {
            "text/plain": [
              "0"
            ]
          },
          "metadata": {},
          "execution_count": 11
        }
      ],
      "metadata": {
        "datalore": {
          "type": "CODE",
          "hide_input_from_viewers": false,
          "hide_output_from_viewers": false
        },
        "colab": {
          "base_uri": "https://localhost:8080/"
        },
        "id": "Bjnl8_r0fKwU",
        "outputId": "18154b2a-584a-491e-9ce3-786d3120be8d"
      }
    },
    {
      "cell_type": "code",
      "source": [
        "df.skew()"
      ],
      "execution_count": 12,
      "outputs": [
        {
          "output_type": "stream",
          "name": "stderr",
          "text": [
            "/usr/local/lib/python3.7/dist-packages/ipykernel_launcher.py:1: FutureWarning: Dropping of nuisance columns in DataFrame reductions (with 'numeric_only=None') is deprecated; in a future version this will raise TypeError.  Select only valid columns before calling the reduction.\n",
            "  \"\"\"Entry point for launching an IPython kernel.\n"
          ]
        },
        {
          "output_type": "execute_result",
          "data": {
            "text/plain": [
              "car_ID              0.000000\n",
              "symboling           0.211072\n",
              "wheelbase           1.050214\n",
              "carlength           0.155954\n",
              "carwidth            0.904003\n",
              "carheight           0.063123\n",
              "curbweight          0.681398\n",
              "enginesize          1.947655\n",
              "boreratio           0.020156\n",
              "stroke             -0.689705\n",
              "compressionratio    2.610862\n",
              "horsepower          1.405310\n",
              "peakrpm             0.075159\n",
              "citympg             0.663704\n",
              "highwaympg          0.539997\n",
              "price               1.777678\n",
              "dtype: float64"
            ]
          },
          "metadata": {},
          "execution_count": 12
        }
      ],
      "metadata": {
        "datalore": {
          "type": "CODE",
          "hide_input_from_viewers": false,
          "hide_output_from_viewers": false
        },
        "colab": {
          "base_uri": "https://localhost:8080/"
        },
        "id": "adC91KEOfKwU",
        "outputId": "38a8aaf8-72fb-4489-cb8b-43fcf0a8a29d"
      }
    },
    {
      "cell_type": "code",
      "source": [
        "df.kurtosis()"
      ],
      "execution_count": 13,
      "outputs": [
        {
          "output_type": "stream",
          "name": "stderr",
          "text": [
            "/usr/local/lib/python3.7/dist-packages/ipykernel_launcher.py:1: FutureWarning: Dropping of nuisance columns in DataFrame reductions (with 'numeric_only=None') is deprecated; in a future version this will raise TypeError.  Select only valid columns before calling the reduction.\n",
            "  \"\"\"Entry point for launching an IPython kernel.\n"
          ]
        },
        {
          "output_type": "execute_result",
          "data": {
            "text/plain": [
              "car_ID             -1.200000\n",
              "symboling          -0.676271\n",
              "wheelbase           1.017039\n",
              "carlength          -0.082895\n",
              "carwidth            0.702764\n",
              "carheight          -0.443812\n",
              "curbweight         -0.042854\n",
              "enginesize          5.305682\n",
              "boreratio          -0.785042\n",
              "stroke              2.174396\n",
              "compressionratio    5.233054\n",
              "horsepower          2.684006\n",
              "peakrpm             0.086756\n",
              "citympg             0.578648\n",
              "highwaympg          0.440070\n",
              "price               3.051648\n",
              "dtype: float64"
            ]
          },
          "metadata": {},
          "execution_count": 13
        }
      ],
      "metadata": {
        "datalore": {
          "type": "CODE",
          "hide_input_from_viewers": false,
          "hide_output_from_viewers": false
        },
        "colab": {
          "base_uri": "https://localhost:8080/"
        },
        "id": "mlRKLhgSfKwV",
        "outputId": "8318ae7c-f287-48d4-930c-297e126f1117"
      }
    },
    {
      "cell_type": "code",
      "source": [
        "\n",
        "df.corr()"
      ],
      "execution_count": 14,
      "outputs": [
        {
          "output_type": "execute_result",
          "data": {
            "text/plain": [
              "                    car_ID  symboling  wheelbase  carlength  carwidth  \\\n",
              "car_ID            1.000000  -0.151621   0.129729   0.170636  0.052387   \n",
              "symboling        -0.151621   1.000000  -0.531954  -0.357612 -0.232919   \n",
              "wheelbase         0.129729  -0.531954   1.000000   0.874587  0.795144   \n",
              "carlength         0.170636  -0.357612   0.874587   1.000000  0.841118   \n",
              "carwidth          0.052387  -0.232919   0.795144   0.841118  1.000000   \n",
              "carheight         0.255960  -0.541038   0.589435   0.491029  0.279210   \n",
              "curbweight        0.071962  -0.227691   0.776386   0.877728  0.867032   \n",
              "enginesize       -0.033930  -0.105790   0.569329   0.683360  0.735433   \n",
              "boreratio         0.260064  -0.130051   0.488750   0.606454  0.559150   \n",
              "stroke           -0.160824  -0.008735   0.160959   0.129533  0.182942   \n",
              "compressionratio  0.150276  -0.178515   0.249786   0.158414  0.181129   \n",
              "horsepower       -0.015006   0.070873   0.353294   0.552623  0.640732   \n",
              "peakrpm          -0.203789   0.273606  -0.360469  -0.287242 -0.220012   \n",
              "citympg           0.015940  -0.035823  -0.470414  -0.670909 -0.642704   \n",
              "highwaympg        0.011255   0.034606  -0.544082  -0.704662 -0.677218   \n",
              "price            -0.109093  -0.079978   0.577816   0.682920  0.759325   \n",
              "\n",
              "                  carheight  curbweight  enginesize  boreratio    stroke  \\\n",
              "car_ID             0.255960    0.071962   -0.033930   0.260064 -0.160824   \n",
              "symboling         -0.541038   -0.227691   -0.105790  -0.130051 -0.008735   \n",
              "wheelbase          0.589435    0.776386    0.569329   0.488750  0.160959   \n",
              "carlength          0.491029    0.877728    0.683360   0.606454  0.129533   \n",
              "carwidth           0.279210    0.867032    0.735433   0.559150  0.182942   \n",
              "carheight          1.000000    0.295572    0.067149   0.171071 -0.055307   \n",
              "curbweight         0.295572    1.000000    0.850594   0.648480  0.168790   \n",
              "enginesize         0.067149    0.850594    1.000000   0.583774  0.203129   \n",
              "boreratio          0.171071    0.648480    0.583774   1.000000 -0.055909   \n",
              "stroke            -0.055307    0.168790    0.203129  -0.055909  1.000000   \n",
              "compressionratio   0.261214    0.151362    0.028971   0.005197  0.186110   \n",
              "horsepower        -0.108802    0.750739    0.809769   0.573677  0.080940   \n",
              "peakrpm           -0.320411   -0.266243   -0.244660  -0.254976 -0.067964   \n",
              "citympg           -0.048640   -0.757414   -0.653658  -0.584532 -0.042145   \n",
              "highwaympg        -0.107358   -0.797465   -0.677470  -0.587012 -0.043931   \n",
              "price              0.119336    0.835305    0.874145   0.553173  0.079443   \n",
              "\n",
              "                  compressionratio  horsepower   peakrpm   citympg  \\\n",
              "car_ID                    0.150276   -0.015006 -0.203789  0.015940   \n",
              "symboling                -0.178515    0.070873  0.273606 -0.035823   \n",
              "wheelbase                 0.249786    0.353294 -0.360469 -0.470414   \n",
              "carlength                 0.158414    0.552623 -0.287242 -0.670909   \n",
              "carwidth                  0.181129    0.640732 -0.220012 -0.642704   \n",
              "carheight                 0.261214   -0.108802 -0.320411 -0.048640   \n",
              "curbweight                0.151362    0.750739 -0.266243 -0.757414   \n",
              "enginesize                0.028971    0.809769 -0.244660 -0.653658   \n",
              "boreratio                 0.005197    0.573677 -0.254976 -0.584532   \n",
              "stroke                    0.186110    0.080940 -0.067964 -0.042145   \n",
              "compressionratio          1.000000   -0.204326 -0.435741  0.324701   \n",
              "horsepower               -0.204326    1.000000  0.131073 -0.801456   \n",
              "peakrpm                  -0.435741    0.131073  1.000000 -0.113544   \n",
              "citympg                   0.324701   -0.801456 -0.113544  1.000000   \n",
              "highwaympg                0.265201   -0.770544 -0.054275  0.971337   \n",
              "price                     0.067984    0.808139 -0.085267 -0.685751   \n",
              "\n",
              "                  highwaympg     price  \n",
              "car_ID              0.011255 -0.109093  \n",
              "symboling           0.034606 -0.079978  \n",
              "wheelbase          -0.544082  0.577816  \n",
              "carlength          -0.704662  0.682920  \n",
              "carwidth           -0.677218  0.759325  \n",
              "carheight          -0.107358  0.119336  \n",
              "curbweight         -0.797465  0.835305  \n",
              "enginesize         -0.677470  0.874145  \n",
              "boreratio          -0.587012  0.553173  \n",
              "stroke             -0.043931  0.079443  \n",
              "compressionratio    0.265201  0.067984  \n",
              "horsepower         -0.770544  0.808139  \n",
              "peakrpm            -0.054275 -0.085267  \n",
              "citympg             0.971337 -0.685751  \n",
              "highwaympg          1.000000 -0.697599  \n",
              "price              -0.697599  1.000000  "
            ],
            "text/html": [
              "\n",
              "  <div id=\"df-f9db2f0c-7b94-46a5-ae13-3d0e3b4d6d19\">\n",
              "    <div class=\"colab-df-container\">\n",
              "      <div>\n",
              "<style scoped>\n",
              "    .dataframe tbody tr th:only-of-type {\n",
              "        vertical-align: middle;\n",
              "    }\n",
              "\n",
              "    .dataframe tbody tr th {\n",
              "        vertical-align: top;\n",
              "    }\n",
              "\n",
              "    .dataframe thead th {\n",
              "        text-align: right;\n",
              "    }\n",
              "</style>\n",
              "<table border=\"1\" class=\"dataframe\">\n",
              "  <thead>\n",
              "    <tr style=\"text-align: right;\">\n",
              "      <th></th>\n",
              "      <th>car_ID</th>\n",
              "      <th>symboling</th>\n",
              "      <th>wheelbase</th>\n",
              "      <th>carlength</th>\n",
              "      <th>carwidth</th>\n",
              "      <th>carheight</th>\n",
              "      <th>curbweight</th>\n",
              "      <th>enginesize</th>\n",
              "      <th>boreratio</th>\n",
              "      <th>stroke</th>\n",
              "      <th>compressionratio</th>\n",
              "      <th>horsepower</th>\n",
              "      <th>peakrpm</th>\n",
              "      <th>citympg</th>\n",
              "      <th>highwaympg</th>\n",
              "      <th>price</th>\n",
              "    </tr>\n",
              "  </thead>\n",
              "  <tbody>\n",
              "    <tr>\n",
              "      <th>car_ID</th>\n",
              "      <td>1.000000</td>\n",
              "      <td>-0.151621</td>\n",
              "      <td>0.129729</td>\n",
              "      <td>0.170636</td>\n",
              "      <td>0.052387</td>\n",
              "      <td>0.255960</td>\n",
              "      <td>0.071962</td>\n",
              "      <td>-0.033930</td>\n",
              "      <td>0.260064</td>\n",
              "      <td>-0.160824</td>\n",
              "      <td>0.150276</td>\n",
              "      <td>-0.015006</td>\n",
              "      <td>-0.203789</td>\n",
              "      <td>0.015940</td>\n",
              "      <td>0.011255</td>\n",
              "      <td>-0.109093</td>\n",
              "    </tr>\n",
              "    <tr>\n",
              "      <th>symboling</th>\n",
              "      <td>-0.151621</td>\n",
              "      <td>1.000000</td>\n",
              "      <td>-0.531954</td>\n",
              "      <td>-0.357612</td>\n",
              "      <td>-0.232919</td>\n",
              "      <td>-0.541038</td>\n",
              "      <td>-0.227691</td>\n",
              "      <td>-0.105790</td>\n",
              "      <td>-0.130051</td>\n",
              "      <td>-0.008735</td>\n",
              "      <td>-0.178515</td>\n",
              "      <td>0.070873</td>\n",
              "      <td>0.273606</td>\n",
              "      <td>-0.035823</td>\n",
              "      <td>0.034606</td>\n",
              "      <td>-0.079978</td>\n",
              "    </tr>\n",
              "    <tr>\n",
              "      <th>wheelbase</th>\n",
              "      <td>0.129729</td>\n",
              "      <td>-0.531954</td>\n",
              "      <td>1.000000</td>\n",
              "      <td>0.874587</td>\n",
              "      <td>0.795144</td>\n",
              "      <td>0.589435</td>\n",
              "      <td>0.776386</td>\n",
              "      <td>0.569329</td>\n",
              "      <td>0.488750</td>\n",
              "      <td>0.160959</td>\n",
              "      <td>0.249786</td>\n",
              "      <td>0.353294</td>\n",
              "      <td>-0.360469</td>\n",
              "      <td>-0.470414</td>\n",
              "      <td>-0.544082</td>\n",
              "      <td>0.577816</td>\n",
              "    </tr>\n",
              "    <tr>\n",
              "      <th>carlength</th>\n",
              "      <td>0.170636</td>\n",
              "      <td>-0.357612</td>\n",
              "      <td>0.874587</td>\n",
              "      <td>1.000000</td>\n",
              "      <td>0.841118</td>\n",
              "      <td>0.491029</td>\n",
              "      <td>0.877728</td>\n",
              "      <td>0.683360</td>\n",
              "      <td>0.606454</td>\n",
              "      <td>0.129533</td>\n",
              "      <td>0.158414</td>\n",
              "      <td>0.552623</td>\n",
              "      <td>-0.287242</td>\n",
              "      <td>-0.670909</td>\n",
              "      <td>-0.704662</td>\n",
              "      <td>0.682920</td>\n",
              "    </tr>\n",
              "    <tr>\n",
              "      <th>carwidth</th>\n",
              "      <td>0.052387</td>\n",
              "      <td>-0.232919</td>\n",
              "      <td>0.795144</td>\n",
              "      <td>0.841118</td>\n",
              "      <td>1.000000</td>\n",
              "      <td>0.279210</td>\n",
              "      <td>0.867032</td>\n",
              "      <td>0.735433</td>\n",
              "      <td>0.559150</td>\n",
              "      <td>0.182942</td>\n",
              "      <td>0.181129</td>\n",
              "      <td>0.640732</td>\n",
              "      <td>-0.220012</td>\n",
              "      <td>-0.642704</td>\n",
              "      <td>-0.677218</td>\n",
              "      <td>0.759325</td>\n",
              "    </tr>\n",
              "    <tr>\n",
              "      <th>carheight</th>\n",
              "      <td>0.255960</td>\n",
              "      <td>-0.541038</td>\n",
              "      <td>0.589435</td>\n",
              "      <td>0.491029</td>\n",
              "      <td>0.279210</td>\n",
              "      <td>1.000000</td>\n",
              "      <td>0.295572</td>\n",
              "      <td>0.067149</td>\n",
              "      <td>0.171071</td>\n",
              "      <td>-0.055307</td>\n",
              "      <td>0.261214</td>\n",
              "      <td>-0.108802</td>\n",
              "      <td>-0.320411</td>\n",
              "      <td>-0.048640</td>\n",
              "      <td>-0.107358</td>\n",
              "      <td>0.119336</td>\n",
              "    </tr>\n",
              "    <tr>\n",
              "      <th>curbweight</th>\n",
              "      <td>0.071962</td>\n",
              "      <td>-0.227691</td>\n",
              "      <td>0.776386</td>\n",
              "      <td>0.877728</td>\n",
              "      <td>0.867032</td>\n",
              "      <td>0.295572</td>\n",
              "      <td>1.000000</td>\n",
              "      <td>0.850594</td>\n",
              "      <td>0.648480</td>\n",
              "      <td>0.168790</td>\n",
              "      <td>0.151362</td>\n",
              "      <td>0.750739</td>\n",
              "      <td>-0.266243</td>\n",
              "      <td>-0.757414</td>\n",
              "      <td>-0.797465</td>\n",
              "      <td>0.835305</td>\n",
              "    </tr>\n",
              "    <tr>\n",
              "      <th>enginesize</th>\n",
              "      <td>-0.033930</td>\n",
              "      <td>-0.105790</td>\n",
              "      <td>0.569329</td>\n",
              "      <td>0.683360</td>\n",
              "      <td>0.735433</td>\n",
              "      <td>0.067149</td>\n",
              "      <td>0.850594</td>\n",
              "      <td>1.000000</td>\n",
              "      <td>0.583774</td>\n",
              "      <td>0.203129</td>\n",
              "      <td>0.028971</td>\n",
              "      <td>0.809769</td>\n",
              "      <td>-0.244660</td>\n",
              "      <td>-0.653658</td>\n",
              "      <td>-0.677470</td>\n",
              "      <td>0.874145</td>\n",
              "    </tr>\n",
              "    <tr>\n",
              "      <th>boreratio</th>\n",
              "      <td>0.260064</td>\n",
              "      <td>-0.130051</td>\n",
              "      <td>0.488750</td>\n",
              "      <td>0.606454</td>\n",
              "      <td>0.559150</td>\n",
              "      <td>0.171071</td>\n",
              "      <td>0.648480</td>\n",
              "      <td>0.583774</td>\n",
              "      <td>1.000000</td>\n",
              "      <td>-0.055909</td>\n",
              "      <td>0.005197</td>\n",
              "      <td>0.573677</td>\n",
              "      <td>-0.254976</td>\n",
              "      <td>-0.584532</td>\n",
              "      <td>-0.587012</td>\n",
              "      <td>0.553173</td>\n",
              "    </tr>\n",
              "    <tr>\n",
              "      <th>stroke</th>\n",
              "      <td>-0.160824</td>\n",
              "      <td>-0.008735</td>\n",
              "      <td>0.160959</td>\n",
              "      <td>0.129533</td>\n",
              "      <td>0.182942</td>\n",
              "      <td>-0.055307</td>\n",
              "      <td>0.168790</td>\n",
              "      <td>0.203129</td>\n",
              "      <td>-0.055909</td>\n",
              "      <td>1.000000</td>\n",
              "      <td>0.186110</td>\n",
              "      <td>0.080940</td>\n",
              "      <td>-0.067964</td>\n",
              "      <td>-0.042145</td>\n",
              "      <td>-0.043931</td>\n",
              "      <td>0.079443</td>\n",
              "    </tr>\n",
              "    <tr>\n",
              "      <th>compressionratio</th>\n",
              "      <td>0.150276</td>\n",
              "      <td>-0.178515</td>\n",
              "      <td>0.249786</td>\n",
              "      <td>0.158414</td>\n",
              "      <td>0.181129</td>\n",
              "      <td>0.261214</td>\n",
              "      <td>0.151362</td>\n",
              "      <td>0.028971</td>\n",
              "      <td>0.005197</td>\n",
              "      <td>0.186110</td>\n",
              "      <td>1.000000</td>\n",
              "      <td>-0.204326</td>\n",
              "      <td>-0.435741</td>\n",
              "      <td>0.324701</td>\n",
              "      <td>0.265201</td>\n",
              "      <td>0.067984</td>\n",
              "    </tr>\n",
              "    <tr>\n",
              "      <th>horsepower</th>\n",
              "      <td>-0.015006</td>\n",
              "      <td>0.070873</td>\n",
              "      <td>0.353294</td>\n",
              "      <td>0.552623</td>\n",
              "      <td>0.640732</td>\n",
              "      <td>-0.108802</td>\n",
              "      <td>0.750739</td>\n",
              "      <td>0.809769</td>\n",
              "      <td>0.573677</td>\n",
              "      <td>0.080940</td>\n",
              "      <td>-0.204326</td>\n",
              "      <td>1.000000</td>\n",
              "      <td>0.131073</td>\n",
              "      <td>-0.801456</td>\n",
              "      <td>-0.770544</td>\n",
              "      <td>0.808139</td>\n",
              "    </tr>\n",
              "    <tr>\n",
              "      <th>peakrpm</th>\n",
              "      <td>-0.203789</td>\n",
              "      <td>0.273606</td>\n",
              "      <td>-0.360469</td>\n",
              "      <td>-0.287242</td>\n",
              "      <td>-0.220012</td>\n",
              "      <td>-0.320411</td>\n",
              "      <td>-0.266243</td>\n",
              "      <td>-0.244660</td>\n",
              "      <td>-0.254976</td>\n",
              "      <td>-0.067964</td>\n",
              "      <td>-0.435741</td>\n",
              "      <td>0.131073</td>\n",
              "      <td>1.000000</td>\n",
              "      <td>-0.113544</td>\n",
              "      <td>-0.054275</td>\n",
              "      <td>-0.085267</td>\n",
              "    </tr>\n",
              "    <tr>\n",
              "      <th>citympg</th>\n",
              "      <td>0.015940</td>\n",
              "      <td>-0.035823</td>\n",
              "      <td>-0.470414</td>\n",
              "      <td>-0.670909</td>\n",
              "      <td>-0.642704</td>\n",
              "      <td>-0.048640</td>\n",
              "      <td>-0.757414</td>\n",
              "      <td>-0.653658</td>\n",
              "      <td>-0.584532</td>\n",
              "      <td>-0.042145</td>\n",
              "      <td>0.324701</td>\n",
              "      <td>-0.801456</td>\n",
              "      <td>-0.113544</td>\n",
              "      <td>1.000000</td>\n",
              "      <td>0.971337</td>\n",
              "      <td>-0.685751</td>\n",
              "    </tr>\n",
              "    <tr>\n",
              "      <th>highwaympg</th>\n",
              "      <td>0.011255</td>\n",
              "      <td>0.034606</td>\n",
              "      <td>-0.544082</td>\n",
              "      <td>-0.704662</td>\n",
              "      <td>-0.677218</td>\n",
              "      <td>-0.107358</td>\n",
              "      <td>-0.797465</td>\n",
              "      <td>-0.677470</td>\n",
              "      <td>-0.587012</td>\n",
              "      <td>-0.043931</td>\n",
              "      <td>0.265201</td>\n",
              "      <td>-0.770544</td>\n",
              "      <td>-0.054275</td>\n",
              "      <td>0.971337</td>\n",
              "      <td>1.000000</td>\n",
              "      <td>-0.697599</td>\n",
              "    </tr>\n",
              "    <tr>\n",
              "      <th>price</th>\n",
              "      <td>-0.109093</td>\n",
              "      <td>-0.079978</td>\n",
              "      <td>0.577816</td>\n",
              "      <td>0.682920</td>\n",
              "      <td>0.759325</td>\n",
              "      <td>0.119336</td>\n",
              "      <td>0.835305</td>\n",
              "      <td>0.874145</td>\n",
              "      <td>0.553173</td>\n",
              "      <td>0.079443</td>\n",
              "      <td>0.067984</td>\n",
              "      <td>0.808139</td>\n",
              "      <td>-0.085267</td>\n",
              "      <td>-0.685751</td>\n",
              "      <td>-0.697599</td>\n",
              "      <td>1.000000</td>\n",
              "    </tr>\n",
              "  </tbody>\n",
              "</table>\n",
              "</div>\n",
              "      <button class=\"colab-df-convert\" onclick=\"convertToInteractive('df-f9db2f0c-7b94-46a5-ae13-3d0e3b4d6d19')\"\n",
              "              title=\"Convert this dataframe to an interactive table.\"\n",
              "              style=\"display:none;\">\n",
              "        \n",
              "  <svg xmlns=\"http://www.w3.org/2000/svg\" height=\"24px\"viewBox=\"0 0 24 24\"\n",
              "       width=\"24px\">\n",
              "    <path d=\"M0 0h24v24H0V0z\" fill=\"none\"/>\n",
              "    <path d=\"M18.56 5.44l.94 2.06.94-2.06 2.06-.94-2.06-.94-.94-2.06-.94 2.06-2.06.94zm-11 1L8.5 8.5l.94-2.06 2.06-.94-2.06-.94L8.5 2.5l-.94 2.06-2.06.94zm10 10l.94 2.06.94-2.06 2.06-.94-2.06-.94-.94-2.06-.94 2.06-2.06.94z\"/><path d=\"M17.41 7.96l-1.37-1.37c-.4-.4-.92-.59-1.43-.59-.52 0-1.04.2-1.43.59L10.3 9.45l-7.72 7.72c-.78.78-.78 2.05 0 2.83L4 21.41c.39.39.9.59 1.41.59.51 0 1.02-.2 1.41-.59l7.78-7.78 2.81-2.81c.8-.78.8-2.07 0-2.86zM5.41 20L4 18.59l7.72-7.72 1.47 1.35L5.41 20z\"/>\n",
              "  </svg>\n",
              "      </button>\n",
              "      \n",
              "  <style>\n",
              "    .colab-df-container {\n",
              "      display:flex;\n",
              "      flex-wrap:wrap;\n",
              "      gap: 12px;\n",
              "    }\n",
              "\n",
              "    .colab-df-convert {\n",
              "      background-color: #E8F0FE;\n",
              "      border: none;\n",
              "      border-radius: 50%;\n",
              "      cursor: pointer;\n",
              "      display: none;\n",
              "      fill: #1967D2;\n",
              "      height: 32px;\n",
              "      padding: 0 0 0 0;\n",
              "      width: 32px;\n",
              "    }\n",
              "\n",
              "    .colab-df-convert:hover {\n",
              "      background-color: #E2EBFA;\n",
              "      box-shadow: 0px 1px 2px rgba(60, 64, 67, 0.3), 0px 1px 3px 1px rgba(60, 64, 67, 0.15);\n",
              "      fill: #174EA6;\n",
              "    }\n",
              "\n",
              "    [theme=dark] .colab-df-convert {\n",
              "      background-color: #3B4455;\n",
              "      fill: #D2E3FC;\n",
              "    }\n",
              "\n",
              "    [theme=dark] .colab-df-convert:hover {\n",
              "      background-color: #434B5C;\n",
              "      box-shadow: 0px 1px 3px 1px rgba(0, 0, 0, 0.15);\n",
              "      filter: drop-shadow(0px 1px 2px rgba(0, 0, 0, 0.3));\n",
              "      fill: #FFFFFF;\n",
              "    }\n",
              "  </style>\n",
              "\n",
              "      <script>\n",
              "        const buttonEl =\n",
              "          document.querySelector('#df-f9db2f0c-7b94-46a5-ae13-3d0e3b4d6d19 button.colab-df-convert');\n",
              "        buttonEl.style.display =\n",
              "          google.colab.kernel.accessAllowed ? 'block' : 'none';\n",
              "\n",
              "        async function convertToInteractive(key) {\n",
              "          const element = document.querySelector('#df-f9db2f0c-7b94-46a5-ae13-3d0e3b4d6d19');\n",
              "          const dataTable =\n",
              "            await google.colab.kernel.invokeFunction('convertToInteractive',\n",
              "                                                     [key], {});\n",
              "          if (!dataTable) return;\n",
              "\n",
              "          const docLinkHtml = 'Like what you see? Visit the ' +\n",
              "            '<a target=\"_blank\" href=https://colab.research.google.com/notebooks/data_table.ipynb>data table notebook</a>'\n",
              "            + ' to learn more about interactive tables.';\n",
              "          element.innerHTML = '';\n",
              "          dataTable['output_type'] = 'display_data';\n",
              "          await google.colab.output.renderOutput(dataTable, element);\n",
              "          const docLink = document.createElement('div');\n",
              "          docLink.innerHTML = docLinkHtml;\n",
              "          element.appendChild(docLink);\n",
              "        }\n",
              "      </script>\n",
              "    </div>\n",
              "  </div>\n",
              "  "
            ]
          },
          "metadata": {},
          "execution_count": 14
        }
      ],
      "metadata": {
        "datalore": {
          "type": "CODE",
          "hide_input_from_viewers": false,
          "hide_output_from_viewers": false
        },
        "colab": {
          "base_uri": "https://localhost:8080/",
          "height": 615
        },
        "id": "z7oxpPHWfKwV",
        "outputId": "58178c92-5baa-4fb6-d4bf-555e1fc478f4"
      }
    },
    {
      "cell_type": "code",
      "source": [
        "\n",
        "#prethodne dve linije su se odnosile na prvu pretpostavku linearnog regresionog modela da su varijable X i Y numeričke varijable\n",
        "#s obzirom da imamo 10 kolon sa kategorijskim varijablama koje nisu relevante za regresionu analizu, nećemo ih ni uključiti "
      ],
      "execution_count": 15,
      "outputs": [],
      "metadata": {
        "datalore": {
          "type": "CODE",
          "hide_input_from_viewers": false,
          "hide_output_from_viewers": false
        },
        "id": "47ZzskE0fKwV"
      }
    },
    {
      "cell_type": "code",
      "source": [
        "\n",
        "\n",
        "#Pretpostavka br. 2: Linearnost između nezavisne varijable X i zavisne varijable Y (proverava se preko tačkastog dijagrama)\n",
        "sns.pairplot(df.head(205), x_vars=['wheelbase', 'carlength', 'carwidth', 'carheight', 'curbweight', 'enginesize'], \n",
        "                          y_vars='price',height=5, aspect=0.7, kind='scatter')\n",
        "plt.tight_layout()\n",
        "plt.show()\n",
        "\n",
        "        "
      ],
      "execution_count": 16,
      "outputs": [
        {
          "output_type": "display_data",
          "data": {
            "text/plain": [
              "<Figure size 1512x360 with 6 Axes>"
            ],
            "image/png": "[encoded data removed]"
          },
          "metadata": {
            "needs_background": "light"
          }
        }
      ],
      "metadata": {
        "datalore": {
          "type": "CODE",
          "hide_input_from_viewers": false,
          "hide_output_from_viewers": false
        },
        "colab": {
          "base_uri": "https://localhost:8080/",
          "height": 278
        },
        "id": "09ZHtR4UfKwc",
        "outputId": "b0399bdc-ce75-4a6e-f079-cca75aa7fc51"
      }
    },
    {
      "cell_type": "code",
      "source": [
        "\n",
        "sns.pairplot(df.head(205), x_vars=['boreratio', 'stroke', 'compressionratio', 'horsepower', 'peakrpm', 'citympg', 'highwaympg'],\n",
        "                          y_vars='price',height=5, aspect=0.7, kind='scatter')\n",
        "plt.tight_layout()\n",
        "plt.show"
      ],
      "execution_count": 17,
      "outputs": [
        {
          "output_type": "execute_result",
          "data": {
            "text/plain": [
              "<function matplotlib.pyplot.show>"
            ]
          },
          "metadata": {},
          "execution_count": 17
        },
        {
          "output_type": "display_data",
          "data": {
            "text/plain": [
              "<Figure size 1764x360 with 7 Axes>"
            ],
            "image/png": "[encoded data removed]"
          },
          "metadata": {
            "needs_background": "light"
          }
        }
      ],
      "metadata": {
        "datalore": {
          "type": "CODE",
          "hide_input_from_viewers": false,
          "hide_output_from_viewers": false
        },
        "colab": {
          "base_uri": "https://localhost:8080/",
          "height": 258
        },
        "id": "pB251S_VfKwc",
        "outputId": "23f574d0-38e2-4b45-bb50-555090749bea"
      }
    },
    {
      "cell_type": "code",
      "source": [
        "df = pd.read_csv('CarPrice_Assignment.csv')\n",
        "df.drop(['car_ID','CarName', 'symboling','fueltype', 'aspiration', 'doornumber',\n",
        "       'carbody', 'drivewheel', 'enginelocation','enginetype','cylindernumber','fuelsystem'],axis = 1,inplace = True)\n",
        "df"
      ],
      "execution_count": 18,
      "outputs": [
        {
          "output_type": "execute_result",
          "data": {
            "text/plain": [
              "     wheelbase  carlength  carwidth  carheight  curbweight  enginesize  \\\n",
              "0         88.6      168.8      64.1       48.8        2548         130   \n",
              "1         88.6      168.8      64.1       48.8        2548         130   \n",
              "2         94.5      171.2      65.5       52.4        2823         152   \n",
              "3         99.8      176.6      66.2       54.3        2337         109   \n",
              "4         99.4      176.6      66.4       54.3        2824         136   \n",
              "..         ...        ...       ...        ...         ...         ...   \n",
              "200      109.1      188.8      68.9       55.5        2952         141   \n",
              "201      109.1      188.8      68.8       55.5        3049         141   \n",
              "202      109.1      188.8      68.9       55.5        3012         173   \n",
              "203      109.1      188.8      68.9       55.5        3217         145   \n",
              "204      109.1      188.8      68.9       55.5        3062         141   \n",
              "\n",
              "     boreratio  stroke  compressionratio  horsepower  peakrpm  citympg  \\\n",
              "0         3.47    2.68               9.0         111     5000       21   \n",
              "1         3.47    2.68               9.0         111     5000       21   \n",
              "2         2.68    3.47               9.0         154     5000       19   \n",
              "3         3.19    3.40              10.0         102     5500       24   \n",
              "4         3.19    3.40               8.0         115     5500       18   \n",
              "..         ...     ...               ...         ...      ...      ...   \n",
              "200       3.78    3.15               9.5         114     5400       23   \n",
              "201       3.78    3.15               8.7         160     5300       19   \n",
              "202       3.58    2.87               8.8         134     5500       18   \n",
              "203       3.01    3.40              23.0         106     4800       26   \n",
              "204       3.78    3.15               9.5         114     5400       19   \n",
              "\n",
              "     highwaympg    price  \n",
              "0            27  13495.0  \n",
              "1            27  16500.0  \n",
              "2            26  16500.0  \n",
              "3            30  13950.0  \n",
              "4            22  17450.0  \n",
              "..          ...      ...  \n",
              "200          28  16845.0  \n",
              "201          25  19045.0  \n",
              "202          23  21485.0  \n",
              "203          27  22470.0  \n",
              "204          25  22625.0  \n",
              "\n",
              "[205 rows x 14 columns]"
            ],
            "text/html": [
              "\n",
              "  <div id=\"df-32fdb15c-d3cc-4ab9-9102-fdea3e62e9ef\">\n",
              "    <div class=\"colab-df-container\">\n",
              "      <div>\n",
              "<style scoped>\n",
              "    .dataframe tbody tr th:only-of-type {\n",
              "        vertical-align: middle;\n",
              "    }\n",
              "\n",
              "    .dataframe tbody tr th {\n",
              "        vertical-align: top;\n",
              "    }\n",
              "\n",
              "    .dataframe thead th {\n",
              "        text-align: right;\n",
              "    }\n",
              "</style>\n",
              "<table border=\"1\" class=\"dataframe\">\n",
              "  <thead>\n",
              "    <tr style=\"text-align: right;\">\n",
              "      <th></th>\n",
              "      <th>wheelbase</th>\n",
              "      <th>carlength</th>\n",
              "      <th>carwidth</th>\n",
              "      <th>carheight</th>\n",
              "      <th>curbweight</th>\n",
              "      <th>enginesize</th>\n",
              "      <th>boreratio</th>\n",
              "      <th>stroke</th>\n",
              "      <th>compressionratio</th>\n",
              "      <th>horsepower</th>\n",
              "      <th>peakrpm</th>\n",
              "      <th>citympg</th>\n",
              "      <th>highwaympg</th>\n",
              "      <th>price</th>\n",
              "    </tr>\n",
              "  </thead>\n",
              "  <tbody>\n",
              "    <tr>\n",
              "      <th>0</th>\n",
              "      <td>88.6</td>\n",
              "      <td>168.8</td>\n",
              "      <td>64.1</td>\n",
              "      <td>48.8</td>\n",
              "      <td>2548</td>\n",
              "      <td>130</td>\n",
              "      <td>3.47</td>\n",
              "      <td>2.68</td>\n",
              "      <td>9.0</td>\n",
              "      <td>111</td>\n",
              "      <td>5000</td>\n",
              "      <td>21</td>\n",
              "      <td>27</td>\n",
              "      <td>13495.0</td>\n",
              "    </tr>\n",
              "    <tr>\n",
              "      <th>1</th>\n",
              "      <td>88.6</td>\n",
              "      <td>168.8</td>\n",
              "      <td>64.1</td>\n",
              "      <td>48.8</td>\n",
              "      <td>2548</td>\n",
              "      <td>130</td>\n",
              "      <td>3.47</td>\n",
              "      <td>2.68</td>\n",
              "      <td>9.0</td>\n",
              "      <td>111</td>\n",
              "      <td>5000</td>\n",
              "      <td>21</td>\n",
              "      <td>27</td>\n",
              "      <td>16500.0</td>\n",
              "    </tr>\n",
              "    <tr>\n",
              "      <th>2</th>\n",
              "      <td>94.5</td>\n",
              "      <td>171.2</td>\n",
              "      <td>65.5</td>\n",
              "      <td>52.4</td>\n",
              "      <td>2823</td>\n",
              "      <td>152</td>\n",
              "      <td>2.68</td>\n",
              "      <td>3.47</td>\n",
              "      <td>9.0</td>\n",
              "      <td>154</td>\n",
              "      <td>5000</td>\n",
              "      <td>19</td>\n",
              "      <td>26</td>\n",
              "      <td>16500.0</td>\n",
              "    </tr>\n",
              "    <tr>\n",
              "      <th>3</th>\n",
              "      <td>99.8</td>\n",
              "      <td>176.6</td>\n",
              "      <td>66.2</td>\n",
              "      <td>54.3</td>\n",
              "      <td>2337</td>\n",
              "      <td>109</td>\n",
              "      <td>3.19</td>\n",
              "      <td>3.40</td>\n",
              "      <td>10.0</td>\n",
              "      <td>102</td>\n",
              "      <td>5500</td>\n",
              "      <td>24</td>\n",
              "      <td>30</td>\n",
              "      <td>13950.0</td>\n",
              "    </tr>\n",
              "    <tr>\n",
              "      <th>4</th>\n",
              "      <td>99.4</td>\n",
              "      <td>176.6</td>\n",
              "      <td>66.4</td>\n",
              "      <td>54.3</td>\n",
              "      <td>2824</td>\n",
              "      <td>136</td>\n",
              "      <td>3.19</td>\n",
              "      <td>3.40</td>\n",
              "      <td>8.0</td>\n",
              "      <td>115</td>\n",
              "      <td>5500</td>\n",
              "      <td>18</td>\n",
              "      <td>22</td>\n",
              "      <td>17450.0</td>\n",
              "    </tr>\n",
              "    <tr>\n",
              "      <th>...</th>\n",
              "      <td>...</td>\n",
              "      <td>...</td>\n",
              "      <td>...</td>\n",
              "      <td>...</td>\n",
              "      <td>...</td>\n",
              "      <td>...</td>\n",
              "      <td>...</td>\n",
              "      <td>...</td>\n",
              "      <td>...</td>\n",
              "      <td>...</td>\n",
              "      <td>...</td>\n",
              "      <td>...</td>\n",
              "      <td>...</td>\n",
              "      <td>...</td>\n",
              "    </tr>\n",
              "    <tr>\n",
              "      <th>200</th>\n",
              "      <td>109.1</td>\n",
              "      <td>188.8</td>\n",
              "      <td>68.9</td>\n",
              "      <td>55.5</td>\n",
              "      <td>2952</td>\n",
              "      <td>141</td>\n",
              "      <td>3.78</td>\n",
              "      <td>3.15</td>\n",
              "      <td>9.5</td>\n",
              "      <td>114</td>\n",
              "      <td>5400</td>\n",
              "      <td>23</td>\n",
              "      <td>28</td>\n",
              "      <td>16845.0</td>\n",
              "    </tr>\n",
              "    <tr>\n",
              "      <th>201</th>\n",
              "      <td>109.1</td>\n",
              "      <td>188.8</td>\n",
              "      <td>68.8</td>\n",
              "      <td>55.5</td>\n",
              "      <td>3049</td>\n",
              "      <td>141</td>\n",
              "      <td>3.78</td>\n",
              "      <td>3.15</td>\n",
              "      <td>8.7</td>\n",
              "      <td>160</td>\n",
              "      <td>5300</td>\n",
              "      <td>19</td>\n",
              "      <td>25</td>\n",
              "      <td>19045.0</td>\n",
              "    </tr>\n",
              "    <tr>\n",
              "      <th>202</th>\n",
              "      <td>109.1</td>\n",
              "      <td>188.8</td>\n",
              "      <td>68.9</td>\n",
              "      <td>55.5</td>\n",
              "      <td>3012</td>\n",
              "      <td>173</td>\n",
              "      <td>3.58</td>\n",
              "      <td>2.87</td>\n",
              "      <td>8.8</td>\n",
              "      <td>134</td>\n",
              "      <td>5500</td>\n",
              "      <td>18</td>\n",
              "      <td>23</td>\n",
              "      <td>21485.0</td>\n",
              "    </tr>\n",
              "    <tr>\n",
              "      <th>203</th>\n",
              "      <td>109.1</td>\n",
              "      <td>188.8</td>\n",
              "      <td>68.9</td>\n",
              "      <td>55.5</td>\n",
              "      <td>3217</td>\n",
              "      <td>145</td>\n",
              "      <td>3.01</td>\n",
              "      <td>3.40</td>\n",
              "      <td>23.0</td>\n",
              "      <td>106</td>\n",
              "      <td>4800</td>\n",
              "      <td>26</td>\n",
              "      <td>27</td>\n",
              "      <td>22470.0</td>\n",
              "    </tr>\n",
              "    <tr>\n",
              "      <th>204</th>\n",
              "      <td>109.1</td>\n",
              "      <td>188.8</td>\n",
              "      <td>68.9</td>\n",
              "      <td>55.5</td>\n",
              "      <td>3062</td>\n",
              "      <td>141</td>\n",
              "      <td>3.78</td>\n",
              "      <td>3.15</td>\n",
              "      <td>9.5</td>\n",
              "      <td>114</td>\n",
              "      <td>5400</td>\n",
              "      <td>19</td>\n",
              "      <td>25</td>\n",
              "      <td>22625.0</td>\n",
              "    </tr>\n",
              "  </tbody>\n",
              "</table>\n",
              "<p>205 rows × 14 columns</p>\n",
              "</div>\n",
              "      <button class=\"colab-df-convert\" onclick=\"convertToInteractive('df-32fdb15c-d3cc-4ab9-9102-fdea3e62e9ef')\"\n",
              "              title=\"Convert this dataframe to an interactive table.\"\n",
              "              style=\"display:none;\">\n",
              "        \n",
              "  <svg xmlns=\"http://www.w3.org/2000/svg\" height=\"24px\"viewBox=\"0 0 24 24\"\n",
              "       width=\"24px\">\n",
              "    <path d=\"M0 0h24v24H0V0z\" fill=\"none\"/>\n",
              "    <path d=\"M18.56 5.44l.94 2.06.94-2.06 2.06-.94-2.06-.94-.94-2.06-.94 2.06-2.06.94zm-11 1L8.5 8.5l.94-2.06 2.06-.94-2.06-.94L8.5 2.5l-.94 2.06-2.06.94zm10 10l.94 2.06.94-2.06 2.06-.94-2.06-.94-.94-2.06-.94 2.06-2.06.94z\"/><path d=\"M17.41 7.96l-1.37-1.37c-.4-.4-.92-.59-1.43-.59-.52 0-1.04.2-1.43.59L10.3 9.45l-7.72 7.72c-.78.78-.78 2.05 0 2.83L4 21.41c.39.39.9.59 1.41.59.51 0 1.02-.2 1.41-.59l7.78-7.78 2.81-2.81c.8-.78.8-2.07 0-2.86zM5.41 20L4 18.59l7.72-7.72 1.47 1.35L5.41 20z\"/>\n",
              "  </svg>\n",
              "      </button>\n",
              "      \n",
              "  <style>\n",
              "    .colab-df-container {\n",
              "      display:flex;\n",
              "      flex-wrap:wrap;\n",
              "      gap: 12px;\n",
              "    }\n",
              "\n",
              "    .colab-df-convert {\n",
              "      background-color: #E8F0FE;\n",
              "      border: none;\n",
              "      border-radius: 50%;\n",
              "      cursor: pointer;\n",
              "      display: none;\n",
              "      fill: #1967D2;\n",
              "      height: 32px;\n",
              "      padding: 0 0 0 0;\n",
              "      width: 32px;\n",
              "    }\n",
              "\n",
              "    .colab-df-convert:hover {\n",
              "      background-color: #E2EBFA;\n",
              "      box-shadow: 0px 1px 2px rgba(60, 64, 67, 0.3), 0px 1px 3px 1px rgba(60, 64, 67, 0.15);\n",
              "      fill: #174EA6;\n",
              "    }\n",
              "\n",
              "    [theme=dark] .colab-df-convert {\n",
              "      background-color: #3B4455;\n",
              "      fill: #D2E3FC;\n",
              "    }\n",
              "\n",
              "    [theme=dark] .colab-df-convert:hover {\n",
              "      background-color: #434B5C;\n",
              "      box-shadow: 0px 1px 3px 1px rgba(0, 0, 0, 0.15);\n",
              "      filter: drop-shadow(0px 1px 2px rgba(0, 0, 0, 0.3));\n",
              "      fill: #FFFFFF;\n",
              "    }\n",
              "  </style>\n",
              "\n",
              "      <script>\n",
              "        const buttonEl =\n",
              "          document.querySelector('#df-32fdb15c-d3cc-4ab9-9102-fdea3e62e9ef button.colab-df-convert');\n",
              "        buttonEl.style.display =\n",
              "          google.colab.kernel.accessAllowed ? 'block' : 'none';\n",
              "\n",
              "        async function convertToInteractive(key) {\n",
              "          const element = document.querySelector('#df-32fdb15c-d3cc-4ab9-9102-fdea3e62e9ef');\n",
              "          const dataTable =\n",
              "            await google.colab.kernel.invokeFunction('convertToInteractive',\n",
              "                                                     [key], {});\n",
              "          if (!dataTable) return;\n",
              "\n",
              "          const docLinkHtml = 'Like what you see? Visit the ' +\n",
              "            '<a target=\"_blank\" href=https://colab.research.google.com/notebooks/data_table.ipynb>data table notebook</a>'\n",
              "            + ' to learn more about interactive tables.';\n",
              "          element.innerHTML = '';\n",
              "          dataTable['output_type'] = 'display_data';\n",
              "          await google.colab.output.renderOutput(dataTable, element);\n",
              "          const docLink = document.createElement('div');\n",
              "          docLink.innerHTML = docLinkHtml;\n",
              "          element.appendChild(docLink);\n",
              "        }\n",
              "      </script>\n",
              "    </div>\n",
              "  </div>\n",
              "  "
            ]
          },
          "metadata": {},
          "execution_count": 18
        }
      ],
      "metadata": {
        "datalore": {
          "type": "CODE",
          "hide_input_from_viewers": false,
          "hide_output_from_viewers": false
        },
        "colab": {
          "base_uri": "https://localhost:8080/",
          "height": 487
        },
        "id": "XoikQauNfKwd",
        "outputId": "065a22b2-4735-4705-ff4a-4fc82dcec373"
      }
    },
    {
      "cell_type": "code",
      "source": [
        "\n",
        "\n",
        "# Create all boxplots at once\n",
        "num_variables=['wheelbase', 'carlength', 'carwidth', 'carheight', 'curbweight', \n",
        "               'enginesize','boreratio', 'stroke', 'compressionratio', 'horsepower', 'peakrpm', 'citympg', \n",
        "               'highwaympg', 'price']\n",
        "\n",
        "for column in num_variables:\n",
        "  #Create the boxplot\n",
        "  ax=sns.boxplot(x = df[column])\n",
        "\n",
        "  #Add labels to the plot\n",
        "  ax.set_xlabel(column, fontsize=15)\n",
        "  ax.set_ylabel('Variable', fontsize=15)\n",
        "  ax.set_title(column + ' boxplot', fontsize=20, pad=20)\n",
        "\n",
        "  plt.show()"
      ],
      "metadata": {
        "colab": {
          "base_uri": "https://localhost:8080/",
          "height": 1000
        },
        "id": "GxFmDT_8QHXV",
        "outputId": "c0e43b06-aa03-444f-c36d-f7f516cf9b3b"
      },
      "execution_count": 19,
      "outputs": [
        {
          "output_type": "display_data",
          "data": {
            "text/plain": [
              "<Figure size 432x288 with 1 Axes>"
            ],
            "image/png": "[encoded data removed]"
          },
          "metadata": {
            "needs_background": "light"
          }
        },
        {
          "output_type": "display_data",
          "data": {
            "text/plain": [
              "<Figure size 432x288 with 1 Axes>"
            ],
            "image/png": "[encoded data removed]"
          },
          "metadata": {
            "needs_background": "light"
          }
        },
        {
          "output_type": "display_data",
          "data": {
            "text/plain": [
              "<Figure size 432x288 with 1 Axes>"
            ],
            "image/png": "[encoded data removed]"
          },
          "metadata": {
            "needs_background": "light"
          }
        },
        {
          "output_type": "display_data",
          "data": {
            "text/plain": [
              "<Figure size 432x288 with 1 Axes>"
            ],
            "image/png": "[encoded data removed]"
          },
          "metadata": {
            "needs_background": "light"
          }
        },
        {
          "output_type": "display_data",
          "data": {
            "text/plain": [
              "<Figure size 432x288 with 1 Axes>"
            ],
            "image/png": "[encoded data removed]"
          },
          "metadata": {
            "needs_background": "light"
          }
        },
        {
          "output_type": "display_data",
          "data": {
            "text/plain": [
              "<Figure size 432x288 with 1 Axes>"
            ],
            "image/png": "[encoded data removed]"
          },
          "metadata": {
            "needs_background": "light"
          }
        },
        {
          "output_type": "display_data",
          "data": {
            "text/plain": [
              "<Figure size 432x288 with 1 Axes>"
            ],
            "image/png": "[encoded data removed]"
          },
          "metadata": {
            "needs_background": "light"
          }
        },
        {
          "output_type": "display_data",
          "data": {
            "text/plain": [
              "<Figure size 432x288 with 1 Axes>"
            ],
            "image/png": "[encoded data removed]"
          },
          "metadata": {
            "needs_background": "light"
          }
        },
        {
          "output_type": "display_data",
          "data": {
            "text/plain": [
              "<Figure size 432x288 with 1 Axes>"
            ],
            "image/png": "[encoded data removed]"
          },
          "metadata": {
            "needs_background": "light"
          }
        },
        {
          "output_type": "display_data",
          "data": {
            "text/plain": [
              "<Figure size 432x288 with 1 Axes>"
            ],
            "image/png": "[encoded data removed]"
          },
          "metadata": {
            "needs_background": "light"
          }
        },
        {
          "output_type": "display_data",
          "data": {
            "text/plain": [
              "<Figure size 432x288 with 1 Axes>"
            ],
            "image/png": "[encoded data removed]"
          },
          "metadata": {
            "needs_background": "light"
          }
        },
        {
          "output_type": "display_data",
          "data": {
            "text/plain": [
              "<Figure size 432x288 with 1 Axes>"
            ],
            "image/png": "[encoded data removed]"
          },
          "metadata": {
            "needs_background": "light"
          }
        },
        {
          "output_type": "display_data",
          "data": {
            "text/plain": [
              "<Figure size 432x288 with 1 Axes>"
            ],
            "image/png": "[encoded data removed]"
          },
          "metadata": {
            "needs_background": "light"
          }
        },
        {
          "output_type": "display_data",
          "data": {
            "text/plain": [
              "<Figure size 432x288 with 1 Axes>"
            ],
            "image/png": "[encoded data removed]"
          },
          "metadata": {
            "needs_background": "light"
          }
        }
      ]
    },
    {
      "cell_type": "code",
      "source": [
        "\n",
        "#Function for outliers detection\n",
        "def outliers_detection(df_input, column):\n",
        "    \n",
        "    df_lower_quartile= df_input[column].quantile(0.25)\n",
        "    df_uper_quartile= df_input[column].quantile(0.75)\n",
        "\n",
        "\n",
        "    #Extract the inter quantile range\n",
        "    df_iqr= df_uper_quartile - df_lower_quartile\n",
        "\n",
        "    #Get the upper and lower bounds\n",
        "    lower_bound_up= df_uper_quartile + 1.5*df_iqr\n",
        "    upper_bound_up= df_uper_quartile + 3*df_iqr\n",
        "\n",
        "    #Get the upper and lower bounds\n",
        "    upper_bound_down= df_lower_quartile - 1.5*df_iqr\n",
        "    lower_bound_down= df_lower_quartile - 3*df_iqr\n",
        "\n",
        "    #Extract values outside the upper bound\n",
        "    df_outliers_current= df_input[(df_input[column] > upper_bound_up) | (df_input[column] < lower_bound_down)]\n",
        "    df_input = df_input[(df_input[column] <= upper_bound_up) & (df_input[column] >= lower_bound_down)]\n",
        "\n",
        "    df_outliers_current['variable']=column\n",
        "    return df_input, df_outliers_current\n",
        "\n",
        "#%%\n",
        "#Loop over the numerical variables\n",
        "num_variables=['wheelbase', 'carlength', 'carwidth', 'carheight', 'curbweight', \n",
        "               'enginesize','boreratio', 'stroke', 'compressionratio', 'horsepower', 'peakrpm', 'citympg', \n",
        "               'highwaympg', 'price']\n",
        "\n",
        "df_cleaned=df\n",
        "df_outliers = pd.DataFrame()\n",
        "\n",
        "for column in num_variables:\n",
        "    df_cleaned, df_outliers_temp = outliers_detection(df_cleaned, column)\n",
        "    df_outliers = df_outliers.append(df_outliers_temp)\n",
        "\n",
        "#%%\n",
        "df_outliers\n",
        "\n"
      ],
      "metadata": {
        "colab": {
          "base_uri": "https://localhost:8080/",
          "height": 1000
        },
        "id": "5N4OPrDwmjCl",
        "outputId": "c10b76e1-406e-466d-d0b2-85aef47d2b56"
      },
      "execution_count": 20,
      "outputs": [
        {
          "output_type": "stream",
          "name": "stderr",
          "text": [
            "/usr/local/lib/python3.7/dist-packages/ipykernel_launcher.py:24: SettingWithCopyWarning: \n",
            "A value is trying to be set on a copy of a slice from a DataFrame.\n",
            "Try using .loc[row_indexer,col_indexer] = value instead\n",
            "\n",
            "See the caveats in the documentation: https://pandas.pydata.org/pandas-docs/stable/user_guide/indexing.html#returning-a-view-versus-a-copy\n"
          ]
        },
        {
          "output_type": "execute_result",
          "data": {
            "text/plain": [
              "     wheelbase  carlength  carwidth  carheight  curbweight  enginesize  \\\n",
              "49       102.0      191.7      70.6       47.8        3950         326   \n",
              "73       120.9      208.1      71.7       56.7        3900         308   \n",
              "74       112.0      199.2      72.0       55.4        3715         304   \n",
              "111      107.9      186.7      68.4       56.7        3075         120   \n",
              "113      114.2      198.9      68.4       56.7        3285         120   \n",
              "134       99.1      186.6      66.5       56.1        2707         121   \n",
              "63        98.8      177.8      66.5       55.5        2443         122   \n",
              "66       104.9      175.0      66.1       54.4        2700         134   \n",
              "67       110.0      190.9      70.3       56.5        3515         183   \n",
              "68       110.0      190.9      70.3       58.7        3750         183   \n",
              "69       106.7      187.5      70.3       54.9        3495         183   \n",
              "70       115.6      202.6      71.7       56.3        3770         183   \n",
              "90        94.5      165.3      63.8       54.5        2017         103   \n",
              "108      107.9      186.7      68.4       56.7        3197         152   \n",
              "110      114.2      198.9      68.4       58.7        3430         152   \n",
              "112      107.9      186.7      68.4       56.7        3252         152   \n",
              "114      114.2      198.9      68.4       58.7        3485         152   \n",
              "116      107.9      186.7      68.4       56.7        3252         152   \n",
              "158       95.7      166.3      64.4       53.0        2275         110   \n",
              "159       95.7      166.3      64.4       52.8        2275         110   \n",
              "174      102.4      175.6      66.5       54.9        2480         110   \n",
              "182       97.3      171.7      65.5       55.7        2261          97   \n",
              "184       97.3      171.7      65.5       55.7        2264          97   \n",
              "187       97.3      171.7      65.5       55.7        2319          97   \n",
              "192      100.4      180.2      66.9       55.1        2579          97   \n",
              "203      109.1      188.8      68.9       55.5        3217         145   \n",
              "129       98.4      175.7      72.3       50.5        3366         203   \n",
              "16       103.5      193.8      67.9       53.7        3380         209   \n",
              "\n",
              "     boreratio  stroke  compressionratio  horsepower  peakrpm  citympg  \\\n",
              "49        3.54    2.76              11.5         262     5000       13   \n",
              "73        3.80    3.35               8.0         184     4500       14   \n",
              "74        3.80    3.35               8.0         184     4500       14   \n",
              "111       3.46    2.19               8.4          95     5000       19   \n",
              "113       3.46    2.19               8.4          95     5000       19   \n",
              "134       2.54    2.07               9.3         110     5250       21   \n",
              "63        3.39    3.39              22.7          64     4650       36   \n",
              "66        3.43    3.64              22.0          72     4200       31   \n",
              "67        3.58    3.64              21.5         123     4350       22   \n",
              "68        3.58    3.64              21.5         123     4350       22   \n",
              "69        3.58    3.64              21.5         123     4350       22   \n",
              "70        3.58    3.64              21.5         123     4350       22   \n",
              "90        2.99    3.47              21.9          55     4800       45   \n",
              "108       3.70    3.52              21.0          95     4150       28   \n",
              "110       3.70    3.52              21.0          95     4150       25   \n",
              "112       3.70    3.52              21.0          95     4150       28   \n",
              "114       3.70    3.52              21.0          95     4150       25   \n",
              "116       3.70    3.52              21.0          95     4150       28   \n",
              "158       3.27    3.35              22.5          56     4500       34   \n",
              "159       3.27    3.35              22.5          56     4500       38   \n",
              "174       3.27    3.35              22.5          73     4500       30   \n",
              "182       3.01    3.40              23.0          52     4800       37   \n",
              "184       3.01    3.40              23.0          52     4800       37   \n",
              "187       3.01    3.40              23.0          68     4500       37   \n",
              "192       3.01    3.40              23.0          68     4500       33   \n",
              "203       3.01    3.40              23.0         106     4800       26   \n",
              "129       3.94    3.11              10.0         288     5750       17   \n",
              "16        3.62    3.39               8.0         182     5400       16   \n",
              "\n",
              "     highwaympg    price          variable  \n",
              "49           17  36000.0        enginesize  \n",
              "73           16  40960.0        enginesize  \n",
              "74           16  45400.0        enginesize  \n",
              "111          24  15580.0            stroke  \n",
              "113          24  16695.0            stroke  \n",
              "134          28  15040.0            stroke  \n",
              "63           42  10795.0  compressionratio  \n",
              "66           39  18344.0  compressionratio  \n",
              "67           25  25552.0  compressionratio  \n",
              "68           25  28248.0  compressionratio  \n",
              "69           25  28176.0  compressionratio  \n",
              "70           25  31600.0  compressionratio  \n",
              "90           50   7099.0  compressionratio  \n",
              "108          33  13200.0  compressionratio  \n",
              "110          25  13860.0  compressionratio  \n",
              "112          33  16900.0  compressionratio  \n",
              "114          25  17075.0  compressionratio  \n",
              "116          33  17950.0  compressionratio  \n",
              "158          36   7898.0  compressionratio  \n",
              "159          47   7788.0  compressionratio  \n",
              "174          33  10698.0  compressionratio  \n",
              "182          46   7775.0  compressionratio  \n",
              "184          46   7995.0  compressionratio  \n",
              "187          42   9495.0  compressionratio  \n",
              "192          38  13845.0  compressionratio  \n",
              "203          27  22470.0  compressionratio  \n",
              "129          28  31400.5        horsepower  \n",
              "16           22  41315.0             price  "
            ],
            "text/html": [
              "\n",
              "  <div id=\"df-c0dda4bb-4d9c-4c83-a0e3-8f7284a5b555\">\n",
              "    <div class=\"colab-df-container\">\n",
              "      <div>\n",
              "<style scoped>\n",
              "    .dataframe tbody tr th:only-of-type {\n",
              "        vertical-align: middle;\n",
              "    }\n",
              "\n",
              "    .dataframe tbody tr th {\n",
              "        vertical-align: top;\n",
              "    }\n",
              "\n",
              "    .dataframe thead th {\n",
              "        text-align: right;\n",
              "    }\n",
              "</style>\n",
              "<table border=\"1\" class=\"dataframe\">\n",
              "  <thead>\n",
              "    <tr style=\"text-align: right;\">\n",
              "      <th></th>\n",
              "      <th>wheelbase</th>\n",
              "      <th>carlength</th>\n",
              "      <th>carwidth</th>\n",
              "      <th>carheight</th>\n",
              "      <th>curbweight</th>\n",
              "      <th>enginesize</th>\n",
              "      <th>boreratio</th>\n",
              "      <th>stroke</th>\n",
              "      <th>compressionratio</th>\n",
              "      <th>horsepower</th>\n",
              "      <th>peakrpm</th>\n",
              "      <th>citympg</th>\n",
              "      <th>highwaympg</th>\n",
              "      <th>price</th>\n",
              "      <th>variable</th>\n",
              "    </tr>\n",
              "  </thead>\n",
              "  <tbody>\n",
              "    <tr>\n",
              "      <th>49</th>\n",
              "      <td>102.0</td>\n",
              "      <td>191.7</td>\n",
              "      <td>70.6</td>\n",
              "      <td>47.8</td>\n",
              "      <td>3950</td>\n",
              "      <td>326</td>\n",
              "      <td>3.54</td>\n",
              "      <td>2.76</td>\n",
              "      <td>11.5</td>\n",
              "      <td>262</td>\n",
              "      <td>5000</td>\n",
              "      <td>13</td>\n",
              "      <td>17</td>\n",
              "      <td>36000.0</td>\n",
              "      <td>enginesize</td>\n",
              "    </tr>\n",
              "    <tr>\n",
              "      <th>73</th>\n",
              "      <td>120.9</td>\n",
              "      <td>208.1</td>\n",
              "      <td>71.7</td>\n",
              "      <td>56.7</td>\n",
              "      <td>3900</td>\n",
              "      <td>308</td>\n",
              "      <td>3.80</td>\n",
              "      <td>3.35</td>\n",
              "      <td>8.0</td>\n",
              "      <td>184</td>\n",
              "      <td>4500</td>\n",
              "      <td>14</td>\n",
              "      <td>16</td>\n",
              "      <td>40960.0</td>\n",
              "      <td>enginesize</td>\n",
              "    </tr>\n",
              "    <tr>\n",
              "      <th>74</th>\n",
              "      <td>112.0</td>\n",
              "      <td>199.2</td>\n",
              "      <td>72.0</td>\n",
              "      <td>55.4</td>\n",
              "      <td>3715</td>\n",
              "      <td>304</td>\n",
              "      <td>3.80</td>\n",
              "      <td>3.35</td>\n",
              "      <td>8.0</td>\n",
              "      <td>184</td>\n",
              "      <td>4500</td>\n",
              "      <td>14</td>\n",
              "      <td>16</td>\n",
              "      <td>45400.0</td>\n",
              "      <td>enginesize</td>\n",
              "    </tr>\n",
              "    <tr>\n",
              "      <th>111</th>\n",
              "      <td>107.9</td>\n",
              "      <td>186.7</td>\n",
              "      <td>68.4</td>\n",
              "      <td>56.7</td>\n",
              "      <td>3075</td>\n",
              "      <td>120</td>\n",
              "      <td>3.46</td>\n",
              "      <td>2.19</td>\n",
              "      <td>8.4</td>\n",
              "      <td>95</td>\n",
              "      <td>5000</td>\n",
              "      <td>19</td>\n",
              "      <td>24</td>\n",
              "      <td>15580.0</td>\n",
              "      <td>stroke</td>\n",
              "    </tr>\n",
              "    <tr>\n",
              "      <th>113</th>\n",
              "      <td>114.2</td>\n",
              "      <td>198.9</td>\n",
              "      <td>68.4</td>\n",
              "      <td>56.7</td>\n",
              "      <td>3285</td>\n",
              "      <td>120</td>\n",
              "      <td>3.46</td>\n",
              "      <td>2.19</td>\n",
              "      <td>8.4</td>\n",
              "      <td>95</td>\n",
              "      <td>5000</td>\n",
              "      <td>19</td>\n",
              "      <td>24</td>\n",
              "      <td>16695.0</td>\n",
              "      <td>stroke</td>\n",
              "    </tr>\n",
              "    <tr>\n",
              "      <th>134</th>\n",
              "      <td>99.1</td>\n",
              "      <td>186.6</td>\n",
              "      <td>66.5</td>\n",
              "      <td>56.1</td>\n",
              "      <td>2707</td>\n",
              "      <td>121</td>\n",
              "      <td>2.54</td>\n",
              "      <td>2.07</td>\n",
              "      <td>9.3</td>\n",
              "      <td>110</td>\n",
              "      <td>5250</td>\n",
              "      <td>21</td>\n",
              "      <td>28</td>\n",
              "      <td>15040.0</td>\n",
              "      <td>stroke</td>\n",
              "    </tr>\n",
              "    <tr>\n",
              "      <th>63</th>\n",
              "      <td>98.8</td>\n",
              "      <td>177.8</td>\n",
              "      <td>66.5</td>\n",
              "      <td>55.5</td>\n",
              "      <td>2443</td>\n",
              "      <td>122</td>\n",
              "      <td>3.39</td>\n",
              "      <td>3.39</td>\n",
              "      <td>22.7</td>\n",
              "      <td>64</td>\n",
              "      <td>4650</td>\n",
              "      <td>36</td>\n",
              "      <td>42</td>\n",
              "      <td>10795.0</td>\n",
              "      <td>compressionratio</td>\n",
              "    </tr>\n",
              "    <tr>\n",
              "      <th>66</th>\n",
              "      <td>104.9</td>\n",
              "      <td>175.0</td>\n",
              "      <td>66.1</td>\n",
              "      <td>54.4</td>\n",
              "      <td>2700</td>\n",
              "      <td>134</td>\n",
              "      <td>3.43</td>\n",
              "      <td>3.64</td>\n",
              "      <td>22.0</td>\n",
              "      <td>72</td>\n",
              "      <td>4200</td>\n",
              "      <td>31</td>\n",
              "      <td>39</td>\n",
              "      <td>18344.0</td>\n",
              "      <td>compressionratio</td>\n",
              "    </tr>\n",
              "    <tr>\n",
              "      <th>67</th>\n",
              "      <td>110.0</td>\n",
              "      <td>190.9</td>\n",
              "      <td>70.3</td>\n",
              "      <td>56.5</td>\n",
              "      <td>3515</td>\n",
              "      <td>183</td>\n",
              "      <td>3.58</td>\n",
              "      <td>3.64</td>\n",
              "      <td>21.5</td>\n",
              "      <td>123</td>\n",
              "      <td>4350</td>\n",
              "      <td>22</td>\n",
              "      <td>25</td>\n",
              "      <td>25552.0</td>\n",
              "      <td>compressionratio</td>\n",
              "    </tr>\n",
              "    <tr>\n",
              "      <th>68</th>\n",
              "      <td>110.0</td>\n",
              "      <td>190.9</td>\n",
              "      <td>70.3</td>\n",
              "      <td>58.7</td>\n",
              "      <td>3750</td>\n",
              "      <td>183</td>\n",
              "      <td>3.58</td>\n",
              "      <td>3.64</td>\n",
              "      <td>21.5</td>\n",
              "      <td>123</td>\n",
              "      <td>4350</td>\n",
              "      <td>22</td>\n",
              "      <td>25</td>\n",
              "      <td>28248.0</td>\n",
              "      <td>compressionratio</td>\n",
              "    </tr>\n",
              "    <tr>\n",
              "      <th>69</th>\n",
              "      <td>106.7</td>\n",
              "      <td>187.5</td>\n",
              "      <td>70.3</td>\n",
              "      <td>54.9</td>\n",
              "      <td>3495</td>\n",
              "      <td>183</td>\n",
              "      <td>3.58</td>\n",
              "      <td>3.64</td>\n",
              "      <td>21.5</td>\n",
              "      <td>123</td>\n",
              "      <td>4350</td>\n",
              "      <td>22</td>\n",
              "      <td>25</td>\n",
              "      <td>28176.0</td>\n",
              "      <td>compressionratio</td>\n",
              "    </tr>\n",
              "    <tr>\n",
              "      <th>70</th>\n",
              "      <td>115.6</td>\n",
              "      <td>202.6</td>\n",
              "      <td>71.7</td>\n",
              "      <td>56.3</td>\n",
              "      <td>3770</td>\n",
              "      <td>183</td>\n",
              "      <td>3.58</td>\n",
              "      <td>3.64</td>\n",
              "      <td>21.5</td>\n",
              "      <td>123</td>\n",
              "      <td>4350</td>\n",
              "      <td>22</td>\n",
              "      <td>25</td>\n",
              "      <td>31600.0</td>\n",
              "      <td>compressionratio</td>\n",
              "    </tr>\n",
              "    <tr>\n",
              "      <th>90</th>\n",
              "      <td>94.5</td>\n",
              "      <td>165.3</td>\n",
              "      <td>63.8</td>\n",
              "      <td>54.5</td>\n",
              "      <td>2017</td>\n",
              "      <td>103</td>\n",
              "      <td>2.99</td>\n",
              "      <td>3.47</td>\n",
              "      <td>21.9</td>\n",
              "      <td>55</td>\n",
              "      <td>4800</td>\n",
              "      <td>45</td>\n",
              "      <td>50</td>\n",
              "      <td>7099.0</td>\n",
              "      <td>compressionratio</td>\n",
              "    </tr>\n",
              "    <tr>\n",
              "      <th>108</th>\n",
              "      <td>107.9</td>\n",
              "      <td>186.7</td>\n",
              "      <td>68.4</td>\n",
              "      <td>56.7</td>\n",
              "      <td>3197</td>\n",
              "      <td>152</td>\n",
              "      <td>3.70</td>\n",
              "      <td>3.52</td>\n",
              "      <td>21.0</td>\n",
              "      <td>95</td>\n",
              "      <td>4150</td>\n",
              "      <td>28</td>\n",
              "      <td>33</td>\n",
              "      <td>13200.0</td>\n",
              "      <td>compressionratio</td>\n",
              "    </tr>\n",
              "    <tr>\n",
              "      <th>110</th>\n",
              "      <td>114.2</td>\n",
              "      <td>198.9</td>\n",
              "      <td>68.4</td>\n",
              "      <td>58.7</td>\n",
              "      <td>3430</td>\n",
              "      <td>152</td>\n",
              "      <td>3.70</td>\n",
              "      <td>3.52</td>\n",
              "      <td>21.0</td>\n",
              "      <td>95</td>\n",
              "      <td>4150</td>\n",
              "      <td>25</td>\n",
              "      <td>25</td>\n",
              "      <td>13860.0</td>\n",
              "      <td>compressionratio</td>\n",
              "    </tr>\n",
              "    <tr>\n",
              "      <th>112</th>\n",
              "      <td>107.9</td>\n",
              "      <td>186.7</td>\n",
              "      <td>68.4</td>\n",
              "      <td>56.7</td>\n",
              "      <td>3252</td>\n",
              "      <td>152</td>\n",
              "      <td>3.70</td>\n",
              "      <td>3.52</td>\n",
              "      <td>21.0</td>\n",
              "      <td>95</td>\n",
              "      <td>4150</td>\n",
              "      <td>28</td>\n",
              "      <td>33</td>\n",
              "      <td>16900.0</td>\n",
              "      <td>compressionratio</td>\n",
              "    </tr>\n",
              "    <tr>\n",
              "      <th>114</th>\n",
              "      <td>114.2</td>\n",
              "      <td>198.9</td>\n",
              "      <td>68.4</td>\n",
              "      <td>58.7</td>\n",
              "      <td>3485</td>\n",
              "      <td>152</td>\n",
              "      <td>3.70</td>\n",
              "      <td>3.52</td>\n",
              "      <td>21.0</td>\n",
              "      <td>95</td>\n",
              "      <td>4150</td>\n",
              "      <td>25</td>\n",
              "      <td>25</td>\n",
              "      <td>17075.0</td>\n",
              "      <td>compressionratio</td>\n",
              "    </tr>\n",
              "    <tr>\n",
              "      <th>116</th>\n",
              "      <td>107.9</td>\n",
              "      <td>186.7</td>\n",
              "      <td>68.4</td>\n",
              "      <td>56.7</td>\n",
              "      <td>3252</td>\n",
              "      <td>152</td>\n",
              "      <td>3.70</td>\n",
              "      <td>3.52</td>\n",
              "      <td>21.0</td>\n",
              "      <td>95</td>\n",
              "      <td>4150</td>\n",
              "      <td>28</td>\n",
              "      <td>33</td>\n",
              "      <td>17950.0</td>\n",
              "      <td>compressionratio</td>\n",
              "    </tr>\n",
              "    <tr>\n",
              "      <th>158</th>\n",
              "      <td>95.7</td>\n",
              "      <td>166.3</td>\n",
              "      <td>64.4</td>\n",
              "      <td>53.0</td>\n",
              "      <td>2275</td>\n",
              "      <td>110</td>\n",
              "      <td>3.27</td>\n",
              "      <td>3.35</td>\n",
              "      <td>22.5</td>\n",
              "      <td>56</td>\n",
              "      <td>4500</td>\n",
              "      <td>34</td>\n",
              "      <td>36</td>\n",
              "      <td>7898.0</td>\n",
              "      <td>compressionratio</td>\n",
              "    </tr>\n",
              "    <tr>\n",
              "      <th>159</th>\n",
              "      <td>95.7</td>\n",
              "      <td>166.3</td>\n",
              "      <td>64.4</td>\n",
              "      <td>52.8</td>\n",
              "      <td>2275</td>\n",
              "      <td>110</td>\n",
              "      <td>3.27</td>\n",
              "      <td>3.35</td>\n",
              "      <td>22.5</td>\n",
              "      <td>56</td>\n",
              "      <td>4500</td>\n",
              "      <td>38</td>\n",
              "      <td>47</td>\n",
              "      <td>7788.0</td>\n",
              "      <td>compressionratio</td>\n",
              "    </tr>\n",
              "    <tr>\n",
              "      <th>174</th>\n",
              "      <td>102.4</td>\n",
              "      <td>175.6</td>\n",
              "      <td>66.5</td>\n",
              "      <td>54.9</td>\n",
              "      <td>2480</td>\n",
              "      <td>110</td>\n",
              "      <td>3.27</td>\n",
              "      <td>3.35</td>\n",
              "      <td>22.5</td>\n",
              "      <td>73</td>\n",
              "      <td>4500</td>\n",
              "      <td>30</td>\n",
              "      <td>33</td>\n",
              "      <td>10698.0</td>\n",
              "      <td>compressionratio</td>\n",
              "    </tr>\n",
              "    <tr>\n",
              "      <th>182</th>\n",
              "      <td>97.3</td>\n",
              "      <td>171.7</td>\n",
              "      <td>65.5</td>\n",
              "      <td>55.7</td>\n",
              "      <td>2261</td>\n",
              "      <td>97</td>\n",
              "      <td>3.01</td>\n",
              "      <td>3.40</td>\n",
              "      <td>23.0</td>\n",
              "      <td>52</td>\n",
              "      <td>4800</td>\n",
              "      <td>37</td>\n",
              "      <td>46</td>\n",
              "      <td>7775.0</td>\n",
              "      <td>compressionratio</td>\n",
              "    </tr>\n",
              "    <tr>\n",
              "      <th>184</th>\n",
              "      <td>97.3</td>\n",
              "      <td>171.7</td>\n",
              "      <td>65.5</td>\n",
              "      <td>55.7</td>\n",
              "      <td>2264</td>\n",
              "      <td>97</td>\n",
              "      <td>3.01</td>\n",
              "      <td>3.40</td>\n",
              "      <td>23.0</td>\n",
              "      <td>52</td>\n",
              "      <td>4800</td>\n",
              "      <td>37</td>\n",
              "      <td>46</td>\n",
              "      <td>7995.0</td>\n",
              "      <td>compressionratio</td>\n",
              "    </tr>\n",
              "    <tr>\n",
              "      <th>187</th>\n",
              "      <td>97.3</td>\n",
              "      <td>171.7</td>\n",
              "      <td>65.5</td>\n",
              "      <td>55.7</td>\n",
              "      <td>2319</td>\n",
              "      <td>97</td>\n",
              "      <td>3.01</td>\n",
              "      <td>3.40</td>\n",
              "      <td>23.0</td>\n",
              "      <td>68</td>\n",
              "      <td>4500</td>\n",
              "      <td>37</td>\n",
              "      <td>42</td>\n",
              "      <td>9495.0</td>\n",
              "      <td>compressionratio</td>\n",
              "    </tr>\n",
              "    <tr>\n",
              "      <th>192</th>\n",
              "      <td>100.4</td>\n",
              "      <td>180.2</td>\n",
              "      <td>66.9</td>\n",
              "      <td>55.1</td>\n",
              "      <td>2579</td>\n",
              "      <td>97</td>\n",
              "      <td>3.01</td>\n",
              "      <td>3.40</td>\n",
              "      <td>23.0</td>\n",
              "      <td>68</td>\n",
              "      <td>4500</td>\n",
              "      <td>33</td>\n",
              "      <td>38</td>\n",
              "      <td>13845.0</td>\n",
              "      <td>compressionratio</td>\n",
              "    </tr>\n",
              "    <tr>\n",
              "      <th>203</th>\n",
              "      <td>109.1</td>\n",
              "      <td>188.8</td>\n",
              "      <td>68.9</td>\n",
              "      <td>55.5</td>\n",
              "      <td>3217</td>\n",
              "      <td>145</td>\n",
              "      <td>3.01</td>\n",
              "      <td>3.40</td>\n",
              "      <td>23.0</td>\n",
              "      <td>106</td>\n",
              "      <td>4800</td>\n",
              "      <td>26</td>\n",
              "      <td>27</td>\n",
              "      <td>22470.0</td>\n",
              "      <td>compressionratio</td>\n",
              "    </tr>\n",
              "    <tr>\n",
              "      <th>129</th>\n",
              "      <td>98.4</td>\n",
              "      <td>175.7</td>\n",
              "      <td>72.3</td>\n",
              "      <td>50.5</td>\n",
              "      <td>3366</td>\n",
              "      <td>203</td>\n",
              "      <td>3.94</td>\n",
              "      <td>3.11</td>\n",
              "      <td>10.0</td>\n",
              "      <td>288</td>\n",
              "      <td>5750</td>\n",
              "      <td>17</td>\n",
              "      <td>28</td>\n",
              "      <td>31400.5</td>\n",
              "      <td>horsepower</td>\n",
              "    </tr>\n",
              "    <tr>\n",
              "      <th>16</th>\n",
              "      <td>103.5</td>\n",
              "      <td>193.8</td>\n",
              "      <td>67.9</td>\n",
              "      <td>53.7</td>\n",
              "      <td>3380</td>\n",
              "      <td>209</td>\n",
              "      <td>3.62</td>\n",
              "      <td>3.39</td>\n",
              "      <td>8.0</td>\n",
              "      <td>182</td>\n",
              "      <td>5400</td>\n",
              "      <td>16</td>\n",
              "      <td>22</td>\n",
              "      <td>41315.0</td>\n",
              "      <td>price</td>\n",
              "    </tr>\n",
              "  </tbody>\n",
              "</table>\n",
              "</div>\n",
              "      <button class=\"colab-df-convert\" onclick=\"convertToInteractive('df-c0dda4bb-4d9c-4c83-a0e3-8f7284a5b555')\"\n",
              "              title=\"Convert this dataframe to an interactive table.\"\n",
              "              style=\"display:none;\">\n",
              "        \n",
              "  <svg xmlns=\"http://www.w3.org/2000/svg\" height=\"24px\"viewBox=\"0 0 24 24\"\n",
              "       width=\"24px\">\n",
              "    <path d=\"M0 0h24v24H0V0z\" fill=\"none\"/>\n",
              "    <path d=\"M18.56 5.44l.94 2.06.94-2.06 2.06-.94-2.06-.94-.94-2.06-.94 2.06-2.06.94zm-11 1L8.5 8.5l.94-2.06 2.06-.94-2.06-.94L8.5 2.5l-.94 2.06-2.06.94zm10 10l.94 2.06.94-2.06 2.06-.94-2.06-.94-.94-2.06-.94 2.06-2.06.94z\"/><path d=\"M17.41 7.96l-1.37-1.37c-.4-.4-.92-.59-1.43-.59-.52 0-1.04.2-1.43.59L10.3 9.45l-7.72 7.72c-.78.78-.78 2.05 0 2.83L4 21.41c.39.39.9.59 1.41.59.51 0 1.02-.2 1.41-.59l7.78-7.78 2.81-2.81c.8-.78.8-2.07 0-2.86zM5.41 20L4 18.59l7.72-7.72 1.47 1.35L5.41 20z\"/>\n",
              "  </svg>\n",
              "      </button>\n",
              "      \n",
              "  <style>\n",
              "    .colab-df-container {\n",
              "      display:flex;\n",
              "      flex-wrap:wrap;\n",
              "      gap: 12px;\n",
              "    }\n",
              "\n",
              "    .colab-df-convert {\n",
              "      background-color: #E8F0FE;\n",
              "      border: none;\n",
              "      border-radius: 50%;\n",
              "      cursor: pointer;\n",
              "      display: none;\n",
              "      fill: #1967D2;\n",
              "      height: 32px;\n",
              "      padding: 0 0 0 0;\n",
              "      width: 32px;\n",
              "    }\n",
              "\n",
              "    .colab-df-convert:hover {\n",
              "      background-color: #E2EBFA;\n",
              "      box-shadow: 0px 1px 2px rgba(60, 64, 67, 0.3), 0px 1px 3px 1px rgba(60, 64, 67, 0.15);\n",
              "      fill: #174EA6;\n",
              "    }\n",
              "\n",
              "    [theme=dark] .colab-df-convert {\n",
              "      background-color: #3B4455;\n",
              "      fill: #D2E3FC;\n",
              "    }\n",
              "\n",
              "    [theme=dark] .colab-df-convert:hover {\n",
              "      background-color: #434B5C;\n",
              "      box-shadow: 0px 1px 3px 1px rgba(0, 0, 0, 0.15);\n",
              "      filter: drop-shadow(0px 1px 2px rgba(0, 0, 0, 0.3));\n",
              "      fill: #FFFFFF;\n",
              "    }\n",
              "  </style>\n",
              "\n",
              "      <script>\n",
              "        const buttonEl =\n",
              "          document.querySelector('#df-c0dda4bb-4d9c-4c83-a0e3-8f7284a5b555 button.colab-df-convert');\n",
              "        buttonEl.style.display =\n",
              "          google.colab.kernel.accessAllowed ? 'block' : 'none';\n",
              "\n",
              "        async function convertToInteractive(key) {\n",
              "          const element = document.querySelector('#df-c0dda4bb-4d9c-4c83-a0e3-8f7284a5b555');\n",
              "          const dataTable =\n",
              "            await google.colab.kernel.invokeFunction('convertToInteractive',\n",
              "                                                     [key], {});\n",
              "          if (!dataTable) return;\n",
              "\n",
              "          const docLinkHtml = 'Like what you see? Visit the ' +\n",
              "            '<a target=\"_blank\" href=https://colab.research.google.com/notebooks/data_table.ipynb>data table notebook</a>'\n",
              "            + ' to learn more about interactive tables.';\n",
              "          element.innerHTML = '';\n",
              "          dataTable['output_type'] = 'display_data';\n",
              "          await google.colab.output.renderOutput(dataTable, element);\n",
              "          const docLink = document.createElement('div');\n",
              "          docLink.innerHTML = docLinkHtml;\n",
              "          element.appendChild(docLink);\n",
              "        }\n",
              "      </script>\n",
              "    </div>\n",
              "  </div>\n",
              "  "
            ]
          },
          "metadata": {},
          "execution_count": 20
        }
      ]
    },
    {
      "cell_type": "code",
      "source": [
        "#Ova linija je samo pokazan primer kako bi se izvršilo izbacivanje instanci i ona se ne pokreće!\n",
        "#df= df.drop(labels=[49,63,66,67,68,69,70,73,74,90,108,110,111,112,113,114,116,129,134,158,159,174,182,184,187,192,203], axis=0)\n",
        "#df.shape"
      ],
      "execution_count": 21,
      "outputs": [],
      "metadata": {
        "datalore": {
          "type": "CODE",
          "hide_input_from_viewers": false,
          "hide_output_from_viewers": false
        },
        "id": "aIGIJssvfKwk"
      }
    },
    {
      "cell_type": "code",
      "source": [
        "#Mahalanobis-ovo odstojanje\n",
        "import scipy as sp\n",
        "from scipy.stats import chi2\n",
        "\n",
        "df_md = df[['wheelbase','carlength','carwidth','carheight','curbweight','enginesize', 'boreratio','stroke','compressionratio',\n",
        "            'horsepower','citympg', 'highwaympg']]\n",
        "#Mahalanobi's Distance\n",
        "def mahalanobis_method(df_md):\n",
        "    #M-Distance\n",
        "    feature_mean = df_md.mean(axis=0)\n",
        "    x_minus_mu= df_md-feature_mean\n",
        "    \n",
        "    #Covariance matrix\n",
        "    cov = np.cov(df_md.values.T)    \n",
        "    #Inverse covariance matrix                 \n",
        "    inv_covmat=sp.linalg.inv(cov)\n",
        "\n",
        "    #Product                 \n",
        "    left_term=np.dot(x_minus_mu, inv_covmat)\n",
        "    mahal= np.dot(left_term, x_minus_mu.T)\n",
        "    md= np.sqrt(mahal.diagonal())\n",
        "\n",
        "    #Flag as outlier\n",
        "    outlier=dict()\n",
        "\n",
        "    #Cut-off point\n",
        "    C= np.sqrt(chi2.ppf((0.025), df_md.shape[1])) #degrees of freedom=number of independant variables\n",
        "    for index, value in enumerate(md):\n",
        "        if value < C:\n",
        "            outlier[index]=value\n",
        "        else:\n",
        "            continue\n",
        "\n",
        "    return outlier, md\n",
        "\n",
        "#%%\n",
        "mahalanobis_method(df_md)"
      ],
      "execution_count": 22,
      "outputs": [
        {
          "output_type": "execute_result",
          "data": {
            "text/plain": [
              "({3: 2.057828993748908,\n",
              "  37: 1.514275722828981,\n",
              "  38: 1.4470221569183497,\n",
              "  42: 1.986862507876833,\n",
              "  51: 2.0647047832639216,\n",
              "  52: 2.0557804023178754,\n",
              "  53: 2.070964272469058,\n",
              "  54: 1.9916713200148326,\n",
              "  85: 1.9672270190539696,\n",
              "  86: 1.9659797473200582,\n",
              "  87: 1.9211464650133827,\n",
              "  88: 1.9211464650133827,\n",
              "  89: 2.038694308993488,\n",
              "  91: 1.883497727635925,\n",
              "  92: 1.784683549034632,\n",
              "  93: 2.0834798034332582,\n",
              "  94: 1.724699521073216,\n",
              "  95: 1.3182813338563775,\n",
              "  96: 1.6399216811336408,\n",
              "  97: 2.051343595719787,\n",
              "  98: 1.3025459440734133,\n",
              "  99: 1.763593689902919,\n",
              "  100: 1.8172745266274095,\n",
              "  156: 1.592991331608599,\n",
              "  157: 1.6237163197623832,\n",
              "  161: 1.4439903234350284,\n",
              "  162: 1.4202968858992155,\n",
              "  163: 1.8133680639421788,\n",
              "  164: 1.8394260560674442,\n",
              "  170: 2.0543097688585124,\n",
              "  175: 1.976032658483363,\n",
              "  176: 1.9754618100397043,\n",
              "  177: 1.8559986665328956,\n",
              "  183: 2.0919935543750072,\n",
              "  185: 2.0817699151968054,\n",
              "  186: 1.9185740408103253,\n",
              "  188: 1.9398391525574163,\n",
              "  190: 2.0658465555406726},\n",
              " array([4.18286172, 4.18286172, 4.53062532, 2.05782899, 2.40841741,\n",
              "        2.55659102, 4.90134923, 4.72572527, 5.06707427, 3.48292829,\n",
              "        2.69370716, 2.69370716, 3.16968994, 3.14122656, 2.20995743,\n",
              "        3.25214301, 2.83014617, 2.98550158, 4.98118758, 2.87490429,\n",
              "        2.88453622, 2.96042818, 2.24573263, 2.73448403, 2.2830269 ,\n",
              "        2.31023824, 2.31023824, 2.76687956, 3.887227  , 3.19695537,\n",
              "        6.22635479, 3.59918038, 3.3426717 , 3.47733304, 3.46656954,\n",
              "        2.5101577 , 4.36530518, 1.51427572, 1.44702216, 2.12004024,\n",
              "        3.62852046, 2.56122497, 1.98686251, 3.69971893, 2.87490429,\n",
              "        2.91071794, 2.89509347, 5.3166082 , 5.3166082 , 7.06746657,\n",
              "        4.2057389 , 2.06470478, 2.0557804 , 2.07096427, 1.99167132,\n",
              "        4.1166552 , 4.1166552 , 4.11552097, 4.20588258, 2.10356652,\n",
              "        2.25379295, 2.10356652, 2.25379295, 3.85843953, 2.22116084,\n",
              "        4.24407115, 4.67535226, 3.68449809, 4.44386897, 3.92712091,\n",
              "        3.92194689, 4.31189216, 6.61477182, 6.48598565, 6.16400627,\n",
              "        3.82064866, 3.01916244, 2.28134222, 2.31789545, 2.58351331,\n",
              "        2.81040607, 2.89239716, 3.07563781, 3.27113429, 3.28494415,\n",
              "        1.96722702, 1.96597975, 1.92114647, 1.92114647, 2.03869431,\n",
              "        4.47802788, 1.88349773, 1.78468355, 2.0834798 , 1.72469952,\n",
              "        1.31828133, 1.63992168, 2.0513436 , 1.30254594, 1.76359369,\n",
              "        1.81727453, 2.3312813 , 2.9832236 , 2.25522883, 3.99320371,\n",
              "        4.08141067, 2.59792412, 2.81304612, 3.38632139, 3.86371933,\n",
              "        4.59414677, 4.75857863, 3.51389493, 5.81225114, 4.60921818,\n",
              "        2.98317932, 3.51389493, 3.11644769, 2.98025679, 2.73448403,\n",
              "        2.2830269 , 2.58246045, 2.83868392, 3.89052979, 3.07993611,\n",
              "        4.54224129, 4.88764442, 4.88764442, 4.81174243, 8.6639118 ,\n",
              "        4.22951369, 3.86212901, 2.70161072, 2.66103238, 7.09692051,\n",
              "        2.660737  , 3.70648151, 3.68736498, 3.97905294, 3.90990455,\n",
              "        4.41833607, 3.54827497, 3.11081869, 2.6262352 , 4.24824728,\n",
              "        2.52980194, 3.13395382, 2.54044996, 2.90192676, 4.80504495,\n",
              "        2.43369061, 2.53707996, 2.50310484, 3.61109145, 3.62935156,\n",
              "        7.72691903, 1.59299133, 1.62371632, 4.48475299, 4.4859844 ,\n",
              "        4.17720007, 1.44399032, 1.42029689, 1.81336806, 1.83942606,\n",
              "        3.20170325, 3.15123511, 2.20375911, 2.21547516, 2.17343579,\n",
              "        2.05430977, 2.10148318, 3.08976246, 2.44954828, 4.06636437,\n",
              "        1.97603266, 1.97546181, 1.85599867, 2.73201704, 2.4312746 ,\n",
              "        3.17369118, 3.13346065, 4.45575678, 2.09199355, 4.45557002,\n",
              "        2.08176992, 1.91857404, 3.86242649, 1.93983915, 3.40939046,\n",
              "        2.06584656, 2.32800044, 3.96186117, 2.33548853, 2.36740155,\n",
              "        2.72123099, 2.70038112, 3.01217817, 3.3327489 , 3.65225006,\n",
              "        2.94545171, 3.72234239, 3.11952366, 4.88224863, 2.95380076]))"
            ]
          },
          "metadata": {},
          "execution_count": 22
        }
      ],
      "metadata": {
        "datalore": {
          "type": "CODE",
          "hide_input_from_viewers": false,
          "hide_output_from_viewers": false
        },
        "colab": {
          "base_uri": "https://localhost:8080/"
        },
        "id": "szgyvSCwfKwl",
        "outputId": "8759417d-c118-4455-c582-a5af885e9ec0"
      }
    },
    {
      "cell_type": "code",
      "source": [
        "#Correlation matrix\n",
        "#Checking for normality\n",
        "from scipy.stats import anderson"
      ],
      "execution_count": 23,
      "outputs": [],
      "metadata": {
        "datalore": {
          "type": "CODE",
          "hide_input_from_viewers": false,
          "hide_output_from_viewers": false
        },
        "id": "S6AkahVBfKwl"
      }
    },
    {
      "cell_type": "code",
      "source": [
        "import matplotlib\n",
        "import matplotlib.pyplot as plt\n",
        "import seaborn as sns\n",
        "import numpy as np\n",
        "\n",
        "# Matrica korelacije\n",
        "#correlations = df.corr(method=\"pearson\") #Komentar Zašto df?\n",
        "correlations = df_md.corr(method=\"pearson\")\n",
        "params = {'axes.titlesize':'9',\n",
        "          'xtick.labelsize':'11',\n",
        "          'ytick.labelsize':'11'}\n",
        "matplotlib.rcParams.update(params)\n",
        "fig, ax = plt.subplots(figsize=(10,9))\n",
        "mask = np.zeros(correlations.shape)\n",
        "upper_triangle_indices = np.triu_indices_from(mask)\n",
        "mask[upper_triangle_indices] = True\n",
        "sns.heatmap(correlations, fmt= \".3f\", annot=True, annot_kws={\"size\":11}, cmap= 'coolwarm', center=0, mask = mask)\n",
        "plt.yticks(rotation=0)\n",
        "plt.show()"
      ],
      "execution_count": 24,
      "outputs": [
        {
          "output_type": "display_data",
          "data": {
            "text/plain": [
              "<Figure size 720x648 with 2 Axes>"
            ],
            "image/png": "[encoded data removed]"
          },
          "metadata": {
            "needs_background": "light"
          }
        }
      ],
      "metadata": {
        "datalore": {
          "type": "CODE",
          "hide_input_from_viewers": false,
          "hide_output_from_viewers": false
        },
        "colab": {
          "base_uri": "https://localhost:8080/",
          "height": 623
        },
        "id": "t0w7zD58fKwl",
        "outputId": "3b6795e9-2c2c-4ea6-cb4b-d9e64ee73839"
      }
    },
    {
      "cell_type": "code",
      "source": [
        "\n",
        "\n",
        "# Funcstion for normality check of numerical features\n",
        "def normality_check(column):\n",
        "  data = df[column]\n",
        "  result= anderson(data)\n",
        "  print(\"Normality check for feature: \" + column)\n",
        "  print('Statistic:%5f'% result.statistic)\n",
        "  p=0\n",
        "  for i in range(len(result.critical_values)):\n",
        "      sl,cv = result.significance_level[i], result.critical_values[i]\n",
        "      if result.statistic < result.critical_values[i]:\n",
        "          print('%5f: %5f, data looks normal (fail to reject H0)' %(sl, cv))\n",
        "      else:\n",
        "          print('%5f: %5f, data does not look normal ( reject H0)' %(sl, cv))\n",
        "  print(\"\")\n",
        "\n",
        "columns = ['wheelbase','carlength','carwidth','carheight','curbweight','enginesize', 'boreratio','stroke','compressionratio',\n",
        "            'horsepower','citympg', 'highwaympg']\n",
        "for column in columns:\n",
        "  normality_check(column)"
      ],
      "metadata": {
        "colab": {
          "base_uri": "https://localhost:8080/"
        },
        "id": "fTjzQbtBrRrf",
        "outputId": "c43a8581-7c12-44e6-9617-892240c102a7"
      },
      "execution_count": 25,
      "outputs": [
        {
          "output_type": "stream",
          "name": "stdout",
          "text": [
            "Normality check for feature: wheelbase\n",
            "Statistic:6.921693\n",
            "15.000000: 0.565000, data does not look normal ( reject H0)\n",
            "10.000000: 0.644000, data does not look normal ( reject H0)\n",
            "5.000000: 0.772000, data does not look normal ( reject H0)\n",
            "2.500000: 0.901000, data does not look normal ( reject H0)\n",
            "1.000000: 1.072000, data does not look normal ( reject H0)\n",
            "\n",
            "Normality check for feature: carlength\n",
            "Statistic:1.532218\n",
            "15.000000: 0.565000, data does not look normal ( reject H0)\n",
            "10.000000: 0.644000, data does not look normal ( reject H0)\n",
            "5.000000: 0.772000, data does not look normal ( reject H0)\n",
            "2.500000: 0.901000, data does not look normal ( reject H0)\n",
            "1.000000: 1.072000, data does not look normal ( reject H0)\n",
            "\n",
            "Normality check for feature: carwidth\n",
            "Statistic:5.026284\n",
            "15.000000: 0.565000, data does not look normal ( reject H0)\n",
            "10.000000: 0.644000, data does not look normal ( reject H0)\n",
            "5.000000: 0.772000, data does not look normal ( reject H0)\n",
            "2.500000: 0.901000, data does not look normal ( reject H0)\n",
            "1.000000: 1.072000, data does not look normal ( reject H0)\n",
            "\n",
            "Normality check for feature: carheight\n",
            "Statistic:1.033099\n",
            "15.000000: 0.565000, data does not look normal ( reject H0)\n",
            "10.000000: 0.644000, data does not look normal ( reject H0)\n",
            "5.000000: 0.772000, data does not look normal ( reject H0)\n",
            "2.500000: 0.901000, data does not look normal ( reject H0)\n",
            "1.000000: 1.072000, data looks normal (fail to reject H0)\n",
            "\n",
            "Normality check for feature: curbweight\n",
            "Statistic:2.800144\n",
            "15.000000: 0.565000, data does not look normal ( reject H0)\n",
            "10.000000: 0.644000, data does not look normal ( reject H0)\n",
            "5.000000: 0.772000, data does not look normal ( reject H0)\n",
            "2.500000: 0.901000, data does not look normal ( reject H0)\n",
            "1.000000: 1.072000, data does not look normal ( reject H0)\n",
            "\n",
            "Normality check for feature: enginesize\n",
            "Statistic:8.740767\n",
            "15.000000: 0.565000, data does not look normal ( reject H0)\n",
            "10.000000: 0.644000, data does not look normal ( reject H0)\n",
            "5.000000: 0.772000, data does not look normal ( reject H0)\n",
            "2.500000: 0.901000, data does not look normal ( reject H0)\n",
            "1.000000: 1.072000, data does not look normal ( reject H0)\n",
            "\n",
            "Normality check for feature: boreratio\n",
            "Statistic:2.526965\n",
            "15.000000: 0.565000, data does not look normal ( reject H0)\n",
            "10.000000: 0.644000, data does not look normal ( reject H0)\n",
            "5.000000: 0.772000, data does not look normal ( reject H0)\n",
            "2.500000: 0.901000, data does not look normal ( reject H0)\n",
            "1.000000: 1.072000, data does not look normal ( reject H0)\n",
            "\n",
            "Normality check for feature: stroke\n",
            "Statistic:4.108367\n",
            "15.000000: 0.565000, data does not look normal ( reject H0)\n",
            "10.000000: 0.644000, data does not look normal ( reject H0)\n",
            "5.000000: 0.772000, data does not look normal ( reject H0)\n",
            "2.500000: 0.901000, data does not look normal ( reject H0)\n",
            "1.000000: 1.072000, data does not look normal ( reject H0)\n",
            "\n",
            "Normality check for feature: compressionratio\n",
            "Statistic:45.111324\n",
            "15.000000: 0.565000, data does not look normal ( reject H0)\n",
            "10.000000: 0.644000, data does not look normal ( reject H0)\n",
            "5.000000: 0.772000, data does not look normal ( reject H0)\n",
            "2.500000: 0.901000, data does not look normal ( reject H0)\n",
            "1.000000: 1.072000, data does not look normal ( reject H0)\n",
            "\n",
            "Normality check for feature: horsepower\n",
            "Statistic:6.348452\n",
            "15.000000: 0.565000, data does not look normal ( reject H0)\n",
            "10.000000: 0.644000, data does not look normal ( reject H0)\n",
            "5.000000: 0.772000, data does not look normal ( reject H0)\n",
            "2.500000: 0.901000, data does not look normal ( reject H0)\n",
            "1.000000: 1.072000, data does not look normal ( reject H0)\n",
            "\n",
            "Normality check for feature: citympg\n",
            "Statistic:2.081972\n",
            "15.000000: 0.565000, data does not look normal ( reject H0)\n",
            "10.000000: 0.644000, data does not look normal ( reject H0)\n",
            "5.000000: 0.772000, data does not look normal ( reject H0)\n",
            "2.500000: 0.901000, data does not look normal ( reject H0)\n",
            "1.000000: 1.072000, data does not look normal ( reject H0)\n",
            "\n",
            "Normality check for feature: highwaympg\n",
            "Statistic:1.475861\n",
            "15.000000: 0.565000, data does not look normal ( reject H0)\n",
            "10.000000: 0.644000, data does not look normal ( reject H0)\n",
            "5.000000: 0.772000, data does not look normal ( reject H0)\n",
            "2.500000: 0.901000, data does not look normal ( reject H0)\n",
            "1.000000: 1.072000, data does not look normal ( reject H0)\n",
            "\n"
          ]
        }
      ]
    },
    {
      "cell_type": "code",
      "source": [
        "# Matrica korelacije\n",
        "correlations = df.corr(method=\"spearman\") \n",
        "params = {'axes.titlesize':'9',\n",
        "          'xtick.labelsize':'11',\n",
        "          'ytick.labelsize':'11'}\n",
        "matplotlib.rcParams.update(params)\n",
        "fig, ax = plt.subplots(figsize=(10,9))\n",
        "mask = np.zeros(correlations.shape)\n",
        "upper_triangle_indices = np.triu_indices_from(mask)\n",
        "mask[upper_triangle_indices] = True\n",
        "sns.heatmap(correlations, fmt= \".3f\", annot=True, annot_kws={\"size\":9}, cmap= 'coolwarm', center=0, mask = mask)\n",
        "plt.yticks(rotation=0)\n",
        "plt.show()"
      ],
      "execution_count": 26,
      "outputs": [
        {
          "output_type": "display_data",
          "data": {
            "text/plain": [
              "<Figure size 720x648 with 2 Axes>"
            ],
            "image/png": "[encoded data removed]"
          },
          "metadata": {
            "needs_background": "light"
          }
        }
      ],
      "metadata": {
        "datalore": {
          "type": "CODE",
          "hide_input_from_viewers": false,
          "hide_output_from_viewers": false
        },
        "colab": {
          "base_uri": "https://localhost:8080/",
          "height": 623
        },
        "id": "Vmr8SqcWfKwn",
        "outputId": "50ff6b03-1bb5-4d55-a2b1-e1a679b84cee"
      }
    },
    {
      "cell_type": "code",
      "source": [
        "df_2=df[['carlength','carwidth','carheight','enginesize','boreratio','stroke','compressionratio','horsepower','peakrpm',\n",
        "         'citympg','highwaympg','price']]"
      ],
      "execution_count": 27,
      "outputs": [],
      "metadata": {
        "datalore": {
          "type": "CODE",
          "hide_input_from_viewers": false,
          "hide_output_from_viewers": false
        },
        "id": "m4vvHbzTfKwn"
      }
    },
    {
      "cell_type": "code",
      "source": [
        "\n",
        "# Matrica korelacije\n",
        "correlations = df_2.corr(method=\"spearman\")\n",
        "params = {'axes.titlesize':'9',\n",
        "          'xtick.labelsize':'11',\n",
        "          'ytick.labelsize':'11'}\n",
        "matplotlib.rcParams.update(params)\n",
        "fig, ax = plt.subplots(figsize=(10,9))\n",
        "mask = np.zeros(correlations.shape)\n",
        "upper_triangle_indices = np.triu_indices_from(mask)\n",
        "mask[upper_triangle_indices] = True\n",
        "sns.heatmap(correlations, fmt= \".3f\", annot=True, annot_kws={\"size\":9}, cmap= 'coolwarm', center=0, mask = mask)\n",
        "plt.yticks(rotation=0)\n",
        "plt.show()"
      ],
      "execution_count": 28,
      "outputs": [
        {
          "output_type": "display_data",
          "data": {
            "text/plain": [
              "<Figure size 720x648 with 2 Axes>"
            ],
            "image/png": "[encoded data removed]"
          },
          "metadata": {
            "needs_background": "light"
          }
        }
      ],
      "metadata": {
        "datalore": {
          "type": "CODE",
          "hide_input_from_viewers": false,
          "hide_output_from_viewers": false
        },
        "colab": {
          "base_uri": "https://localhost:8080/",
          "height": 623
        },
        "id": "VLdDMen1fKwn",
        "outputId": "d05c6ffd-b526-4482-8c24-e2502094ec63"
      }
    },
    {
      "cell_type": "code",
      "source": [
        "df_3=df[['carwidth','carheight','enginesize','boreratio','stroke','compressionratio','horsepower','peakrpm','citympg',\n",
        "         'highwaympg','price']]"
      ],
      "execution_count": 29,
      "outputs": [],
      "metadata": {
        "datalore": {
          "type": "CODE",
          "hide_input_from_viewers": false,
          "hide_output_from_viewers": false
        },
        "id": "QTinJHoRfKwo"
      }
    },
    {
      "cell_type": "code",
      "source": [
        "\n",
        "# Matrica korelacije\n",
        "correlations = df_3.corr(method=\"spearman\")\n",
        "params = {'axes.titlesize':'9',\n",
        "          'xtick.labelsize':'11',\n",
        "          'ytick.labelsize':'11'}\n",
        "matplotlib.rcParams.update(params)\n",
        "fig, ax = plt.subplots(figsize=(10,9))\n",
        "mask = np.zeros(correlations.shape)\n",
        "upper_triangle_indices = np.triu_indices_from(mask)\n",
        "mask[upper_triangle_indices] = True\n",
        "sns.heatmap(correlations, fmt= \".3f\", annot=True, annot_kws={\"size\":9}, cmap= 'coolwarm', center=0, mask = mask)\n",
        "plt.yticks(rotation=0)\n",
        "plt.show()"
      ],
      "execution_count": 30,
      "outputs": [
        {
          "output_type": "display_data",
          "data": {
            "text/plain": [
              "<Figure size 720x648 with 2 Axes>"
            ],
            "image/png": "[encoded data removed]"
          },
          "metadata": {
            "needs_background": "light"
          }
        }
      ],
      "metadata": {
        "datalore": {
          "type": "CODE",
          "hide_input_from_viewers": false,
          "hide_output_from_viewers": false
        },
        "colab": {
          "base_uri": "https://localhost:8080/",
          "height": 623
        },
        "id": "x-0SQ0tSfKwo",
        "outputId": "a3e665a4-7966-4ce6-9067-c33982eae965"
      }
    },
    {
      "cell_type": "code",
      "source": [
        "df_4=df[['carwidth','carheight','boreratio','stroke','compressionratio','horsepower','peakrpm','citympg','highwaympg','price']]"
      ],
      "execution_count": 31,
      "outputs": [],
      "metadata": {
        "datalore": {
          "type": "CODE",
          "hide_input_from_viewers": false,
          "hide_output_from_viewers": false
        },
        "id": "MqyWzVoJfKwo"
      }
    },
    {
      "cell_type": "code",
      "source": [
        "\n",
        "# Matrica korelacije\n",
        "correlations = df_4.corr(method=\"spearman\")\n",
        "params = {'axes.titlesize':'9',\n",
        "          'xtick.labelsize':'11',\n",
        "          'ytick.labelsize':'11'}\n",
        "matplotlib.rcParams.update(params)\n",
        "fig, ax = plt.subplots(figsize=(10,9))\n",
        "mask = np.zeros(correlations.shape)\n",
        "upper_triangle_indices = np.triu_indices_from(mask)\n",
        "mask[upper_triangle_indices] = True\n",
        "sns.heatmap(correlations, fmt= \".3f\", annot=True, annot_kws={\"size\":9}, cmap= 'coolwarm', center=0, mask = mask)\n",
        "plt.yticks(rotation=0)\n",
        "plt.show()"
      ],
      "execution_count": 32,
      "outputs": [
        {
          "output_type": "display_data",
          "data": {
            "text/plain": [
              "<Figure size 720x648 with 2 Axes>"
            ],
            "image/png": "[encoded data removed]"
          },
          "metadata": {
            "needs_background": "light"
          }
        }
      ],
      "metadata": {
        "datalore": {
          "type": "CODE",
          "hide_input_from_viewers": false,
          "hide_output_from_viewers": false
        },
        "colab": {
          "base_uri": "https://localhost:8080/",
          "height": 623
        },
        "id": "lE-KRWosfKwo",
        "outputId": "3ecc0ab0-1629-4ef5-dc25-93829f446729"
      }
    },
    {
      "cell_type": "code",
      "source": [
        "df_5=df[['carwidth','carheight','boreratio','stroke','compressionratio','horsepower','peakrpm','highwaympg','price']]"
      ],
      "execution_count": 33,
      "outputs": [],
      "metadata": {
        "datalore": {
          "type": "CODE",
          "hide_input_from_viewers": false,
          "hide_output_from_viewers": false
        },
        "id": "paPJqAsyfKwo"
      }
    },
    {
      "cell_type": "code",
      "source": [
        "# Matrica korelacije\n",
        "correlations = df_5.corr(method=\"spearman\")\n",
        "params = {'axes.titlesize':'9',\n",
        "          'xtick.labelsize':'11',\n",
        "          'ytick.labelsize':'11'}\n",
        "matplotlib.rcParams.update(params)\n",
        "fig, ax = plt.subplots(figsize=(10,9))\n",
        "mask = np.zeros(correlations.shape)\n",
        "upper_triangle_indices = np.triu_indices_from(mask)\n",
        "mask[upper_triangle_indices] = True\n",
        "sns.heatmap(correlations, fmt= \".3f\", annot=True, annot_kws={\"size\":9}, cmap= 'coolwarm', center=0, mask = mask)\n",
        "plt.yticks(rotation=0)\n",
        "plt.show()"
      ],
      "execution_count": 34,
      "outputs": [
        {
          "output_type": "display_data",
          "data": {
            "text/plain": [
              "<Figure size 720x648 with 2 Axes>"
            ],
            "image/png": "[encoded data removed]"
          },
          "metadata": {
            "needs_background": "light"
          }
        }
      ],
      "metadata": {
        "datalore": {
          "type": "CODE",
          "hide_input_from_viewers": false,
          "hide_output_from_viewers": false
        },
        "colab": {
          "base_uri": "https://localhost:8080/",
          "height": 623
        },
        "id": "tnwM6TE6fKwo",
        "outputId": "e18d18c1-2315-4a1a-b028-6825cad4db1f"
      }
    },
    {
      "cell_type": "code",
      "source": [
        "import seaborn as sns\n",
        "import pandas as pd\n",
        "import numpy as np\n",
        "import matplotlib.pyplot as plt\n",
        "from sklearn.model_selection import train_test_split\n",
        "from sklearn.linear_model import LinearRegression\n",
        "from sklearn import metrics\n",
        "from sklearn.metrics import mean_absolute_error\n",
        "import math"
      ],
      "execution_count": 35,
      "outputs": [],
      "metadata": {
        "datalore": {
          "type": "CODE",
          "hide_input_from_viewers": false,
          "hide_output_from_viewers": false
        },
        "id": "Uy86zePPfKwp"
      }
    },
    {
      "cell_type": "code",
      "source": [
        "X = df[['carwidth','carheight','boreratio','stroke','compressionratio','horsepower','peakrpm','highwaympg']]\n",
        "y = df['price']"
      ],
      "execution_count": 36,
      "outputs": [],
      "metadata": {
        "datalore": {
          "type": "CODE",
          "hide_input_from_viewers": false,
          "hide_output_from_viewers": false
        },
        "id": "hzANrAFvfKwp"
      }
    },
    {
      "cell_type": "code",
      "source": [
        "from sklearn.preprocessing import StandardScaler\n",
        "scaler = StandardScaler()\n",
        "X = scaler.fit_transform(X)"
      ],
      "execution_count": 37,
      "outputs": [],
      "metadata": {
        "datalore": {
          "type": "CODE",
          "hide_input_from_viewers": false,
          "hide_output_from_viewers": false
        },
        "id": "Ck71tXDtfKwp"
      }
    },
    {
      "cell_type": "code",
      "source": [
        "X_train, X_test, y_train, y_test = train_test_split(X,y, test_size=0.3, random_state=42)"
      ],
      "execution_count": 38,
      "outputs": [],
      "metadata": {
        "datalore": {
          "type": "CODE",
          "hide_input_from_viewers": false,
          "hide_output_from_viewers": false
        },
        "id": "Ypx-vuLGfKwp"
      }
    },
    {
      "cell_type": "code",
      "source": [
        "\n",
        "lr = LinearRegression()\n",
        "lr.fit(X_train, y_train)"
      ],
      "execution_count": 39,
      "outputs": [
        {
          "output_type": "execute_result",
          "data": {
            "text/plain": [
              "LinearRegression()"
            ]
          },
          "metadata": {},
          "execution_count": 39
        }
      ],
      "metadata": {
        "datalore": {
          "type": "CODE",
          "hide_input_from_viewers": false,
          "hide_output_from_viewers": false
        },
        "colab": {
          "base_uri": "https://localhost:8080/"
        },
        "id": "98oJipOdfKwp",
        "outputId": "7038f097-3404-4417-d4a9-17311105dc86"
      }
    },
    {
      "cell_type": "code",
      "source": [
        "y_pred_lr = lr.predict(X_test)"
      ],
      "execution_count": 40,
      "outputs": [],
      "metadata": {
        "datalore": {
          "type": "CODE",
          "hide_input_from_viewers": false,
          "hide_output_from_viewers": false
        },
        "id": "jzZrEhgIfKwp"
      }
    },
    {
      "cell_type": "code",
      "source": [
        "print('Root Mean Squared Error: ', math.sqrt(metrics.mean_squared_error(y_test, y_pred_lr)))\n",
        "print('Mean Absolute Error: ', mean_absolute_error(y_test, y_pred_lr))"
      ],
      "execution_count": 41,
      "outputs": [
        {
          "output_type": "stream",
          "name": "stdout",
          "text": [
            "Root Mean Squared Error:  4543.669906942536\n",
            "Mean Absolute Error:  3320.1441625389252\n"
          ]
        }
      ],
      "metadata": {
        "datalore": {
          "type": "CODE",
          "hide_input_from_viewers": false,
          "hide_output_from_viewers": false
        },
        "colab": {
          "base_uri": "https://localhost:8080/"
        },
        "id": "bRpE8rXZfKwp",
        "outputId": "a0b4773c-b372-48c2-87c8-1ed5e5747691"
      }
    },
    {
      "cell_type": "code",
      "source": [
        "from sklearn.metrics import r2_score\n",
        "print(\"R2_sccore =\",r2_score(y_test, y_pred_lr))"
      ],
      "execution_count": 42,
      "outputs": [
        {
          "output_type": "stream",
          "name": "stdout",
          "text": [
            "R2_sccore = 0.7020261040503172\n"
          ]
        }
      ],
      "metadata": {
        "datalore": {
          "type": "CODE",
          "hide_input_from_viewers": false,
          "hide_output_from_viewers": false
        },
        "id": "F668O8J6fKwq",
        "outputId": "b288cae9-0e45-4e93-ba3f-60176c2bce2d",
        "colab": {
          "base_uri": "https://localhost:8080/"
        }
      }
    },
    {
      "cell_type": "code",
      "source": [
        "print('intercept:', lr.intercept_)\n",
        "print('slope:', lr.coef_)"
      ],
      "execution_count": 43,
      "outputs": [
        {
          "output_type": "stream",
          "name": "stdout",
          "text": [
            "intercept: 13113.63665934598\n",
            "slope: [ 2487.04968768   -71.52551316  -256.14597777  -422.52429333\n",
            "   883.84940875  3871.7603585   -455.58333273 -1680.73948758]\n"
          ]
        }
      ],
      "metadata": {
        "datalore": {
          "type": "CODE",
          "hide_input_from_viewers": false,
          "hide_output_from_viewers": false
        },
        "id": "53_BXbgnfKwq",
        "outputId": "3c5d6fff-53e5-4eb1-c80d-57bbc8378199",
        "colab": {
          "base_uri": "https://localhost:8080/"
        }
      }
    },
    {
      "cell_type": "markdown",
      "source": [
        "## Model2"
      ],
      "metadata": {
        "datalore": {
          "type": "MD",
          "hide_input_from_viewers": false,
          "hide_output_from_viewers": false
        },
        "id": "srMgf5Y0fKwq"
      }
    },
    {
      "cell_type": "code",
      "source": [
        "X = df[['carwidth','boreratio','horsepower','highwaympg']]\n",
        "y = df['price']"
      ],
      "execution_count": 44,
      "outputs": [],
      "metadata": {
        "datalore": {
          "type": "CODE",
          "hide_input_from_viewers": false,
          "hide_output_from_viewers": false
        },
        "id": "6RbsI5d9fKwq"
      }
    },
    {
      "cell_type": "code",
      "source": [
        "X_train, X_test, y_train, y_test = train_test_split(X,y, test_size=0.3, random_state=42)"
      ],
      "execution_count": 45,
      "outputs": [],
      "metadata": {
        "datalore": {
          "type": "CODE",
          "hide_input_from_viewers": false,
          "hide_output_from_viewers": false
        },
        "id": "USa4BpOxfKwq"
      }
    },
    {
      "cell_type": "code",
      "source": [
        "lr = LinearRegression()\n",
        "lr.fit(X_train, y_train)"
      ],
      "execution_count": 46,
      "outputs": [
        {
          "output_type": "execute_result",
          "data": {
            "text/plain": [
              "LinearRegression()"
            ]
          },
          "metadata": {},
          "execution_count": 46
        }
      ],
      "metadata": {
        "datalore": {
          "type": "CODE",
          "hide_input_from_viewers": false,
          "hide_output_from_viewers": false
        },
        "id": "scySBHlFfKwq",
        "colab": {
          "base_uri": "https://localhost:8080/"
        },
        "outputId": "02498755-8246-48e6-bfa5-90232f44d052"
      }
    },
    {
      "cell_type": "code",
      "source": [
        "y_pred_lr_2 = lr.predict(X_test)"
      ],
      "execution_count": 47,
      "outputs": [],
      "metadata": {
        "datalore": {
          "type": "CODE",
          "hide_input_from_viewers": false,
          "hide_output_from_viewers": false
        },
        "id": "2F8Y-gGhfKwr"
      }
    },
    {
      "cell_type": "code",
      "source": [
        "print('Root Mean Squared Error: ', math.sqrt(metrics.mean_squared_error(y_test, y_pred_lr_2)))\n",
        "print('Mean Absolute Error: ', mean_absolute_error(y_test, y_pred_lr_2))"
      ],
      "execution_count": 48,
      "outputs": [
        {
          "output_type": "stream",
          "name": "stdout",
          "text": [
            "Root Mean Squared Error:  4763.548937886582\n",
            "Mean Absolute Error:  3570.367368870061\n"
          ]
        }
      ],
      "metadata": {
        "datalore": {
          "type": "CODE",
          "hide_input_from_viewers": false,
          "hide_output_from_viewers": false
        },
        "colab": {
          "base_uri": "https://localhost:8080/"
        },
        "id": "nEudsTudfKwr",
        "outputId": "891710bb-d4fd-451b-eda1-c80a06db5d08"
      }
    },
    {
      "cell_type": "code",
      "source": [
        "from sklearn.metrics import r2_score\n",
        "print(\"R2_sccore =\",r2_score(y_test, y_pred_lr_2))"
      ],
      "execution_count": 49,
      "outputs": [
        {
          "output_type": "stream",
          "name": "stdout",
          "text": [
            "R2_sccore = 0.6724889659334129\n"
          ]
        }
      ],
      "metadata": {
        "datalore": {
          "type": "CODE",
          "hide_input_from_viewers": false,
          "hide_output_from_viewers": false
        },
        "colab": {
          "base_uri": "https://localhost:8080/"
        },
        "id": "qp26lgPEfKwr",
        "outputId": "0fbda5ca-fb82-4be9-dff8-8778cc2deadf"
      }
    },
    {
      "cell_type": "code",
      "source": [
        "print('intercept:', lr.intercept_)\n",
        "print('slope:', lr.coef_)"
      ],
      "execution_count": 50,
      "outputs": [
        {
          "output_type": "stream",
          "name": "stdout",
          "text": [
            "intercept: -84131.86938242314\n",
            "slope: [1400.38617357  225.26702844   89.52281559 -167.53549817]\n"
          ]
        }
      ],
      "metadata": {
        "datalore": {
          "type": "CODE",
          "hide_input_from_viewers": false,
          "hide_output_from_viewers": false
        },
        "colab": {
          "base_uri": "https://localhost:8080/"
        },
        "id": "0mXyFr1BfKwr",
        "outputId": "65dfb789-c726-4d1b-80e1-b2fc1c298b66"
      }
    },
    {
      "cell_type": "markdown",
      "source": [
        "### Polinomijalna regresija"
      ],
      "metadata": {
        "datalore": {
          "type": "MD",
          "hide_input_from_viewers": false,
          "hide_output_from_viewers": false
        },
        "id": "BRv4GR5pfKwr"
      }
    },
    {
      "cell_type": "code",
      "source": [
        "import pandas as pd\n",
        "import numpy as np\n",
        "import matplotlib.pyplot as plt\n",
        "from sklearn.model_selection import train_test_split\n",
        "from sklearn.linear_model import LinearRegression\n",
        "from sklearn import metrics\n",
        "from sklearn.metrics import mean_absolute_error\n",
        "from sklearn.preprocessing import PolynomialFeatures\n",
        "import math"
      ],
      "execution_count": 51,
      "outputs": [],
      "metadata": {
        "datalore": {
          "type": "CODE",
          "hide_input_from_viewers": false,
          "hide_output_from_viewers": false
        },
        "id": "Lzo-gj-bfKwr"
      }
    },
    {
      "cell_type": "code",
      "source": [
        "X = df[['carwidth','carheight','boreratio','stroke','compressionratio','horsepower','peakrpm','highwaympg']]\n",
        "y = df['price']"
      ],
      "execution_count": 52,
      "outputs": [],
      "metadata": {
        "datalore": {
          "type": "CODE",
          "hide_input_from_viewers": false,
          "hide_output_from_viewers": false
        },
        "id": "ZaQfctaEfKwr"
      }
    },
    {
      "cell_type": "code",
      "source": [
        "X_train, X_test, y_train, y_test = train_test_split(X,y, test_size=0.3, random_state=42)"
      ],
      "execution_count": 53,
      "outputs": [],
      "metadata": {
        "datalore": {
          "type": "CODE",
          "hide_input_from_viewers": false,
          "hide_output_from_viewers": false
        },
        "id": "2GmiMJF5fKws"
      }
    },
    {
      "cell_type": "code",
      "source": [
        "\n",
        "poly = PolynomialFeatures(degree=2)\n",
        "X_poly = poly.fit_transform(X_train)\n",
        "poly.fit(X_train, y_train) #Komentar: Šta radi ova linija code-a?\n",
        "poly_features = pd.DataFrame(X_poly)\n",
        "poly_features"
      ],
      "execution_count": 54,
      "outputs": [
        {
          "output_type": "execute_result",
          "data": {
            "text/plain": [
              "      0     1     2     3     4     5      6       7     8        9   ...  \\\n",
              "0    1.0  66.5  53.9  3.31  3.54   8.7   92.0  4200.0  32.0  4422.25  ...   \n",
              "1    1.0  68.0  54.8  3.78  3.12   8.0  175.0  5000.0  24.0  4624.00  ...   \n",
              "2    1.0  66.5  54.9  3.27  3.35  22.5   73.0  4500.0  33.0  4422.25  ...   \n",
              "3    1.0  63.9  50.8  2.91  3.41   9.2   76.0  6000.0  38.0  4083.21  ...   \n",
              "4    1.0  64.8  54.3  3.31  3.19   9.0  121.0  4250.0  28.0  4199.04  ...   \n",
              "..   ...   ...   ...   ...   ...   ...    ...     ...   ...      ...  ...   \n",
              "138  1.0  67.9  49.7  3.43  3.27   9.0  160.0  5200.0  25.0  4610.41  ...   \n",
              "139  1.0  66.9  55.7  3.31  3.19   9.0  121.0  4250.0  25.0  4475.61  ...   \n",
              "140  1.0  63.8  54.5  3.15  3.29   9.4   69.0  5200.0  37.0  4070.44  ...   \n",
              "141  1.0  67.7  52.0  3.27  3.35   9.3  161.0  5200.0  24.0  4583.29  ...   \n",
              "142  1.0  66.5  56.1  3.43  3.27   9.0  152.0  5200.0  22.0  4422.25  ...   \n",
              "\n",
              "         35      36        37     38       39        40      41          42  \\\n",
              "0     75.69   800.4   36540.0  278.4   8464.0  386400.0  2944.0  17640000.0   \n",
              "1     64.00  1400.0   40000.0  192.0  30625.0  875000.0  4200.0  25000000.0   \n",
              "2    506.25  1642.5  101250.0  742.5   5329.0  328500.0  2409.0  20250000.0   \n",
              "3     84.64   699.2   55200.0  349.6   5776.0  456000.0  2888.0  36000000.0   \n",
              "4     81.00  1089.0   38250.0  252.0  14641.0  514250.0  3388.0  18062500.0   \n",
              "..      ...     ...       ...    ...      ...       ...     ...         ...   \n",
              "138   81.00  1440.0   46800.0  225.0  25600.0  832000.0  4000.0  27040000.0   \n",
              "139   81.00  1089.0   38250.0  225.0  14641.0  514250.0  3025.0  18062500.0   \n",
              "140   88.36   648.6   48880.0  347.8   4761.0  358800.0  2553.0  27040000.0   \n",
              "141   86.49  1497.3   48360.0  223.2  25921.0  837200.0  3864.0  27040000.0   \n",
              "142   81.00  1368.0   46800.0  198.0  23104.0  790400.0  3344.0  27040000.0   \n",
              "\n",
              "           43      44  \n",
              "0    134400.0  1024.0  \n",
              "1    120000.0   576.0  \n",
              "2    148500.0  1089.0  \n",
              "3    228000.0  1444.0  \n",
              "4    119000.0   784.0  \n",
              "..        ...     ...  \n",
              "138  130000.0   625.0  \n",
              "139  106250.0   625.0  \n",
              "140  192400.0  1369.0  \n",
              "141  124800.0   576.0  \n",
              "142  114400.0   484.0  \n",
              "\n",
              "[143 rows x 45 columns]"
            ],
            "text/html": [
              "\n",
              "  <div id=\"df-81dcfdf5-af30-41cd-bae6-9ab91ad793c5\">\n",
              "    <div class=\"colab-df-container\">\n",
              "      <div>\n",
              "<style scoped>\n",
              "    .dataframe tbody tr th:only-of-type {\n",
              "        vertical-align: middle;\n",
              "    }\n",
              "\n",
              "    .dataframe tbody tr th {\n",
              "        vertical-align: top;\n",
              "    }\n",
              "\n",
              "    .dataframe thead th {\n",
              "        text-align: right;\n",
              "    }\n",
              "</style>\n",
              "<table border=\"1\" class=\"dataframe\">\n",
              "  <thead>\n",
              "    <tr style=\"text-align: right;\">\n",
              "      <th></th>\n",
              "      <th>0</th>\n",
              "      <th>1</th>\n",
              "      <th>2</th>\n",
              "      <th>3</th>\n",
              "      <th>4</th>\n",
              "      <th>5</th>\n",
              "      <th>6</th>\n",
              "      <th>7</th>\n",
              "      <th>8</th>\n",
              "      <th>9</th>\n",
              "      <th>...</th>\n",
              "      <th>35</th>\n",
              "      <th>36</th>\n",
              "      <th>37</th>\n",
              "      <th>38</th>\n",
              "      <th>39</th>\n",
              "      <th>40</th>\n",
              "      <th>41</th>\n",
              "      <th>42</th>\n",
              "      <th>43</th>\n",
              "      <th>44</th>\n",
              "    </tr>\n",
              "  </thead>\n",
              "  <tbody>\n",
              "    <tr>\n",
              "      <th>0</th>\n",
              "      <td>1.0</td>\n",
              "      <td>66.5</td>\n",
              "      <td>53.9</td>\n",
              "      <td>3.31</td>\n",
              "      <td>3.54</td>\n",
              "      <td>8.7</td>\n",
              "      <td>92.0</td>\n",
              "      <td>4200.0</td>\n",
              "      <td>32.0</td>\n",
              "      <td>4422.25</td>\n",
              "      <td>...</td>\n",
              "      <td>75.69</td>\n",
              "      <td>800.4</td>\n",
              "      <td>36540.0</td>\n",
              "      <td>278.4</td>\n",
              "      <td>8464.0</td>\n",
              "      <td>386400.0</td>\n",
              "      <td>2944.0</td>\n",
              "      <td>17640000.0</td>\n",
              "      <td>134400.0</td>\n",
              "      <td>1024.0</td>\n",
              "    </tr>\n",
              "    <tr>\n",
              "      <th>1</th>\n",
              "      <td>1.0</td>\n",
              "      <td>68.0</td>\n",
              "      <td>54.8</td>\n",
              "      <td>3.78</td>\n",
              "      <td>3.12</td>\n",
              "      <td>8.0</td>\n",
              "      <td>175.0</td>\n",
              "      <td>5000.0</td>\n",
              "      <td>24.0</td>\n",
              "      <td>4624.00</td>\n",
              "      <td>...</td>\n",
              "      <td>64.00</td>\n",
              "      <td>1400.0</td>\n",
              "      <td>40000.0</td>\n",
              "      <td>192.0</td>\n",
              "      <td>30625.0</td>\n",
              "      <td>875000.0</td>\n",
              "      <td>4200.0</td>\n",
              "      <td>25000000.0</td>\n",
              "      <td>120000.0</td>\n",
              "      <td>576.0</td>\n",
              "    </tr>\n",
              "    <tr>\n",
              "      <th>2</th>\n",
              "      <td>1.0</td>\n",
              "      <td>66.5</td>\n",
              "      <td>54.9</td>\n",
              "      <td>3.27</td>\n",
              "      <td>3.35</td>\n",
              "      <td>22.5</td>\n",
              "      <td>73.0</td>\n",
              "      <td>4500.0</td>\n",
              "      <td>33.0</td>\n",
              "      <td>4422.25</td>\n",
              "      <td>...</td>\n",
              "      <td>506.25</td>\n",
              "      <td>1642.5</td>\n",
              "      <td>101250.0</td>\n",
              "      <td>742.5</td>\n",
              "      <td>5329.0</td>\n",
              "      <td>328500.0</td>\n",
              "      <td>2409.0</td>\n",
              "      <td>20250000.0</td>\n",
              "      <td>148500.0</td>\n",
              "      <td>1089.0</td>\n",
              "    </tr>\n",
              "    <tr>\n",
              "      <th>3</th>\n",
              "      <td>1.0</td>\n",
              "      <td>63.9</td>\n",
              "      <td>50.8</td>\n",
              "      <td>2.91</td>\n",
              "      <td>3.41</td>\n",
              "      <td>9.2</td>\n",
              "      <td>76.0</td>\n",
              "      <td>6000.0</td>\n",
              "      <td>38.0</td>\n",
              "      <td>4083.21</td>\n",
              "      <td>...</td>\n",
              "      <td>84.64</td>\n",
              "      <td>699.2</td>\n",
              "      <td>55200.0</td>\n",
              "      <td>349.6</td>\n",
              "      <td>5776.0</td>\n",
              "      <td>456000.0</td>\n",
              "      <td>2888.0</td>\n",
              "      <td>36000000.0</td>\n",
              "      <td>228000.0</td>\n",
              "      <td>1444.0</td>\n",
              "    </tr>\n",
              "    <tr>\n",
              "      <th>4</th>\n",
              "      <td>1.0</td>\n",
              "      <td>64.8</td>\n",
              "      <td>54.3</td>\n",
              "      <td>3.31</td>\n",
              "      <td>3.19</td>\n",
              "      <td>9.0</td>\n",
              "      <td>121.0</td>\n",
              "      <td>4250.0</td>\n",
              "      <td>28.0</td>\n",
              "      <td>4199.04</td>\n",
              "      <td>...</td>\n",
              "      <td>81.00</td>\n",
              "      <td>1089.0</td>\n",
              "      <td>38250.0</td>\n",
              "      <td>252.0</td>\n",
              "      <td>14641.0</td>\n",
              "      <td>514250.0</td>\n",
              "      <td>3388.0</td>\n",
              "      <td>18062500.0</td>\n",
              "      <td>119000.0</td>\n",
              "      <td>784.0</td>\n",
              "    </tr>\n",
              "    <tr>\n",
              "      <th>...</th>\n",
              "      <td>...</td>\n",
              "      <td>...</td>\n",
              "      <td>...</td>\n",
              "      <td>...</td>\n",
              "      <td>...</td>\n",
              "      <td>...</td>\n",
              "      <td>...</td>\n",
              "      <td>...</td>\n",
              "      <td>...</td>\n",
              "      <td>...</td>\n",
              "      <td>...</td>\n",
              "      <td>...</td>\n",
              "      <td>...</td>\n",
              "      <td>...</td>\n",
              "      <td>...</td>\n",
              "      <td>...</td>\n",
              "      <td>...</td>\n",
              "      <td>...</td>\n",
              "      <td>...</td>\n",
              "      <td>...</td>\n",
              "      <td>...</td>\n",
              "    </tr>\n",
              "    <tr>\n",
              "      <th>138</th>\n",
              "      <td>1.0</td>\n",
              "      <td>67.9</td>\n",
              "      <td>49.7</td>\n",
              "      <td>3.43</td>\n",
              "      <td>3.27</td>\n",
              "      <td>9.0</td>\n",
              "      <td>160.0</td>\n",
              "      <td>5200.0</td>\n",
              "      <td>25.0</td>\n",
              "      <td>4610.41</td>\n",
              "      <td>...</td>\n",
              "      <td>81.00</td>\n",
              "      <td>1440.0</td>\n",
              "      <td>46800.0</td>\n",
              "      <td>225.0</td>\n",
              "      <td>25600.0</td>\n",
              "      <td>832000.0</td>\n",
              "      <td>4000.0</td>\n",
              "      <td>27040000.0</td>\n",
              "      <td>130000.0</td>\n",
              "      <td>625.0</td>\n",
              "    </tr>\n",
              "    <tr>\n",
              "      <th>139</th>\n",
              "      <td>1.0</td>\n",
              "      <td>66.9</td>\n",
              "      <td>55.7</td>\n",
              "      <td>3.31</td>\n",
              "      <td>3.19</td>\n",
              "      <td>9.0</td>\n",
              "      <td>121.0</td>\n",
              "      <td>4250.0</td>\n",
              "      <td>25.0</td>\n",
              "      <td>4475.61</td>\n",
              "      <td>...</td>\n",
              "      <td>81.00</td>\n",
              "      <td>1089.0</td>\n",
              "      <td>38250.0</td>\n",
              "      <td>225.0</td>\n",
              "      <td>14641.0</td>\n",
              "      <td>514250.0</td>\n",
              "      <td>3025.0</td>\n",
              "      <td>18062500.0</td>\n",
              "      <td>106250.0</td>\n",
              "      <td>625.0</td>\n",
              "    </tr>\n",
              "    <tr>\n",
              "      <th>140</th>\n",
              "      <td>1.0</td>\n",
              "      <td>63.8</td>\n",
              "      <td>54.5</td>\n",
              "      <td>3.15</td>\n",
              "      <td>3.29</td>\n",
              "      <td>9.4</td>\n",
              "      <td>69.0</td>\n",
              "      <td>5200.0</td>\n",
              "      <td>37.0</td>\n",
              "      <td>4070.44</td>\n",
              "      <td>...</td>\n",
              "      <td>88.36</td>\n",
              "      <td>648.6</td>\n",
              "      <td>48880.0</td>\n",
              "      <td>347.8</td>\n",
              "      <td>4761.0</td>\n",
              "      <td>358800.0</td>\n",
              "      <td>2553.0</td>\n",
              "      <td>27040000.0</td>\n",
              "      <td>192400.0</td>\n",
              "      <td>1369.0</td>\n",
              "    </tr>\n",
              "    <tr>\n",
              "      <th>141</th>\n",
              "      <td>1.0</td>\n",
              "      <td>67.7</td>\n",
              "      <td>52.0</td>\n",
              "      <td>3.27</td>\n",
              "      <td>3.35</td>\n",
              "      <td>9.3</td>\n",
              "      <td>161.0</td>\n",
              "      <td>5200.0</td>\n",
              "      <td>24.0</td>\n",
              "      <td>4583.29</td>\n",
              "      <td>...</td>\n",
              "      <td>86.49</td>\n",
              "      <td>1497.3</td>\n",
              "      <td>48360.0</td>\n",
              "      <td>223.2</td>\n",
              "      <td>25921.0</td>\n",
              "      <td>837200.0</td>\n",
              "      <td>3864.0</td>\n",
              "      <td>27040000.0</td>\n",
              "      <td>124800.0</td>\n",
              "      <td>576.0</td>\n",
              "    </tr>\n",
              "    <tr>\n",
              "      <th>142</th>\n",
              "      <td>1.0</td>\n",
              "      <td>66.5</td>\n",
              "      <td>56.1</td>\n",
              "      <td>3.43</td>\n",
              "      <td>3.27</td>\n",
              "      <td>9.0</td>\n",
              "      <td>152.0</td>\n",
              "      <td>5200.0</td>\n",
              "      <td>22.0</td>\n",
              "      <td>4422.25</td>\n",
              "      <td>...</td>\n",
              "      <td>81.00</td>\n",
              "      <td>1368.0</td>\n",
              "      <td>46800.0</td>\n",
              "      <td>198.0</td>\n",
              "      <td>23104.0</td>\n",
              "      <td>790400.0</td>\n",
              "      <td>3344.0</td>\n",
              "      <td>27040000.0</td>\n",
              "      <td>114400.0</td>\n",
              "      <td>484.0</td>\n",
              "    </tr>\n",
              "  </tbody>\n",
              "</table>\n",
              "<p>143 rows × 45 columns</p>\n",
              "</div>\n",
              "      <button class=\"colab-df-convert\" onclick=\"convertToInteractive('df-81dcfdf5-af30-41cd-bae6-9ab91ad793c5')\"\n",
              "              title=\"Convert this dataframe to an interactive table.\"\n",
              "              style=\"display:none;\">\n",
              "        \n",
              "  <svg xmlns=\"http://www.w3.org/2000/svg\" height=\"24px\"viewBox=\"0 0 24 24\"\n",
              "       width=\"24px\">\n",
              "    <path d=\"M0 0h24v24H0V0z\" fill=\"none\"/>\n",
              "    <path d=\"M18.56 5.44l.94 2.06.94-2.06 2.06-.94-2.06-.94-.94-2.06-.94 2.06-2.06.94zm-11 1L8.5 8.5l.94-2.06 2.06-.94-2.06-.94L8.5 2.5l-.94 2.06-2.06.94zm10 10l.94 2.06.94-2.06 2.06-.94-2.06-.94-.94-2.06-.94 2.06-2.06.94z\"/><path d=\"M17.41 7.96l-1.37-1.37c-.4-.4-.92-.59-1.43-.59-.52 0-1.04.2-1.43.59L10.3 9.45l-7.72 7.72c-.78.78-.78 2.05 0 2.83L4 21.41c.39.39.9.59 1.41.59.51 0 1.02-.2 1.41-.59l7.78-7.78 2.81-2.81c.8-.78.8-2.07 0-2.86zM5.41 20L4 18.59l7.72-7.72 1.47 1.35L5.41 20z\"/>\n",
              "  </svg>\n",
              "      </button>\n",
              "      \n",
              "  <style>\n",
              "    .colab-df-container {\n",
              "      display:flex;\n",
              "      flex-wrap:wrap;\n",
              "      gap: 12px;\n",
              "    }\n",
              "\n",
              "    .colab-df-convert {\n",
              "      background-color: #E8F0FE;\n",
              "      border: none;\n",
              "      border-radius: 50%;\n",
              "      cursor: pointer;\n",
              "      display: none;\n",
              "      fill: #1967D2;\n",
              "      height: 32px;\n",
              "      padding: 0 0 0 0;\n",
              "      width: 32px;\n",
              "    }\n",
              "\n",
              "    .colab-df-convert:hover {\n",
              "      background-color: #E2EBFA;\n",
              "      box-shadow: 0px 1px 2px rgba(60, 64, 67, 0.3), 0px 1px 3px 1px rgba(60, 64, 67, 0.15);\n",
              "      fill: #174EA6;\n",
              "    }\n",
              "\n",
              "    [theme=dark] .colab-df-convert {\n",
              "      background-color: #3B4455;\n",
              "      fill: #D2E3FC;\n",
              "    }\n",
              "\n",
              "    [theme=dark] .colab-df-convert:hover {\n",
              "      background-color: #434B5C;\n",
              "      box-shadow: 0px 1px 3px 1px rgba(0, 0, 0, 0.15);\n",
              "      filter: drop-shadow(0px 1px 2px rgba(0, 0, 0, 0.3));\n",
              "      fill: #FFFFFF;\n",
              "    }\n",
              "  </style>\n",
              "\n",
              "      <script>\n",
              "        const buttonEl =\n",
              "          document.querySelector('#df-81dcfdf5-af30-41cd-bae6-9ab91ad793c5 button.colab-df-convert');\n",
              "        buttonEl.style.display =\n",
              "          google.colab.kernel.accessAllowed ? 'block' : 'none';\n",
              "\n",
              "        async function convertToInteractive(key) {\n",
              "          const element = document.querySelector('#df-81dcfdf5-af30-41cd-bae6-9ab91ad793c5');\n",
              "          const dataTable =\n",
              "            await google.colab.kernel.invokeFunction('convertToInteractive',\n",
              "                                                     [key], {});\n",
              "          if (!dataTable) return;\n",
              "\n",
              "          const docLinkHtml = 'Like what you see? Visit the ' +\n",
              "            '<a target=\"_blank\" href=https://colab.research.google.com/notebooks/data_table.ipynb>data table notebook</a>'\n",
              "            + ' to learn more about interactive tables.';\n",
              "          element.innerHTML = '';\n",
              "          dataTable['output_type'] = 'display_data';\n",
              "          await google.colab.output.renderOutput(dataTable, element);\n",
              "          const docLink = document.createElement('div');\n",
              "          docLink.innerHTML = docLinkHtml;\n",
              "          element.appendChild(docLink);\n",
              "        }\n",
              "      </script>\n",
              "    </div>\n",
              "  </div>\n",
              "  "
            ]
          },
          "metadata": {},
          "execution_count": 54
        }
      ],
      "metadata": {
        "datalore": {
          "type": "CODE",
          "hide_input_from_viewers": false,
          "hide_output_from_viewers": false
        },
        "colab": {
          "base_uri": "https://localhost:8080/",
          "height": 487
        },
        "id": "pbwWZAEwfKws",
        "outputId": "feca3b0c-de29-4b24-d6d0-93290f45b599"
      }
    },
    {
      "cell_type": "code",
      "source": [
        "model = LinearRegression()\n",
        "model.fit(X_poly, y_train)"
      ],
      "execution_count": 55,
      "outputs": [
        {
          "output_type": "execute_result",
          "data": {
            "text/plain": [
              "LinearRegression()"
            ]
          },
          "metadata": {},
          "execution_count": 55
        }
      ],
      "metadata": {
        "datalore": {
          "type": "CODE",
          "hide_input_from_viewers": false,
          "hide_output_from_viewers": false
        },
        "colab": {
          "base_uri": "https://localhost:8080/"
        },
        "id": "Q8DseOexfKws",
        "outputId": "30266089-c0ff-41cc-9169-fd824e8bd486"
      }
    },
    {
      "cell_type": "code",
      "source": [
        "y_pred = model.predict(poly.fit_transform(X_test))"
      ],
      "execution_count": 56,
      "outputs": [],
      "metadata": {
        "datalore": {
          "type": "CODE",
          "hide_input_from_viewers": false,
          "hide_output_from_viewers": false
        },
        "id": "OgJ7Fa8afKws"
      }
    },
    {
      "cell_type": "code",
      "source": [
        "print('Root Mean Squared Error: ', math.sqrt(metrics.mean_squared_error(y_test, y_pred)))\n",
        "print('Mean Absolute Error: ', mean_absolute_error(y_test, y_pred))\n"
      ],
      "execution_count": 57,
      "outputs": [
        {
          "output_type": "stream",
          "name": "stdout",
          "text": [
            "Root Mean Squared Error:  4347.458449593755\n",
            "Mean Absolute Error:  2707.0479749893684\n"
          ]
        }
      ],
      "metadata": {
        "datalore": {
          "type": "CODE",
          "hide_input_from_viewers": false,
          "hide_output_from_viewers": false
        },
        "colab": {
          "base_uri": "https://localhost:8080/"
        },
        "id": "qK5IwPFtfKws",
        "outputId": "d43751d5-88b9-4d42-b1aa-3230e4da498e"
      }
    },
    {
      "cell_type": "code",
      "source": [
        "from sklearn.metrics import r2_score\n",
        "print(\"R2_sccore =\",r2_score( y_test,y_pred))"
      ],
      "execution_count": 58,
      "outputs": [
        {
          "output_type": "stream",
          "name": "stdout",
          "text": [
            "R2_sccore = 0.7272055353633824\n"
          ]
        }
      ],
      "metadata": {
        "datalore": {
          "type": "CODE",
          "hide_input_from_viewers": false,
          "hide_output_from_viewers": false
        },
        "colab": {
          "base_uri": "https://localhost:8080/"
        },
        "id": "090rYAoEfKws",
        "outputId": "6cbeb43b-4cca-4289-aeb3-f441d5517a05"
      }
    },
    {
      "cell_type": "code",
      "source": [
        "print('intercept:', model.intercept_)\n",
        "print('slope:', model.coef_)"
      ],
      "execution_count": 59,
      "outputs": [
        {
          "output_type": "stream",
          "name": "stdout",
          "text": [
            "intercept: -35313634369.198784\n",
            "slope: [ 3.53150435e+10 -6.04279413e+03 -4.05603550e+03 -3.25008539e+05\n",
            " -1.83280022e+05  1.71373937e+03  4.96326017e+02 -1.12230046e+02\n",
            " -3.66939871e+02  6.67319448e+01 -2.23002202e+01  1.00584611e+03\n",
            "  1.49360045e+03  2.43172805e+02 -2.18174381e+01 -6.96825339e-01\n",
            " -1.96085384e+02  4.08173917e+01  9.12819897e+02  1.87199308e+02\n",
            " -2.46150728e+02 -1.33000175e+00 -6.21337130e-02  6.01492155e+00\n",
            "  4.57906768e+03 -5.30498128e+01  8.68256930e+00  2.76118647e+02\n",
            "  1.92989317e+01  1.73524390e+03  3.07244455e+03 -1.32134395e+03\n",
            "  3.14999237e+01  1.06439459e+01  3.52608882e+02 -3.65771234e+01\n",
            "  1.02756142e+01 -5.18135956e-01  9.07539677e+01 -6.55929972e-01\n",
            "  3.81090815e-02 -2.38299695e+00  3.78077447e-03  7.57435680e-01\n",
            "  1.94352921e+01]\n"
          ]
        }
      ],
      "metadata": {
        "datalore": {
          "type": "CODE",
          "hide_input_from_viewers": false,
          "hide_output_from_viewers": false
        },
        "colab": {
          "base_uri": "https://localhost:8080/"
        },
        "id": "cRF4jR9MfKwt",
        "outputId": "c0507532-b589-4cb4-f62a-33770cb5850f"
      }
    },
    {
      "cell_type": "code",
      "source": [
        "import pandas as pd\n",
        "import numpy as np\n",
        "import matplotlib.pyplot as plt\n",
        "from sklearn.model_selection import train_test_split\n",
        "from sklearn.linear_model import LinearRegression\n",
        "from sklearn import metrics\n",
        "from sklearn.metrics import mean_absolute_error\n",
        "from sklearn.preprocessing import PolynomialFeatures\n",
        "import math"
      ],
      "execution_count": 60,
      "outputs": [],
      "metadata": {
        "datalore": {
          "type": "CODE",
          "hide_input_from_viewers": false,
          "hide_output_from_viewers": false
        },
        "id": "5CE4IB5ffKwt"
      }
    },
    {
      "cell_type": "code",
      "source": [
        "X = df[['carwidth','boreratio','horsepower','highwaympg']]\n",
        "y = df['price']"
      ],
      "execution_count": 61,
      "outputs": [],
      "metadata": {
        "datalore": {
          "type": "CODE",
          "hide_input_from_viewers": false,
          "hide_output_from_viewers": false
        },
        "id": "4HCVlqm_fKwt"
      }
    },
    {
      "cell_type": "code",
      "source": [
        "X_train, X_test, y_train, y_test = train_test_split(X,y, test_size=0.3, random_state=42)"
      ],
      "execution_count": 62,
      "outputs": [],
      "metadata": {
        "datalore": {
          "type": "CODE",
          "hide_input_from_viewers": false,
          "hide_output_from_viewers": false
        },
        "id": "RlLs762gfKwt"
      }
    },
    {
      "cell_type": "code",
      "source": [
        "poly = PolynomialFeatures(degree=2)\n",
        "X_poly = poly.fit_transform(X_train)\n",
        "poly.fit(X_train, y_train)"
      ],
      "execution_count": 63,
      "outputs": [
        {
          "output_type": "execute_result",
          "data": {
            "text/plain": [
              "PolynomialFeatures()"
            ]
          },
          "metadata": {},
          "execution_count": 63
        }
      ],
      "metadata": {
        "datalore": {
          "type": "CODE",
          "hide_input_from_viewers": false,
          "hide_output_from_viewers": false
        },
        "colab": {
          "base_uri": "https://localhost:8080/"
        },
        "id": "14XNUTWjfKwt",
        "outputId": "c20dbc6b-016b-40cb-982d-89acb705c4e5"
      }
    },
    {
      "cell_type": "code",
      "source": [
        "model = LinearRegression()\n",
        "model.fit(X_poly, y_train)"
      ],
      "execution_count": 64,
      "outputs": [
        {
          "output_type": "execute_result",
          "data": {
            "text/plain": [
              "LinearRegression()"
            ]
          },
          "metadata": {},
          "execution_count": 64
        }
      ],
      "metadata": {
        "datalore": {
          "type": "CODE",
          "hide_input_from_viewers": false,
          "hide_output_from_viewers": false
        },
        "colab": {
          "base_uri": "https://localhost:8080/"
        },
        "id": "74KDgaVyfKwt",
        "outputId": "0d3794e9-6661-4102-90db-91bb2bf24d46"
      }
    },
    {
      "cell_type": "code",
      "source": [
        "y_pred_pr_2 = model.predict(poly.fit_transform(X_test))"
      ],
      "execution_count": 65,
      "outputs": [],
      "metadata": {
        "datalore": {
          "type": "CODE",
          "hide_input_from_viewers": false,
          "hide_output_from_viewers": false
        },
        "id": "Ad-gQnR6fKwu"
      }
    },
    {
      "cell_type": "code",
      "source": [
        "print('Root Mean Squared Error: ', math.sqrt(metrics.mean_squared_error(y_test, y_pred_pr_2)))\n",
        "print('Mean Absolute Error: ', mean_absolute_error(y_test, y_pred_pr_2))"
      ],
      "execution_count": 66,
      "outputs": [
        {
          "output_type": "stream",
          "name": "stdout",
          "text": [
            "Root Mean Squared Error:  3659.438514998329\n",
            "Mean Absolute Error:  2361.971349633755\n"
          ]
        }
      ],
      "metadata": {
        "datalore": {
          "type": "CODE",
          "hide_input_from_viewers": false,
          "hide_output_from_viewers": false
        },
        "colab": {
          "base_uri": "https://localhost:8080/"
        },
        "id": "1MZ0Og7LfKwu",
        "outputId": "d54041f0-ddf3-4fe8-96e3-e432482ff1a9"
      }
    },
    {
      "cell_type": "code",
      "source": [
        "from sklearn.metrics import r2_score\n",
        "\n",
        "\n",
        "\n",
        "print(\"R2_sccore =\",r2_score( y_test,y_pred_pr_2,))"
      ],
      "execution_count": 67,
      "outputs": [
        {
          "output_type": "stream",
          "name": "stdout",
          "text": [
            "R2_sccore = 0.8067170332841312\n"
          ]
        }
      ],
      "metadata": {
        "datalore": {
          "type": "CODE",
          "hide_input_from_viewers": false,
          "hide_output_from_viewers": false
        },
        "colab": {
          "base_uri": "https://localhost:8080/"
        },
        "id": "TuCjw3u-fKwu",
        "outputId": "b2d4615b-712a-4387-b9ed-bc78ecddc6f1"
      }
    },
    {
      "cell_type": "markdown",
      "source": [
        "## Random forest"
      ],
      "metadata": {
        "datalore": {
          "type": "MD",
          "hide_input_from_viewers": false,
          "hide_output_from_viewers": false
        },
        "id": "rV5q0qUbfKwu"
      }
    },
    {
      "cell_type": "code",
      "source": [
        "import pandas as pd\n",
        "import numpy as np\n",
        "from sklearn.model_selection import train_test_split\n",
        "from sklearn import metrics\n",
        "from sklearn.metrics import mean_absolute_error\n",
        "import math\n",
        "from sklearn.ensemble import RandomForestRegressor"
      ],
      "execution_count": 68,
      "outputs": [],
      "metadata": {
        "datalore": {
          "type": "CODE",
          "hide_input_from_viewers": false,
          "hide_output_from_viewers": false
        },
        "id": "c1lHAdIefKwu"
      }
    },
    {
      "cell_type": "code",
      "source": [
        "X=df[['carwidth','carheight','boreratio','stroke','compressionratio','horsepower','peakrpm','highwaympg']]\n",
        "y=df['price']"
      ],
      "execution_count": 69,
      "outputs": [],
      "metadata": {
        "datalore": {
          "type": "CODE",
          "hide_input_from_viewers": false,
          "hide_output_from_viewers": false
        },
        "id": "nODDs-0mfKwu"
      }
    },
    {
      "cell_type": "code",
      "source": [
        "X_train, X_test, y_train, y_test = train_test_split(X,y, test_size=0.3, random_state=42)"
      ],
      "execution_count": 70,
      "outputs": [],
      "metadata": {
        "datalore": {
          "type": "CODE",
          "hide_input_from_viewers": false,
          "hide_output_from_viewers": false
        },
        "id": "S8emi0W-fKwu"
      }
    },
    {
      "cell_type": "code",
      "source": [
        "regr = RandomForestRegressor(random_state=0, n_estimators=100)"
      ],
      "execution_count": 71,
      "outputs": [],
      "metadata": {
        "datalore": {
          "type": "CODE",
          "hide_input_from_viewers": false,
          "hide_output_from_viewers": false
        },
        "id": "joBvNxrxfKwv"
      }
    },
    {
      "cell_type": "code",
      "source": [
        "regr.fit(X_train, y_train)"
      ],
      "execution_count": 72,
      "outputs": [
        {
          "output_type": "execute_result",
          "data": {
            "text/plain": [
              "RandomForestRegressor(random_state=0)"
            ]
          },
          "metadata": {},
          "execution_count": 72
        }
      ],
      "metadata": {
        "datalore": {
          "type": "CODE",
          "hide_input_from_viewers": false,
          "hide_output_from_viewers": false
        },
        "colab": {
          "base_uri": "https://localhost:8080/"
        },
        "id": "GQ3tUzF-fKwv",
        "outputId": "fed16cdf-308c-46b9-e6e3-791e34c29878"
      }
    },
    {
      "cell_type": "code",
      "source": [
        "y_pred_rf = regr.predict(X_test)"
      ],
      "execution_count": 73,
      "outputs": [],
      "metadata": {
        "datalore": {
          "type": "CODE",
          "hide_input_from_viewers": false,
          "hide_output_from_viewers": false
        },
        "id": "vK1m64xVfKwv"
      }
    },
    {
      "cell_type": "code",
      "source": [
        "print('Root Mean Squared Error: ', math.sqrt(metrics.mean_squared_error(y_test, y_pred_rf)))\n",
        "print('Mean Absolute Error: ', mean_absolute_error(y_test, y_pred_rf))\n",
        "print(\"R2 \",r2_score(y_test,y_pred_rf))"
      ],
      "execution_count": 74,
      "outputs": [
        {
          "output_type": "stream",
          "name": "stdout",
          "text": [
            "Root Mean Squared Error:  2893.6738309132597\n",
            "Mean Absolute Error:  1730.8214585253459\n",
            "R2  0.8791452213681354\n"
          ]
        }
      ],
      "metadata": {
        "datalore": {
          "type": "CODE",
          "hide_input_from_viewers": false,
          "hide_output_from_viewers": false
        },
        "id": "7HoL2RNrfKwv",
        "outputId": "8ff32cf1-ffe8-40ab-b7dc-5966ff9bd8b0",
        "colab": {
          "base_uri": "https://localhost:8080/"
        }
      }
    },
    {
      "cell_type": "code",
      "source": [
        "#Komentar: Uticajnost promenljivih\n",
        "importance=regr.feature_importances_\n",
        "importance"
      ],
      "metadata": {
        "colab": {
          "base_uri": "https://localhost:8080/"
        },
        "id": "cT5-frVVKS5D",
        "outputId": "bc0a1091-a668-4ed0-eaeb-b3d48f7e886a"
      },
      "execution_count": 75,
      "outputs": [
        {
          "output_type": "execute_result",
          "data": {
            "text/plain": [
              "array([0.18599287, 0.01120884, 0.02677954, 0.01504134, 0.01134785,\n",
              "       0.34270217, 0.01976156, 0.38716582])"
            ]
          },
          "metadata": {},
          "execution_count": 75
        }
      ]
    },
    {
      "cell_type": "markdown",
      "source": [
        "## Model2"
      ],
      "metadata": {
        "datalore": {
          "type": "MD",
          "hide_input_from_viewers": false,
          "hide_output_from_viewers": false
        },
        "id": "yk1UJ2jofKwv"
      }
    },
    {
      "cell_type": "code",
      "source": [
        "import pandas as pd\n",
        "import numpy as np\n",
        "from sklearn.model_selection import train_test_split\n",
        "from sklearn import metrics\n",
        "from sklearn.metrics import mean_absolute_error\n",
        "import math\n",
        "from sklearn.ensemble import RandomForestRegressor"
      ],
      "execution_count": 76,
      "outputs": [],
      "metadata": {
        "datalore": {
          "type": "CODE",
          "hide_input_from_viewers": false,
          "hide_output_from_viewers": false
        },
        "id": "TP30waAefKwv"
      }
    },
    {
      "cell_type": "code",
      "source": [
        "X=df[['carwidth','boreratio','horsepower','highwaympg']]\n",
        "y=df['price']"
      ],
      "execution_count": 77,
      "outputs": [],
      "metadata": {
        "datalore": {
          "type": "CODE",
          "hide_input_from_viewers": false,
          "hide_output_from_viewers": false
        },
        "id": "WyD-acuXfKww"
      }
    },
    {
      "cell_type": "code",
      "source": [
        "X_train, X_test, y_train, y_test = train_test_split(X,y, test_size=0.3, random_state=42)"
      ],
      "execution_count": 78,
      "outputs": [],
      "metadata": {
        "datalore": {
          "type": "CODE",
          "hide_input_from_viewers": false,
          "hide_output_from_viewers": false
        },
        "id": "cs3TVzZFfKww"
      }
    },
    {
      "cell_type": "code",
      "source": [
        "regr = RandomForestRegressor(random_state=0, n_estimators=100)"
      ],
      "execution_count": 79,
      "outputs": [],
      "metadata": {
        "datalore": {
          "type": "CODE",
          "hide_input_from_viewers": false,
          "hide_output_from_viewers": false
        },
        "id": "JLEHVawUfKww"
      }
    },
    {
      "cell_type": "code",
      "source": [
        "regr.fit(X_train, y_train)"
      ],
      "execution_count": 80,
      "outputs": [
        {
          "output_type": "execute_result",
          "data": {
            "text/plain": [
              "RandomForestRegressor(random_state=0)"
            ]
          },
          "metadata": {},
          "execution_count": 80
        }
      ],
      "metadata": {
        "datalore": {
          "type": "CODE",
          "hide_input_from_viewers": false,
          "hide_output_from_viewers": false
        },
        "id": "Lbj5gOQHfKww",
        "outputId": "40164d5e-7464-4183-c8e4-f79bbecc03b1",
        "colab": {
          "base_uri": "https://localhost:8080/"
        }
      }
    },
    {
      "cell_type": "code",
      "source": [
        "y_pred_rf_2 = regr.predict(X_test)"
      ],
      "execution_count": 81,
      "outputs": [],
      "metadata": {
        "datalore": {
          "type": "CODE",
          "hide_input_from_viewers": false,
          "hide_output_from_viewers": false
        },
        "id": "U2ZylgaxfKww"
      }
    },
    {
      "cell_type": "code",
      "source": [
        "print('Root Mean Squared Error: ', math.sqrt(metrics.mean_squared_error(y_test, y_pred_rf_2)))\n",
        "print('Mean Absolute Error: ', mean_absolute_error(y_test, y_pred_rf_2))\n",
        "print(\"R2 \",r2_score(y_test,y_pred_rf_2))"
      ],
      "execution_count": 82,
      "outputs": [
        {
          "output_type": "stream",
          "name": "stdout",
          "text": [
            "Root Mean Squared Error:  2966.3787975550526\n",
            "Mean Absolute Error:  1794.5073478448076\n",
            "R2  0.872995856397103\n"
          ]
        }
      ],
      "metadata": {
        "datalore": {
          "type": "CODE",
          "hide_input_from_viewers": false,
          "hide_output_from_viewers": false
        },
        "id": "aiHUXRXAfKww",
        "outputId": "f69717f6-299d-4df5-bf0e-74f95caf79b5",
        "colab": {
          "base_uri": "https://localhost:8080/"
        }
      }
    },
    {
      "cell_type": "code",
      "source": [
        "#Komentar: Uticajnost promenljivih\n",
        "importance=regr.feature_importances_\n",
        "importance"
      ],
      "execution_count": 83,
      "outputs": [
        {
          "output_type": "execute_result",
          "data": {
            "text/plain": [
              "array([0.20466407, 0.04031164, 0.35688523, 0.39813906])"
            ]
          },
          "metadata": {},
          "execution_count": 83
        }
      ],
      "metadata": {
        "datalore": {
          "type": "CODE",
          "hide_input_from_viewers": false,
          "hide_output_from_viewers": false
        },
        "id": "pd-lCStGfKww",
        "colab": {
          "base_uri": "https://localhost:8080/"
        },
        "outputId": "8f598a0c-7900-4eb0-f9dd-cbb1a2e52eb1"
      }
    },
    {
      "cell_type": "code",
      "source": [
        ""
      ],
      "execution_count": 83,
      "outputs": [],
      "metadata": {
        "datalore": {
          "type": "CODE",
          "hide_input_from_viewers": false,
          "hide_output_from_viewers": false
        },
        "id": "qkMs2JHxfKwx"
      }
    }
  ],
  "metadata": {
    "datalore": {
      "version": 1,
      "computation_mode": "JUPYTER",
      "package_manager": "pip",
      "base_environment": "default",
      "packages": []
    },
    "colab": {
      "name": "Projekat iz Alata i tehnika mašinskog učenja - konačna verzija.ipynb",
      "provenance": [],
      "collapsed_sections": []
    },
    "language_info": {
      "name": "python"
    },
    "kernelspec": {
      "name": "python3",
      "display_name": "Python 3"
    }
  },
  "nbformat": 4,
  "nbformat_minor": 0
}